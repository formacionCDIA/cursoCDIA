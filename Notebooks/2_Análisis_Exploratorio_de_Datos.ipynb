{
  "cells": [
    {
      "cell_type": "markdown",
      "metadata": {
        "id": "view-in-github",
        "colab_type": "text"
      },
      "source": [
        "<a href=\"https://colab.research.google.com/github/formacionCDIA/cursoCDIA/blob/main/Notebooks/2_An%C3%A1lisis_Exploratorio_de_Datos.ipynb\" target=\"_parent\"><img src=\"https://colab.research.google.com/assets/colab-badge.svg\" alt=\"Open In Colab\"/></a>"
      ]
    },
    {
      "cell_type": "markdown",
      "id": "695b1067",
      "metadata": {
        "id": "695b1067"
      },
      "source": [
        "---\n",
        "# **Ciencia de datos e Inteligencia Artificial**\n",
        "---\n",
        "# **2. Análisis Exploratorio de datos**\n",
        "\n",
        "## 🎯 Manipulación de datos"
      ]
    },
    {
      "cell_type": "markdown",
      "id": "db123b68",
      "metadata": {
        "id": "db123b68"
      },
      "source": [
        "## 🥇 Pandas\n"
      ]
    },
    {
      "cell_type": "markdown",
      "id": "27716dce",
      "metadata": {
        "id": "27716dce"
      },
      "source": [
        "Para cargar la librería `pandas` y comenzar a trabajar con ella, importar."
      ]
    },
    {
      "cell_type": "code",
      "execution_count": null,
      "id": "0e116c6e",
      "metadata": {
        "id": "0e116c6e"
      },
      "outputs": [],
      "source": [
        "import pandas as pd # Importar pandas con el alias pd"
      ]
    },
    {
      "cell_type": "markdown",
      "source": [
        "El alias acordado por la comunidad es `pd`. Se asume como una práctica estándar para toda la documentación de Pandas."
      ],
      "metadata": {
        "id": "mEaZlltR8RgH"
      },
      "id": "mEaZlltR8RgH"
    },
    {
      "cell_type": "markdown",
      "id": "6cd070c3",
      "metadata": {
        "id": "6cd070c3"
      },
      "source": [
        "### Estructuras de datos\n",
        "Para comenzar a usar la librería, es importante familiarizarse con sus dos estructuras de datos principales:\n",
        "\n",
        "* **Series**\n",
        "* **DataFrame**\n"
      ]
    },
    {
      "cell_type": "markdown",
      "source": [
        "#### Series\n"
      ],
      "metadata": {
        "id": "kQXxhKuqiu7t"
      },
      "id": "kQXxhKuqiu7t"
    },
    {
      "cell_type": "markdown",
      "id": "217f3d65",
      "metadata": {
        "id": "217f3d65"
      },
      "source": [
        "La serie más simple se forma a partir de una lista de datos.\n"
      ]
    },
    {
      "cell_type": "code",
      "execution_count": null,
      "id": "6e40d284",
      "metadata": {
        "id": "6e40d284"
      },
      "outputs": [],
      "source": [
        "s = pd.Series([4, 17, -51, 3], name='Serie A') # Crear serie a partir de una lista = [4, 17, -51, 3]\n",
        "s"
      ]
    },
    {
      "cell_type": "markdown",
      "id": "5d23e747",
      "metadata": {
        "id": "5d23e747"
      },
      "source": [
        "Como no especificamos un índice para los datos, se crea uno predeterminado que consta de los números enteros del 0 al N - 1 (donde N es la cantidad de valores). Para el ejemplo la serie tiene una colección de *N=4* valores, el nombre de la serie es *Serie A* y el indice es una colección de enteros de 0 a 3.\n",
        "\n",
        "Para acceder a la colección de valores y al indice considerar los atributos de la serie `value` e `index` respectivamente:"
      ]
    },
    {
      "cell_type": "code",
      "execution_count": null,
      "id": "047667cb",
      "metadata": {
        "id": "047667cb"
      },
      "outputs": [],
      "source": [
        "s.values # Acceder a la colección de valores"
      ]
    },
    {
      "cell_type": "code",
      "execution_count": null,
      "id": "88add1b5",
      "metadata": {
        "id": "88add1b5"
      },
      "outputs": [],
      "source": [
        "s.index # Acceder a la colección de etiquetas. Indice\n"
      ]
    },
    {
      "cell_type": "markdown",
      "source": [
        "Si necesitas reforzar sobre las estructuras de datos en Python, mirar la notebook **Soporte en CD e IA** de este curso o clicar en [Estructura de datos de la documentación oficial de Python](https://docs.python.org/es/3/tutorial/datastructures.html)."
      ],
      "metadata": {
        "id": "iM8W6KF89P0r"
      },
      "id": "iM8W6KF89P0r"
    },
    {
      "cell_type": "markdown",
      "id": "77988b26",
      "metadata": {
        "id": "77988b26"
      },
      "source": [
        "📝 **Ejercicio**\n",
        "\n",
        "Crea tu primera Serie desde la lista [0,'A','B', 4, 2] . Guardar la serie con el nombre de variable `tiposdedatos_s`.\n",
        "\n",
        "```\n",
        "tiposdedatos_s = ...\n",
        "```\n",
        "\n"
      ]
    },
    {
      "cell_type": "code",
      "execution_count": null,
      "id": "381ce07a",
      "metadata": {
        "id": "381ce07a"
      },
      "outputs": [],
      "source": [
        "# Ejercicio\n",
        "\n"
      ]
    },
    {
      "cell_type": "markdown",
      "id": "d95bf1bc",
      "metadata": {
        "id": "d95bf1bc"
      },
      "source": [
        "**Haz doble click para ver la respuesta**\n",
        "\n",
        "<!--\n",
        "# Crear serie\n",
        "tiposdedatos_s = pd.Series( [0,'A','B', 4, 2])\n",
        "\n",
        "# Mostrar\n",
        "tiposdedatos_s\n",
        " -->"
      ]
    },
    {
      "cell_type": "markdown",
      "id": "5680aa3b",
      "metadata": {
        "id": "5680aa3b"
      },
      "source": [
        "A menudo se desea crear una serie con un índice que identifique cada punto de datos:\n"
      ]
    },
    {
      "cell_type": "code",
      "execution_count": null,
      "id": "7ff70576",
      "metadata": {
        "id": "7ff70576"
      },
      "outputs": [],
      "source": [
        "s = pd.Series ([4, 17, -51, 3], name='Serie A', index=['d', 'b', 'a', 'c']) # Crear serie\n",
        "\n",
        "s"
      ]
    },
    {
      "cell_type": "code",
      "source": [
        "s.values"
      ],
      "metadata": {
        "id": "U-V8NNc--a_h"
      },
      "id": "U-V8NNc--a_h",
      "execution_count": null,
      "outputs": []
    },
    {
      "cell_type": "code",
      "execution_count": null,
      "id": "dfce3720",
      "metadata": {
        "id": "dfce3720"
      },
      "outputs": [],
      "source": [
        "s.index\n"
      ]
    },
    {
      "cell_type": "code",
      "execution_count": null,
      "id": "5bf507cc",
      "metadata": {
        "id": "5bf507cc"
      },
      "outputs": [],
      "source": [
        "s['a'] # Seleccionar el elemento asociado al valor del indice 'a'\n"
      ]
    },
    {
      "cell_type": "code",
      "execution_count": null,
      "id": "d8b76b8a",
      "metadata": {
        "id": "d8b76b8a"
      },
      "outputs": [],
      "source": [
        "s[['c', 'a', 'd']] # Seleccionar el elemento asociado al valor del indice 'a'\n"
      ]
    },
    {
      "cell_type": "code",
      "execution_count": null,
      "id": "0fe56ead",
      "metadata": {
        "id": "0fe56ead"
      },
      "outputs": [],
      "source": [
        "print('Serie original:\\n', s)\n",
        "\n",
        "s['d'] = 6 # Modificar el valor asociado al valor del indice 'd'\n",
        "\n",
        "print('\\nSerie modificada:\\n', s)"
      ]
    },
    {
      "cell_type": "markdown",
      "id": "6d4d0bfd",
      "metadata": {
        "id": "6d4d0bfd"
      },
      "source": [
        "Las operaciones de array de NumPy, también se aplican en serie, como el filtrado con operadores relacional, la multiplicación por escalar o la aplicación de funciones matemáticas, que preservan el vínculo índice-valor:"
      ]
    },
    {
      "cell_type": "code",
      "execution_count": null,
      "id": "291133b0",
      "metadata": {
        "id": "291133b0"
      },
      "outputs": [],
      "source": [
        "s"
      ]
    },
    {
      "cell_type": "code",
      "execution_count": null,
      "id": "5c37c054",
      "metadata": {
        "id": "5c37c054"
      },
      "outputs": [],
      "source": [
        "s[s > 0] # Filtrar los valores mayores a 0. Máscaras"
      ]
    },
    {
      "cell_type": "code",
      "execution_count": null,
      "id": "2b6b2992",
      "metadata": {
        "id": "2b6b2992"
      },
      "outputs": [],
      "source": [
        "\n",
        "s * 2 # Multiplicar por escalar 2"
      ]
    },
    {
      "cell_type": "code",
      "execution_count": null,
      "id": "f5daaaad",
      "metadata": {
        "id": "f5daaaad"
      },
      "outputs": [],
      "source": [
        "s.sum() # Sumar todos los valores. Funciona por ser valores númericos"
      ]
    },
    {
      "cell_type": "markdown",
      "source": [
        "En este curso, no exploramos la librería NumPy pero si deseas hacerlo, clicar en [documentación oficial](https://numpy.org/doc/stable/index.html)."
      ],
      "metadata": {
        "id": "LOh03uRLet8w"
      },
      "id": "LOh03uRLet8w"
    },
    {
      "cell_type": "code",
      "execution_count": null,
      "id": "93e7c132",
      "metadata": {
        "id": "93e7c132"
      },
      "outputs": [],
      "source": [
        "import numpy as np # Importar librería de Numpy para usar sus funciones definidas\n",
        "np.exp(s) # Función exponencial"
      ]
    },
    {
      "cell_type": "markdown",
      "id": "c8dc14d0",
      "metadata": {
        "id": "c8dc14d0"
      },
      "source": [
        "Si tiene datos contenidos en un diccionario de Python, puede crear una serie a partir de ellos pasando el diccionario:"
      ]
    },
    {
      "cell_type": "code",
      "execution_count": null,
      "id": "a21eaaba",
      "metadata": {
        "id": "a21eaaba"
      },
      "outputs": [],
      "source": [
        "\n",
        "superficie_dict = {'Buenos Aires': 305907.4,\n",
        "                   'Córdoba': 164707.8, # Por cada nombre de provincia un valor de superficie [km²] asociado.\n",
        "                   'Salta': 155340.5,\n",
        "                   'Tucumán': 22592.1,\n",
        "                   'La Rioja': 91493.7\n",
        "                   }\n",
        "\n",
        "superficie_s = pd.Series(superficie_dict) # Serie desde dict\n",
        "\n",
        "superficie_s"
      ]
    },
    {
      "cell_type": "markdown",
      "id": "935f0731",
      "metadata": {
        "id": "935f0731"
      },
      "source": [
        "Cuando solo se pasa un diccionario, el índice de la serie resultante se forma con las claves del diccionario en el orden generado.\n"
      ]
    },
    {
      "cell_type": "code",
      "execution_count": null,
      "id": "e00d153f",
      "metadata": {
        "id": "e00d153f"
      },
      "outputs": [],
      "source": [
        "\n",
        "provincias = ['Buenos Aires', 'Córdoba', 'Salta', 'Misiones']\n",
        "\n",
        "superficie_s2 = pd.Series(superficie_s, index=provincias) # Crear serie desde un diccionario e indice\n",
        "\n",
        "superficie_s2"
      ]
    },
    {
      "cell_type": "markdown",
      "id": "13b1519c",
      "metadata": {
        "id": "13b1519c"
      },
      "source": [
        "En este caso, se colocaron 3 valores encontrados en superficie_s en las ubicaciones correspondientes, pero como no se encontró ningún valor para 'Misiones', aparece como `NaN` (Not a Number), que es la manera de identificar valores faltantes en Pandas. El tópico **Valores faltantes** lo veremos en un módulo propio. Por lo pronto te mencionamos dos funciones de las series para detectarlos `isnull` y `notnull`  :"
      ]
    },
    {
      "cell_type": "code",
      "execution_count": null,
      "id": "483859af",
      "metadata": {
        "id": "483859af"
      },
      "outputs": [],
      "source": [
        "pd.isnull(superficie_s2)"
      ]
    },
    {
      "cell_type": "code",
      "source": [
        "superficie_s2.isnull()"
      ],
      "metadata": {
        "id": "HEqEEbTegcF4"
      },
      "id": "HEqEEbTegcF4",
      "execution_count": null,
      "outputs": []
    },
    {
      "cell_type": "code",
      "execution_count": null,
      "id": "8f377bba",
      "metadata": {
        "id": "8f377bba"
      },
      "outputs": [],
      "source": [
        "pd.notnull(superficie_s2)"
      ]
    },
    {
      "cell_type": "code",
      "source": [
        "superficie_s2.notnull()"
      ],
      "metadata": {
        "id": "aO1wfkXAgiuJ"
      },
      "id": "aO1wfkXAgiuJ",
      "execution_count": null,
      "outputs": []
    },
    {
      "cell_type": "markdown",
      "id": "db9d90ef",
      "metadata": {
        "id": "db9d90ef"
      },
      "source": [
        "#### DataFrame\n"
      ]
    },
    {
      "cell_type": "markdown",
      "id": "d290cd2e",
      "metadata": {
        "id": "d290cd2e"
      },
      "source": [
        "Vamos a construir dos objetos series:\n",
        "\n",
        "- `superficie_s`, a partir de un diccionario. Retomamos el ejemplo anterior.\n",
        "\n",
        "- `Poblacion_s`, a partir de dos listas\n",
        "\n",
        "Luego construimos el DataFrame `provincia_df` a partir de las dos Series."
      ]
    },
    {
      "cell_type": "code",
      "execution_count": null,
      "id": "aef182c1",
      "metadata": {
        "id": "aef182c1"
      },
      "outputs": [],
      "source": [
        "\n",
        "superficie_dict = {\n",
        "    'Buenos Aires': 305907.4, # Por cada nombre de provincia un valor de superficie [km²] asociado.\n",
        "    'Córdoba': 164707.8,\n",
        "    'Salta': 155340.5,\n",
        "    'Tucumán': 22592.1,\n",
        "    'La Rioja': 91493.7}\n",
        "\n",
        "\n",
        "superficie_s = pd.Series(superficie_dict, name = 'superficie') # Serie desde dict y le agregamos el nombre\n",
        "superficie_s"
      ]
    },
    {
      "cell_type": "code",
      "execution_count": null,
      "id": "71521c94",
      "metadata": {
        "id": "71521c94"
      },
      "outputs": [],
      "source": [
        "provincia_lista = ['Buenos Aires','Salta','Córdoba', 'Tucumán', 'La Rioja'] # Crear lista 1\n",
        "\n",
        "provincia_pop = [17541141, 1424397, 3760450, 1694656, 393531] # Crear lista 2\n",
        "\n",
        "poblacion_s = pd.Series(provincia_pop, index= provincia_lista, name= 'poblacion')\n",
        "\n",
        "poblacion_s"
      ]
    },
    {
      "cell_type": "code",
      "execution_count": null,
      "id": "10c0a7cf",
      "metadata": {
        "id": "10c0a7cf"
      },
      "outputs": [],
      "source": [
        "print('Colección de valores:',poblacion_s.values) # Mirar atributos de Series\n",
        "print('Colección de etiquetas (indice):',poblacion_s.index)"
      ]
    },
    {
      "cell_type": "markdown",
      "id": "4b3b83de",
      "metadata": {
        "id": "4b3b83de"
      },
      "source": [
        "Para crear un DataFrame desde un diccionario, tener en cuenta que las claves son las etiquetas de las columnas y los valores son los valores de las colecciones asociadas. Para el ejemplo son los valores de las series creadas previamente."
      ]
    },
    {
      "cell_type": "code",
      "execution_count": null,
      "id": "39a086ec",
      "metadata": {
        "id": "39a086ec"
      },
      "outputs": [],
      "source": [
        "provincia_df = pd.DataFrame({'Poblacion':poblacion_s,\n",
        "                             'Superficie_km2':superficie_s\n",
        "                             })# Crear Dataframe\n"
      ]
    },
    {
      "cell_type": "code",
      "execution_count": null,
      "id": "4b84aaed",
      "metadata": {
        "id": "4b84aaed"
      },
      "outputs": [],
      "source": [
        "provincia_df"
      ]
    },
    {
      "cell_type": "markdown",
      "id": "782cffbf",
      "metadata": {
        "id": "782cffbf"
      },
      "source": [
        "📝 **Ejercicio**\n",
        "\n",
        "Crea tu primer DataFrame desde un diccionario. Llamar al objeto DataFrame con el nombre  `estudiantes_df`. Utilizar el siguiente código:\n",
        "\n",
        "```\n",
        "# Importar librería numpy para llamar a random\n",
        "import numpy as np\n",
        "\n",
        "# Diccionario est_d\n",
        "\n",
        "est_d = {\n",
        "  'Nombre': ['Lucas','Marcela','Fede','Sol','Sol'],\n",
        "  'Edad': [49, 26, 37, 40, 35],\n",
        "  'GradoAcademico': ['Bachiller','Licenciado','Magister','Doctorado','Licenciado']\n",
        "}\n",
        "```\n",
        "\n",
        "\n"
      ]
    },
    {
      "cell_type": "code",
      "execution_count": null,
      "id": "15c4d4ed",
      "metadata": {
        "id": "15c4d4ed"
      },
      "outputs": [],
      "source": [
        "# Ejercicio\n",
        "\n"
      ]
    },
    {
      "cell_type": "markdown",
      "id": "9cbb7412",
      "metadata": {
        "id": "9cbb7412"
      },
      "source": [
        "**Haz doble click para ver la respuesta**\n",
        "<!--\n",
        "# Importar librería numpy para llamar a random\n",
        "import numpy as np\n",
        "\n",
        "# Diccionario est_d\n",
        "\n",
        "est_d = {\n",
        "  'Nombre': ['Lucas','Marcela','Fede','Sol','Sol'],\n",
        "  'Edad': [49, 26, 37, 40, 35],\n",
        "  'GradoAcademico': ['Bachiller','Licenciado','Magister','Doctorado','Licenciado']\n",
        "}\n",
        "\n",
        "# Crear DataFrame\n",
        "estudiantes_df = pd.DataFrame(est_d)\n",
        "\n",
        "# Mostrar\n",
        "estudiantes_df\n",
        "-->"
      ]
    },
    {
      "cell_type": "markdown",
      "id": "09bbb415",
      "metadata": {
        "id": "09bbb415"
      },
      "source": [
        "Las columnas de `provincia_df` tienen diferentes tipos de datos:\n"
      ]
    },
    {
      "cell_type": "code",
      "execution_count": null,
      "id": "fa952ab2",
      "metadata": {
        "id": "fa952ab2"
      },
      "outputs": [],
      "source": [
        "provincia_df.dtypes # Llamar al atributo dtypes"
      ]
    },
    {
      "cell_type": "markdown",
      "id": "ca523126",
      "metadata": {
        "id": "ca523126"
      },
      "source": [
        "🔎 **Nota**\n",
        "\n",
        "En su mayor parte, Pandas utiliza arrays y tipos de datos de NumPy para las series o las columnas individuales de un DataFrame. NumPy ofrece compatibilidad con float, int, bool, timedelta64[ns] y datetime64[ns]. Para más información click en [dtypes en documentación oficial de Pandas](https://Pandas.pydata.org/docs/user_guide/basics.html#basics-dtypes) (inglés)."
      ]
    },
    {
      "cell_type": "markdown",
      "id": "8007a9a8",
      "metadata": {
        "id": "8007a9a8"
      },
      "source": [
        "**Atributos y datos subyacentes de DataFrame**"
      ]
    },
    {
      "cell_type": "code",
      "execution_count": null,
      "id": "dbdd0c9a",
      "metadata": {
        "id": "dbdd0c9a"
      },
      "outputs": [],
      "source": [
        "provincia_df.shape # para informar sobre la cantidad de filas y columnas"
      ]
    },
    {
      "cell_type": "code",
      "execution_count": null,
      "id": "f5d5e6ec",
      "metadata": {
        "id": "f5d5e6ec"
      },
      "outputs": [],
      "source": [
        "provincia_df.index # para informar el índice (etiquetas de fila)"
      ]
    },
    {
      "cell_type": "code",
      "execution_count": null,
      "id": "7d51f5e8",
      "metadata": {
        "id": "7d51f5e8"
      },
      "outputs": [],
      "source": [
        "provincia_df.columns # para informar las etiquetas de las columnas"
      ]
    },
    {
      "cell_type": "code",
      "execution_count": null,
      "id": "62998f23",
      "metadata": {
        "id": "62998f23"
      },
      "outputs": [],
      "source": [
        "provincia_df.values # para informar los valores, N-array.\n"
      ]
    },
    {
      "cell_type": "markdown",
      "id": "16086719",
      "metadata": {
        "id": "16086719"
      },
      "source": [
        "### Indexación y selección de datos\n",
        "---\n"
      ]
    },
    {
      "cell_type": "markdown",
      "id": "c49d7b2e",
      "metadata": {
        "id": "c49d7b2e"
      },
      "source": [
        "Cada columna en un `DataFrame` es una `Serie`. Para acceder a una columna :"
      ]
    },
    {
      "cell_type": "code",
      "execution_count": null,
      "id": "93ede9bc",
      "metadata": {
        "id": "93ede9bc"
      },
      "outputs": [],
      "source": [
        "provincia_df['Poblacion'] # Acceder a los datos de la columna cuya etiqueta es 'Poblacion'\n"
      ]
    },
    {
      "cell_type": "code",
      "execution_count": null,
      "id": "2e07b200",
      "metadata": {
        "id": "2e07b200"
      },
      "outputs": [],
      "source": [
        "print('Valores de la serie' , provincia_df['Poblacion'].values)\n",
        "print('Suma de los valores de la serie' , provincia_df['Poblacion'].sum())\n"
      ]
    },
    {
      "cell_type": "markdown",
      "source": [
        "Otra forma, es llamando a la columna como atributo del objeto. Tener en cuenta el '.'"
      ],
      "metadata": {
        "id": "tiWTJvVEVUnl"
      },
      "id": "tiWTJvVEVUnl"
    },
    {
      "cell_type": "code",
      "execution_count": null,
      "id": "b3b3d549",
      "metadata": {
        "id": "b3b3d549"
      },
      "outputs": [],
      "source": [
        "provincia_df.Poblacion"
      ]
    },
    {
      "cell_type": "code",
      "execution_count": null,
      "id": "99862cd8",
      "metadata": {
        "id": "99862cd8"
      },
      "outputs": [],
      "source": [
        "provincia_df['Poblacion']['Buenos Aires']# Acceder al dato de la columna cuya etiqueta es 'Poblacion' y fila cuya etiqueta es 'Buenos Aires' (ver indice del DataFrame)\n"
      ]
    },
    {
      "cell_type": "code",
      "execution_count": null,
      "id": "79c43652",
      "metadata": {
        "id": "79c43652"
      },
      "outputs": [],
      "source": [
        "# Otra forma\n",
        "#provincia_df.Poblacion['Buenos Aires']"
      ]
    },
    {
      "cell_type": "markdown",
      "id": "7e08d1d5",
      "metadata": {
        "id": "7e08d1d5"
      },
      "source": [
        "Las filas también se pueden recuperar por posición o nombre mediante un par de métodos. Usando las posiciones y el método `iloc` o las etiquetas y el método `loc`."
      ]
    },
    {
      "cell_type": "markdown",
      "id": "ea8e2ba6",
      "metadata": {
        "id": "ea8e2ba6"
      },
      "source": [
        "`iloc` se basa principalmente en la posición de números enteros pero también se puede utilizar con un array booleano."
      ]
    },
    {
      "cell_type": "markdown",
      "id": "6b11bcc6",
      "metadata": {
        "id": "6b11bcc6"
      },
      "source": [
        "**Indexación de sola las filas**"
      ]
    },
    {
      "cell_type": "code",
      "execution_count": null,
      "id": "cd9d100e",
      "metadata": {
        "id": "cd9d100e"
      },
      "outputs": [],
      "source": [
        "provincia_df.iloc[0] # Fila en la posicion 0 . En este caso la fila es la asociada a Buenos Aires"
      ]
    },
    {
      "cell_type": "code",
      "execution_count": null,
      "id": "cb528617",
      "metadata": {
        "id": "cb528617"
      },
      "outputs": [],
      "source": [
        "\n",
        "provincia_df.iloc[[0,3]] # Acceder a una lista de filas, filas de la posición 0 y posición 3\n"
      ]
    },
    {
      "cell_type": "code",
      "execution_count": null,
      "id": "19095adb",
      "metadata": {
        "id": "19095adb"
      },
      "outputs": [],
      "source": [
        "provincia_df.iloc[:3:] # acceder a las filas mediante corte (slice)  [ini:fin:pasos]\n"
      ]
    },
    {
      "cell_type": "code",
      "execution_count": null,
      "id": "e12264b5",
      "metadata": {
        "id": "e12264b5"
      },
      "outputs": [],
      "source": [
        "provincia_df.iloc[[True, False, False, False, False]] # Con una máscara booleana de la misma longitud que el índice. En este caso indice es para las 5 filas\n"
      ]
    },
    {
      "cell_type": "markdown",
      "id": "27bd299f",
      "metadata": {
        "id": "27bd299f"
      },
      "source": [
        "**Indexación por fila y columna**\n",
        "\n",
        "Puedes combinar los tipos de indexadores para el índice y las columnas."
      ]
    },
    {
      "cell_type": "code",
      "execution_count": null,
      "id": "6af08a50",
      "metadata": {
        "id": "6af08a50"
      },
      "outputs": [],
      "source": [
        "provincia_df.iloc[0 , 1] # datos de la fila en posición 0 y columna en posición 1\n"
      ]
    },
    {
      "cell_type": "code",
      "execution_count": null,
      "id": "ad2aa2ff",
      "metadata": {
        "id": "ad2aa2ff"
      },
      "outputs": [],
      "source": [
        "provincia_df.iloc[[0,2] , 1] # datos de las filas en posición 0 y 2, columna en posición 1\n"
      ]
    },
    {
      "cell_type": "code",
      "execution_count": null,
      "id": "f8536c52",
      "metadata": {
        "id": "f8536c52"
      },
      "outputs": [],
      "source": [
        "provincia_df.iloc[:3, :1] # Con objeto de corte filas y columnas [ini:fin:pasos , ini:fin:pasos]\n"
      ]
    },
    {
      "cell_type": "markdown",
      "id": "ec612237",
      "metadata": {
        "id": "ec612237"
      },
      "source": [
        "`loc` permite el acceso a un grupo de filas y columnas por etiqueta(s) o un array booleano."
      ]
    },
    {
      "cell_type": "code",
      "execution_count": null,
      "id": "04048980",
      "metadata": {
        "id": "04048980"
      },
      "outputs": [],
      "source": [
        "provincia_df"
      ]
    },
    {
      "cell_type": "code",
      "execution_count": null,
      "id": "735b04df",
      "metadata": {
        "id": "735b04df"
      },
      "outputs": [],
      "source": [
        "provincia_df.loc['Salta'] # Por etiqueta de fila (indice)"
      ]
    },
    {
      "cell_type": "code",
      "execution_count": null,
      "id": "d178df65",
      "metadata": {
        "id": "d178df65"
      },
      "outputs": [],
      "source": [
        "provincia_df.loc[['Salta','Buenos Aires']] # Por lista de etiquetas de filas\n"
      ]
    },
    {
      "cell_type": "code",
      "execution_count": null,
      "id": "0d6dd3f2",
      "metadata": {
        "id": "0d6dd3f2"
      },
      "outputs": [],
      "source": [
        "provincia_df.loc['Salta' ,'Poblacion'] # Por etiqueta de fila y columna [ etiqueta fila (indice) , etiqueta columna ]\n"
      ]
    },
    {
      "cell_type": "code",
      "execution_count": null,
      "id": "257917b1",
      "metadata": {
        "id": "257917b1"
      },
      "outputs": [],
      "source": [
        "provincia_df.loc[['Salta','Buenos Aires'], ['Poblacion']] # Por lista de etiquetas [filas, columnas]"
      ]
    },
    {
      "cell_type": "code",
      "execution_count": null,
      "id": "04bc4482",
      "metadata": {
        "id": "04bc4482"
      },
      "outputs": [],
      "source": [
        "provincia_df.loc[:'Salta':, :'Poblacion'] # Por objeto de corte"
      ]
    },
    {
      "cell_type": "code",
      "execution_count": null,
      "id": "5f9de2d9",
      "metadata": {
        "id": "5f9de2d9"
      },
      "outputs": [],
      "source": [
        "provincia_df.loc[[True, False,False,False,False],[True,False]] # Por lista booleana con la misma longitud que el eje de filas o columnas"
      ]
    },
    {
      "cell_type": "markdown",
      "id": "949c67fa",
      "metadata": {
        "id": "949c67fa"
      },
      "source": [
        "* La principal diferencia que existe entre loc e iloc es que en loc se usan las etiquetas (los nombres asignados tanto a las filas como a las columnas) mientras que en iloc se usan las posiciones de los elementos (la posición en la fila o la columna, comenzado a contar en 0)."
      ]
    },
    {
      "cell_type": "markdown",
      "id": "1cd6b8ae",
      "metadata": {
        "id": "1cd6b8ae"
      },
      "source": [
        "Podemos indexar un DataFrame usando loc y máscaras booleanas\n"
      ]
    },
    {
      "cell_type": "code",
      "execution_count": null,
      "id": "bf8a8f8a",
      "metadata": {
        "id": "bf8a8f8a"
      },
      "outputs": [],
      "source": [
        "provincia_df['Superficie_km2'] > 148008 # Filtrar por operador relacional. 'Superficie_km2' > 148008"
      ]
    },
    {
      "cell_type": "code",
      "execution_count": null,
      "id": "f749e0d7",
      "metadata": {
        "id": "f749e0d7"
      },
      "outputs": [],
      "source": [
        "provincia_df.loc[\n",
        "  provincia_df['Superficie_km2'] > 148008,\n",
        "  ['Poblacion', 'Superficie_km2']\n",
        "                 ] # Por máscara"
      ]
    },
    {
      "cell_type": "code",
      "execution_count": null,
      "id": "4b46b381",
      "metadata": {
        "id": "4b46b381"
      },
      "outputs": [],
      "source": [
        "provincia_df.loc[\n",
        "    provincia_df['Superficie_km2'] > 148008,\n",
        "    ['Poblacion']]"
      ]
    },
    {
      "cell_type": "markdown",
      "id": "c4d8140b",
      "metadata": {
        "id": "c4d8140b"
      },
      "source": [
        "📝 **Ejercicio**\n",
        "\n",
        "Para el DataFrame `provincia_df`, seleccionar las filas cuyos valores de la  columna 'Poblacion' sean mayor o igual a 3 millones (3000000) .\n",
        "\n"
      ]
    },
    {
      "cell_type": "code",
      "execution_count": null,
      "id": "70534c92",
      "metadata": {
        "id": "70534c92"
      },
      "outputs": [],
      "source": [
        "# Ejercicio\n",
        "\n"
      ]
    },
    {
      "cell_type": "markdown",
      "id": "e1bf42f2",
      "metadata": {
        "id": "e1bf42f2"
      },
      "source": [
        "**Haz doble click para ver la respuesta**\n",
        "\n",
        "<!--\n",
        "provincia_df.loc[provincia_df['Poblacion'] > 3000000]\n",
        "-->"
      ]
    },
    {
      "cell_type": "markdown",
      "id": "5217e4fc",
      "metadata": {
        "id": "5217e4fc"
      },
      "source": [
        "Si se desea guardar los datos filtrados del `Dataframe` se puede asignar el resultado del filtrado a una variable"
      ]
    },
    {
      "cell_type": "code",
      "execution_count": null,
      "id": "8f50f54a",
      "metadata": {
        "id": "8f50f54a"
      },
      "outputs": [],
      "source": [
        "\n",
        "provincia_cota_df = provincia_df.loc[ # Nuevo DataFrame\n",
        "    provincia_df['Superficie_km2'] > 148008,\n",
        "    ['Poblacion']\n",
        "    ]\n",
        "\n",
        "# Mostrar\n",
        "provincia_cota_df"
      ]
    },
    {
      "cell_type": "markdown",
      "id": "e9237269",
      "metadata": {
        "id": "e9237269"
      },
      "source": [
        "### Funciones aritméticas y mapeo con Pandas\n",
        "---"
      ]
    },
    {
      "cell_type": "code",
      "execution_count": null,
      "id": "5a4b0725",
      "metadata": {
        "id": "5a4b0725"
      },
      "outputs": [],
      "source": [
        "provincia_df"
      ]
    },
    {
      "cell_type": "markdown",
      "id": "65e3c3cc",
      "metadata": {
        "id": "65e3c3cc"
      },
      "source": [
        "Operaciones aritméticas"
      ]
    },
    {
      "cell_type": "code",
      "execution_count": null,
      "id": "cf576742",
      "metadata": {
        "id": "cf576742"
      },
      "outputs": [],
      "source": [
        "provincia_df['Superficie_km2'] + 10 # Sumar por escalar"
      ]
    },
    {
      "cell_type": "code",
      "execution_count": null,
      "id": "45801fdc",
      "metadata": {
        "id": "45801fdc"
      },
      "outputs": [],
      "source": [
        "provincia_df['Poblacion'] / provincia_df['Superficie_km2'] # Dividir los valores de la columna ' Poblacion' por la columna 'Superficie_km2'\n"
      ]
    },
    {
      "cell_type": "markdown",
      "id": "04e8d8ac",
      "metadata": {
        "id": "04e8d8ac"
      },
      "source": [
        "Funciones aritméticas"
      ]
    },
    {
      "cell_type": "code",
      "execution_count": null,
      "id": "be96dd46",
      "metadata": {
        "id": "be96dd46"
      },
      "outputs": [],
      "source": [
        "provincia_df.sum(axis=0) # Sumar los valores sobre el eje solicitado. Por defecto se aplica sobre las filas.\n"
      ]
    },
    {
      "cell_type": "markdown",
      "id": "bb75814e",
      "metadata": {
        "id": "bb75814e"
      },
      "source": [
        "En Pandas:\n",
        "\n",
        "* axis=0 significa a lo largo de \"índices\". Es una operación por filas.\n",
        "* axis=1 significa a lo largo de \"columnas\". Es una operación por columnas."
      ]
    },
    {
      "cell_type": "code",
      "execution_count": null,
      "id": "8b27f83d",
      "metadata": {
        "id": "8b27f83d"
      },
      "outputs": [],
      "source": [
        "provincia_df.mean() # Calcular la Media de los valores sobre el eje solicitado. Por defecto se aplica sobre las filas.\n"
      ]
    },
    {
      "cell_type": "markdown",
      "source": [
        "Todas las columnas son númericas, por eso no tira error al aplicar `mean()` sobre todo los valores del ``DataFrame`."
      ],
      "metadata": {
        "id": "Dnd3olM8ZOb0"
      },
      "id": "Dnd3olM8ZOb0"
    },
    {
      "cell_type": "code",
      "execution_count": null,
      "id": "82d39b64",
      "metadata": {
        "id": "82d39b64"
      },
      "outputs": [],
      "source": [
        "(provincia_df - provincia_df.mean()) / provincia_df.std() # Combinar operaciones. Estandarización (representar los datos con una media cero y una desviación estándar de 1), de forma muy concisa:\n"
      ]
    },
    {
      "cell_type": "markdown",
      "id": "09013c83",
      "metadata": {
        "id": "09013c83"
      },
      "source": [
        "`map` aplica una función a un DataFrame elemento por elemento.\n",
        "Este método aplica una función que acepta y devuelve un escalar a cada elemento de un DataFrame.\n",
        "\n",
        "Podemos hacerlo utilizando funciones \"lambda\". Se utilizan para crear funciones anónimas. La expresión es:\n",
        "\n",
        "```\n",
        "lambda argumento(s) : expresion\n",
        "```\n",
        "Genera un objeto de función. El objeto sin nombre se comporta como un objeto de función definido con:\n",
        "\n",
        "```\n",
        "def <lambda>(parametros):\n",
        "    return expresion\n",
        "```\n",
        "Para más información sobre `lambda`, click en [expresiones lambda en documentación oficial](https://docs.python.org/3/reference/expressions.html#lambda)\n"
      ]
    },
    {
      "cell_type": "code",
      "execution_count": null,
      "id": "1d9625d5",
      "metadata": {
        "id": "1d9625d5"
      },
      "outputs": [],
      "source": [
        "# con funciones lambda.\n",
        "provincia_df.map(lambda x: round(x,2))"
      ]
    },
    {
      "cell_type": "code",
      "execution_count": null,
      "id": "fb47713f",
      "metadata": {
        "id": "fb47713f"
      },
      "outputs": [],
      "source": [
        "# También es posible utilizar el mapa con funciones que no son funciones lambda:\n",
        "provincia_df.map(round, ndigits=1)"
      ]
    },
    {
      "cell_type": "markdown",
      "id": "1face06c",
      "metadata": {
        "id": "1face06c"
      },
      "source": [
        " `apply`es una función a lo largo de un eje del DataFrame.\n",
        "\n",
        "Los objetos que se pasan a la función son objetos series cuyo índice es el índice del DataFrame (axis=0) o las columnas del DataFrame (axis=1).\n",
        "\n",
        "Para más información, click en [apply en documento oficial](https://pandas.pydata.org/docs/reference/api/pandas.DataFrame.apply.html)"
      ]
    },
    {
      "cell_type": "code",
      "execution_count": null,
      "id": "393e2039",
      "metadata": {
        "id": "393e2039"
      },
      "outputs": [],
      "source": [
        "# Numpy\n",
        "import numpy as np\n",
        "\n",
        "# Aplicar suma por eje fila, axis = 0.\n",
        "provincia_df.apply(np.sum, axis=0)"
      ]
    },
    {
      "cell_type": "code",
      "execution_count": null,
      "id": "2a7675ca",
      "metadata": {
        "id": "2a7675ca"
      },
      "outputs": [],
      "source": [
        "# Aplicar suma por eje fila, axis = 1.\n",
        "provincia_df.apply(np.sum, axis=1)"
      ]
    },
    {
      "cell_type": "code",
      "execution_count": null,
      "id": "d2a9d080",
      "metadata": {
        "id": "d2a9d080"
      },
      "outputs": [],
      "source": [
        "provincia_df['Superficie_km2'].apply(round,ndigits=1)"
      ]
    },
    {
      "cell_type": "markdown",
      "id": "3c977935",
      "metadata": {
        "id": "3c977935"
      },
      "source": [
        "### ✍ Recordatorio\n",
        "\n",
        "* Importar el paquete, también conocido como `import pandas as pd`\n",
        "\n",
        "* Una tabla de datos se almacena como un `DataFrame` de pandas\n",
        "\n",
        "* Cada columna de un `DataFrame` es una `Series`\n",
        "\n",
        "* Puedes hacer operaciones sobre los datos aplicando un método a un `DataFrame` o una `Series`"
      ]
    },
    {
      "cell_type": "markdown",
      "id": "303f8c0e",
      "metadata": {
        "id": "303f8c0e"
      },
      "source": [
        "\n",
        "## 🥇 Manipulación de datos\n"
      ]
    },
    {
      "cell_type": "markdown",
      "id": "360b71cd",
      "metadata": {
        "id": "360b71cd"
      },
      "source": [
        "Python se ha convertido en un lenguaje muy apreciado para la manipulación de textos y archivos debido a su sintaxis sencilla para interactuar con archivos, estructuras de datos intuitivas y funciones prácticas para procesar los datos.\n",
        "\n",
        "A continuación exploraremos e integraremos tecnologías con Python para responder:\n",
        "\n",
        "* Importar y exportar conjuntos de datos.\n",
        "* Ordenar los conjuntos de datos y remodelar su estructura en un formato adecuado para el análisis.\n",
        "\n",
        "\n"
      ]
    },
    {
      "cell_type": "markdown",
      "id": "71aed595",
      "metadata": {
        "id": "71aed595"
      },
      "source": [
        "###  ¿Cómo leer y ecribir datos tabulares?\n"
      ]
    },
    {
      "cell_type": "markdown",
      "id": "42c8dd36",
      "metadata": {
        "id": "42c8dd36"
      },
      "source": [
        "#### Importar archivos\n"
      ]
    },
    {
      "cell_type": "markdown",
      "id": "17a5a6bf",
      "metadata": {
        "id": "17a5a6bf"
      },
      "source": [
        "Para explorar los métodos de Pandas `read_*` vamos a utilizar el conjunto de datos denominados *winemag-data-130k-v2*.\n",
        "\n",
        "* Recuerda: Para acceder a los datos del curso [Github](https://github.com/formacionCDIA/cursoCDIA/tree/main/Data)"
      ]
    },
    {
      "cell_type": "markdown",
      "id": "7f779f95",
      "metadata": {
        "id": "7f779f95"
      },
      "source": [
        "##### Archivos csv\n"
      ]
    },
    {
      "cell_type": "code",
      "execution_count": null,
      "id": "9ed080fa",
      "metadata": {
        "id": "9ed080fa"
      },
      "outputs": [],
      "source": [
        "import pandas as pd # Importar librería"
      ]
    },
    {
      "cell_type": "code",
      "source": [
        "url_base = 'https://raw.githubusercontent.com/formacionCDIA/cursoCDIA/main/Data/'\n",
        "\n",
        "nombre_archivo = 'winemag-data-130k-v2.csv'\n",
        "ruta_archivo = url_base + nombre_archivo"
      ],
      "metadata": {
        "id": "zWNtOeSkuaT3"
      },
      "id": "zWNtOeSkuaT3",
      "execution_count": null,
      "outputs": []
    },
    {
      "cell_type": "code",
      "execution_count": null,
      "id": "04009839",
      "metadata": {
        "id": "04009839"
      },
      "outputs": [],
      "source": [
        "datosCSV_df = pd.read_csv(ruta_archivo) # Leer el achivo csv, el argumento por defecto sep = ‘,’\n",
        "datosCSV_df.head() # Mostrar los primeros registros del dataframe."
      ]
    },
    {
      "cell_type": "markdown",
      "id": "bd46556d",
      "metadata": {
        "id": "bd46556d"
      },
      "source": [
        "Otra opción para evitar columnas"
      ]
    },
    {
      "cell_type": "code",
      "execution_count": null,
      "id": "19db97e7",
      "metadata": {
        "id": "19db97e7"
      },
      "outputs": [],
      "source": [
        "datosCSV_df = pd.read_csv(ruta_archivo, index_col='Unnamed: 0')\n",
        "\n",
        "datosCSV_df.head()"
      ]
    },
    {
      "cell_type": "markdown",
      "id": "07334082",
      "metadata": {
        "id": "07334082"
      },
      "source": [
        "Para más información click en [read_csv en documentación oficial](https://pandas.pydata.org/docs/reference/api/pandas.read_csv.html#pandas.read_csv)"
      ]
    },
    {
      "cell_type": "markdown",
      "id": "f514a5bf",
      "metadata": {
        "id": "f514a5bf"
      },
      "source": [
        "##### Archivos Excel\n"
      ]
    },
    {
      "cell_type": "code",
      "source": [
        "nombre_archivo = 'winemag-data-130k-v2.xlsx'\n",
        "ruta_archivo = url_base + nombre_archivo\n"
      ],
      "metadata": {
        "id": "HEkAVp21uxLT"
      },
      "id": "HEkAVp21uxLT",
      "execution_count": null,
      "outputs": []
    },
    {
      "cell_type": "code",
      "execution_count": null,
      "id": "84284151",
      "metadata": {
        "id": "84284151"
      },
      "outputs": [],
      "source": [
        "datosXLSX_df = pd.read_excel(ruta_archivo) # sheet_name='hoja1'\n",
        "datosXLSX_df.head()"
      ]
    },
    {
      "cell_type": "markdown",
      "id": "df3cb8e6",
      "metadata": {
        "id": "df3cb8e6"
      },
      "source": [
        "Leer archivos Excel con varias hojas no es tan diferente. Solo tienes que especificar un argumento adicional, `sheet_name`, en el que puedes pasar una cadena para el nombre de la hoja o un número entero para la posición de la hoja.\n",
        "\n",
        "Para más información sobre métodos de lectura click en [Funciones de lectura](https://pandas.pydata.org/docs/user_guide/io.html) y  [read_excel en documentación oficial](https://pandas.pydata.org/docs/reference/api/pandas.read_excel.html)\n",
        "\n"
      ]
    },
    {
      "cell_type": "markdown",
      "id": "3a916bd7",
      "metadata": {
        "id": "3a916bd7"
      },
      "source": [
        "#### Exportar archivos\n",
        "---\n",
        "\n",
        "Pandas te permite exportar datos a varios formatos. Esto ocurre especialmente cuando los datos se transforman mediante pandas y necesitan guardarse localmente en tu máquina. A continuación se explica cómo convertir los DataFrames de pandas a csv y excel."
      ]
    },
    {
      "cell_type": "markdown",
      "source": [
        "`to_csv()`\n"
      ],
      "metadata": {
        "id": "g-OAdkgPwLhC"
      },
      "id": "g-OAdkgPwLhC"
    },
    {
      "cell_type": "code",
      "execution_count": null,
      "id": "ca75040c",
      "metadata": {
        "id": "ca75040c"
      },
      "outputs": [],
      "source": [
        "datosCSV_df.to_csv(\"winemag-data-130k-v2_DF.csv\", index=False) # Se guardá en carpeta actual"
      ]
    },
    {
      "cell_type": "markdown",
      "source": [
        "`to_excel()`\n",
        "\n",
        "Considerar los formatos “.xls” o “.xlsx”.\n"
      ],
      "metadata": {
        "id": "FRu-GadSw1iG"
      },
      "id": "FRu-GadSw1iG"
    },
    {
      "cell_type": "code",
      "execution_count": null,
      "id": "916bcedf",
      "metadata": {
        "id": "916bcedf"
      },
      "outputs": [],
      "source": [
        "datosXLSX_df.to_excel(\"winemag-data-130k-v2_DF.xlsx\", index=False) # Se guardá en carpeta actual"
      ]
    },
    {
      "cell_type": "markdown",
      "source": [
        "📝 **Ejercicio**\n",
        "\n",
        "Leer el archivo csv que se encuentra en:\n"
      ],
      "metadata": {
        "id": "SrGyQ33HCLcC"
      },
      "id": "SrGyQ33HCLcC"
    },
    {
      "cell_type": "code",
      "source": [
        "url_base = 'https://raw.githubusercontent.com/formacionCDIA/cursoCDIA/main/Data/'\n",
        "nombre_archivo = 'PredictStudents_data.csv'\n",
        "ruta_archivo = url_base + nombre_archivo\n",
        "ruta_archivo"
      ],
      "metadata": {
        "id": "k-Utp7k5Llqd"
      },
      "id": "k-Utp7k5Llqd",
      "execution_count": null,
      "outputs": []
    },
    {
      "cell_type": "markdown",
      "source": [
        "Guardar los datos en un objeto DataFrame 'data_df'. El separador del archivo es sep= ';'.\n"
      ],
      "metadata": {
        "id": "mUWRPayyMJJs"
      },
      "id": "mUWRPayyMJJs"
    },
    {
      "cell_type": "code",
      "source": [
        "# Solución\n",
        "\n",
        "\n"
      ],
      "metadata": {
        "id": "TDFQdzjkNVCt"
      },
      "id": "TDFQdzjkNVCt",
      "execution_count": null,
      "outputs": []
    },
    {
      "cell_type": "markdown",
      "source": [
        "**Haz doble click para ver la respuesta**\n",
        "\n",
        "<!--\n",
        "import pandas as pd\n",
        "\n",
        "# https://archive.ics.uci.edu/dataset/697/predict+students+dropout+and+academic+success\n",
        "data_df = pd.read_csv(ruta_archivo, sep=';')\n",
        "data_df\n",
        " -->"
      ],
      "metadata": {
        "id": "hPKhUdYKNO0D"
      },
      "id": "hPKhUdYKNO0D"
    },
    {
      "cell_type": "markdown",
      "id": "7a81e3e0",
      "metadata": {
        "id": "7a81e3e0"
      },
      "source": [
        "### ¿Cómo empezar a explorar un conjunto de datos en un `DataFrame` ?\n"
      ]
    },
    {
      "cell_type": "markdown",
      "id": "408792d4",
      "metadata": {
        "id": "408792d4"
      },
      "source": [
        "Continuaremos trabajando con el conjunto de datos `winemag-data-130k-v2.csv`.\n",
        "\n",
        "\n",
        "* Los datos fueron escrapeados de el sitio WineEnthusiast en el año 2017.\n",
        "* Presentan 129971 reseñas de vinos con características sobre la variedad, ubicación, bodega, precio y descripción del vino.\n",
        "\n",
        "Para más información clicar en [Reseña de vino en Kaggle](https://www.kaggle.com/zynicide/wine-reviews/)\n",
        "\n",
        "**Descripción del conjunto de datos**\n",
        "* country: El país de origen del vino.\n",
        "* description\n",
        "* designation: El viñedo dentro de la bodega de donde provienen las uvas que hicieron el vino.\n",
        "* points: La cantidad de puntos que WineEnthusiast calificó al vino en una escala de 1 a 100 (aunque dicen que solo publican reseñas de vinos que puntúan &gt;=80).\n",
        "* price: El costo de una botella de vino.\n",
        "* province: La provincia o estado de donde proviene el vino.\n",
        "* region_1: La zona de cultivo de vino en una provincia o estado (por ejemplo, Napa).\n",
        "* region_2: A veces, hay regiones más específicas especificadas dentro de una zona de cultivo de vino (por ejemplo, Rutherford dentro del Valle de Napa), pero este valor a veces puede estar en blanco.\n",
        "* taster_name\n",
        "* taster_twitter_handle\n",
        "* title: El título de la reseña del vino.\n",
        "* variedad: El tipo de uva utilizada para hacer el vino (por ejemplo, Pinot Noir).\n",
        "* winery: La bodega que elaboró ​​el vino."
      ]
    },
    {
      "cell_type": "code",
      "source": [
        "import pandas as pd"
      ],
      "metadata": {
        "id": "rJkPwdQmGioO"
      },
      "id": "rJkPwdQmGioO",
      "execution_count": null,
      "outputs": []
    },
    {
      "cell_type": "code",
      "source": [
        "url_base = 'https://raw.githubusercontent.com/formacionCDIA/cursoCDIA/main/Data/'\n",
        "\n",
        "nombre_archivo = 'winemag-data-130k-v2.csv'\n",
        "\n",
        "ruta_archivo = url_base + nombre_archivo # Especificar ruta de archicvo csv"
      ],
      "metadata": {
        "id": "6yWpMwJJGwU3"
      },
      "id": "6yWpMwJJGwU3",
      "execution_count": null,
      "outputs": []
    },
    {
      "cell_type": "code",
      "execution_count": null,
      "id": "60cca6c6",
      "metadata": {
        "id": "60cca6c6"
      },
      "outputs": [],
      "source": [
        "reseVino_df = pd.read_csv(ruta_archivo, index_col='Unnamed: 0')"
      ]
    },
    {
      "cell_type": "code",
      "execution_count": null,
      "id": "6efba633",
      "metadata": {
        "id": "6efba633"
      },
      "outputs": [],
      "source": [
        "reseVino_df.head() # Ver 5 primeras filas"
      ]
    },
    {
      "cell_type": "code",
      "source": [
        "reseVino_df.tail() # Ver las últimas 5 filas"
      ],
      "metadata": {
        "id": "ozaareeoHIZl"
      },
      "id": "ozaareeoHIZl",
      "execution_count": null,
      "outputs": []
    },
    {
      "cell_type": "markdown",
      "id": "7e70f519",
      "metadata": {
        "id": "7e70f519"
      },
      "source": [
        "Si quiero especificar la cantidad de filas a ver."
      ]
    },
    {
      "cell_type": "code",
      "execution_count": null,
      "id": "4279ced7",
      "metadata": {
        "id": "4279ced7"
      },
      "outputs": [],
      "source": [
        "reseVino_df.head(2) # Primeras 2 filas"
      ]
    },
    {
      "cell_type": "markdown",
      "source": [
        "tail()"
      ],
      "metadata": {
        "id": "wZ14nJarnxKV"
      },
      "id": "wZ14nJarnxKV"
    },
    {
      "cell_type": "code",
      "execution_count": null,
      "id": "662c8a8d",
      "metadata": {
        "id": "662c8a8d"
      },
      "outputs": [],
      "source": [
        "reseVino_df.tail(10) # Ver 10 últimas filas"
      ]
    },
    {
      "cell_type": "markdown",
      "source": [
        "Un atributo ya visto de un `Dataframe` es `dtypes`"
      ],
      "metadata": {
        "id": "rTfJiOVzHdzc"
      },
      "id": "rTfJiOVzHdzc"
    },
    {
      "cell_type": "code",
      "execution_count": null,
      "id": "06520a23",
      "metadata": {
        "id": "06520a23"
      },
      "outputs": [],
      "source": [
        "reseVino_df.dtypes # Ver tipos de datos"
      ]
    },
    {
      "cell_type": "markdown",
      "id": "c6d0fac2",
      "metadata": {
        "id": "c6d0fac2"
      },
      "source": [
        "En base a los tipos de datos que se cargaron en el Dataframe:\n",
        "* país, descripción, designación, provincia, región_1, región_2, catador_nombre,\n",
        "catador_usuario_twitter, título, variedad, bodega son tipos de datos categorícos, que en python se pueden identificar como de tipo cadena (objeto). Aunque lo ideal sería transformarlos en `category`. Lo veremos más adelante.\n",
        "* puntos y precio son númericos, punto es entero y precio continuo.\n",
        "\n",
        "A simple vista, este conjunto de reseña de vino, estaría cargado correctamente. Para verificar que estos datos estan correctos,trabajar con la documentación asociada.\n",
        "\n",
        "Para reforzar los tipos de datos en python ver las sección de Fundamentos."
      ]
    },
    {
      "cell_type": "markdown",
      "id": "b8539e44",
      "metadata": {
        "id": "b8539e44"
      },
      "source": [
        "Para obtener un resumen técnico del objeto `reseVino_df` que almacena al conjunto de datos, usar el método `info()`"
      ]
    },
    {
      "cell_type": "code",
      "execution_count": null,
      "id": "47e5f20f",
      "metadata": {
        "id": "47e5f20f"
      },
      "outputs": [],
      "source": [
        "reseVino_df.info()"
      ]
    },
    {
      "cell_type": "markdown",
      "id": "8fa3deda",
      "metadata": {
        "id": "8fa3deda"
      },
      "source": [
        "En base a la información compartida por `info`:\n",
        "\n",
        "* Hay 129971  entradas, es decir, 129971  filas.\n",
        "\n",
        "* Cada fila tiene una etiqueta de fila (índice) con valores que van de 0 a 129970.\n",
        "\n",
        "* La tabla tiene 13 columnas. Serían pocas las columnas que tienen el total de valores, es decir, 129971 valores no nulos o faltantes, estás son  las columnas `description`(descripción),`points`(puntos),`title`(título)y `winery`(bodega). En el resto habría valores faltantes.  \n",
        "* Existin distintos tipos de datos de Pandas en el conjunto de datos, objetos, númericos enteros y continuos.\n",
        "\n",
        "* La cantidad aproximada de RAM utilizada para almacenar el DataFrame es de  13.9+ MB."
      ]
    },
    {
      "cell_type": "code",
      "execution_count": null,
      "id": "dcb5ce18",
      "metadata": {
        "id": "dcb5ce18"
      },
      "outputs": [],
      "source": [
        "\n",
        "def resumen_inicial(datos):\n",
        "  \"\"\"\n",
        "  Informa sobre la estructuración de los datos en el objeto DataFrame.\n",
        "\n",
        "  Parámetros:\n",
        "      datos: Objeto de dato, Dataframe.\n",
        "  Retorno:\n",
        "      impresiones en pantalla\n",
        "  Ejemplo:\n",
        "          >>> resumen_inicial(df)\n",
        "\n",
        "  \"\"\"\n",
        "  print(\"Primeras 2 filas\")\n",
        "  display(datos.head(2))\n",
        "  print(\"-----------------------------------------------------------------\")\n",
        "  print(\"Nombres de columnas\")\n",
        "  display(datos.columns)\n",
        "  print(\"-----------------------------------------------------------------\")\n",
        "  print(\"Dimensión\")\n",
        "  display(datos.shape)\n",
        "  print(\"-----------------------------------------------------------------\")\n",
        "  print(\"Resumen técnico\")\n",
        "  display(datos.info())\n",
        "  print(\"-----------------------------------------------------------------\")\n",
        "\n",
        "\n"
      ]
    },
    {
      "cell_type": "markdown",
      "id": "f719ffba",
      "metadata": {
        "id": "f719ffba"
      },
      "source": [
        "Existen distintas funciones para explorar el conjunto de datos en el DataFrame. Teniendo en cuenta la función creada `resumen_inicial`, ordenamos la información que proporcionan diferentes métodos de Pandas."
      ]
    },
    {
      "cell_type": "code",
      "execution_count": null,
      "id": "9abfb447",
      "metadata": {
        "id": "9abfb447"
      },
      "outputs": [],
      "source": [
        "resumen_inicial(reseVino_df)"
      ]
    },
    {
      "cell_type": "markdown",
      "id": "7357a611",
      "metadata": {
        "id": "7357a611"
      },
      "source": [
        "### ¿Cómo seleccionar un subconjunto de datos de un DataFrame?\n",
        "---"
      ]
    },
    {
      "cell_type": "markdown",
      "id": "48a6e4d5",
      "metadata": {
        "id": "48a6e4d5"
      },
      "source": [
        "Deseamos seleccionar los puntos asignados a los vinos (points). Recordemos\n",
        "points representa la cantidad de puntos que WineEnthusiast calificó al vino en una escala de 1 a 100 (aunque dicen que solo publican reseñas de vinos que puntúan >=80).\n"
      ]
    },
    {
      "cell_type": "code",
      "execution_count": null,
      "id": "66d48fdc",
      "metadata": {
        "id": "66d48fdc"
      },
      "outputs": [],
      "source": [
        "punto = reseVino_df[\"points\"] # Seleccionar característica. Guardar serie.\n",
        "\n",
        "punto.head() # Ver los primeros 5 valores"
      ]
    },
    {
      "cell_type": "markdown",
      "id": "8a6366ec",
      "metadata": {
        "id": "8a6366ec"
      },
      "source": [
        "Cada columna de un DataFrame es una serie. Si se selecciona una sola columna, el objeto devuelto es una serie de pandas.\n",
        "\n",
        "Ahora nos interesa los points (puntos) y el country (país) de los vinos del conjunto de datos. Recordemo  que country representa el país de origen del vino."
      ]
    },
    {
      "cell_type": "code",
      "execution_count": null,
      "id": "c6e3a74d",
      "metadata": {
        "id": "c6e3a74d"
      },
      "outputs": [],
      "source": [
        "reseVino_df[[\"country\",\"points\"]] # Seleccionar valores de pais y punto del conjunto de datos\n"
      ]
    },
    {
      "cell_type": "markdown",
      "id": "59e56023",
      "metadata": {
        "id": "59e56023"
      },
      "source": [
        "La selección devolvió un DataFrame. Para verificarlo, se puede utilizar la función de Pandas `type`"
      ]
    },
    {
      "cell_type": "code",
      "execution_count": null,
      "id": "688d654c",
      "metadata": {
        "id": "688d654c"
      },
      "outputs": [],
      "source": [
        "type(reseVino_df[[\"country\",\"points\"]])"
      ]
    },
    {
      "cell_type": "markdown",
      "id": "50aa2b00",
      "metadata": {
        "id": "50aa2b00"
      },
      "source": [
        "Vimos que en en Pandas podemos filtrar por máscara.\n",
        "Seleccionamos todos los vinos con cuyo puntos correspondan al máximo punto del conjunto de datos.\n"
      ]
    },
    {
      "cell_type": "markdown",
      "id": "a406f1d0",
      "metadata": {
        "id": "a406f1d0"
      },
      "source": [
        "Busco el valor máximo en puntos."
      ]
    },
    {
      "cell_type": "code",
      "execution_count": null,
      "id": "cc45da00",
      "metadata": {
        "id": "cc45da00"
      },
      "outputs": [],
      "source": [
        "reseVino_df[\"points\"].max() # Llamar a la función max"
      ]
    },
    {
      "cell_type": "code",
      "execution_count": null,
      "id": "9efc85a6",
      "metadata": {
        "id": "9efc85a6"
      },
      "outputs": [],
      "source": [
        "\n",
        "max_mascara = reseVino_df[\"points\"] == reseVino_df[\"points\"].max() # Definir la máscara de filtro\n",
        "max_mascara\n"
      ]
    },
    {
      "cell_type": "markdown",
      "id": "e05d71c7",
      "metadata": {
        "id": "e05d71c7"
      },
      "source": [
        "\n",
        "La salida de la expresión condicional (==, pero también  !=, <,>, <=,… funcionaría) es en realidad una serie de valores booleanos de pandas (ya sea Verdadero o Falso) con la misma cantidad de filas que el DataFrame original. Dicha serie de valores booleanos se puede utilizar para filtrar el DataFrame colocándolo entre los corchetes de selección []. Solo se seleccionarán las filas para las que el valor sea Verdadero."
      ]
    },
    {
      "cell_type": "code",
      "execution_count": null,
      "id": "271a03f5",
      "metadata": {
        "id": "271a03f5"
      },
      "outputs": [],
      "source": [
        "maxPun_vino_df = reseVino_df[max_mascara] # Guardar y seleccionar vinos en base a la condición  máscara\n",
        "maxPun_vino_df"
      ]
    },
    {
      "cell_type": "markdown",
      "id": "c16bf579",
      "metadata": {
        "id": "c16bf579"
      },
      "source": [
        "`shape` es un atributo de una serie de pandas y un DataFrame que contiene la cantidad de filas y columnas: (nrows, ncolumns). Una serie de pandas es unidimensional y solo se devuelve la cantidad de filas."
      ]
    },
    {
      "cell_type": "code",
      "execution_count": null,
      "id": "4a460545",
      "metadata": {
        "id": "4a460545"
      },
      "outputs": [],
      "source": [
        "maxPun_vino_df.shape"
      ]
    },
    {
      "cell_type": "markdown",
      "id": "9b8e37f0",
      "metadata": {
        "id": "9b8e37f0"
      },
      "source": [
        "\n",
        "Ahora Seleccionemos todos los vinos cuyo origen de país sean de Argentina y Chile. Sabemos que los valores en 'country' contienen a 'Argentina' y 'Chile'."
      ]
    },
    {
      "cell_type": "code",
      "execution_count": null,
      "id": "2bb1f2ce",
      "metadata": {
        "id": "2bb1f2ce"
      },
      "outputs": [],
      "source": [
        "pais_vino_df = reseVino_df[  # Guardar y seleccionar los vinos de los paises definidos\n",
        "    reseVino_df['country'].isin(['Argentina','Chile']) # Condición\n",
        "    ]\n",
        "\n",
        "pais_vino_df.head()"
      ]
    },
    {
      "cell_type": "markdown",
      "id": "7961e67c",
      "metadata": {
        "id": "7961e67c"
      },
      "source": [
        "De manera similar a la expresión condicional, la función condicional `isin` devuelve un valor verdadero para cada fila en la que se encuentran los valores de la lista proporcionada. Para filtrar las filas en función de dicha función, se utiliza la función condicional dentro de los corchetes de selección []. En este caso, la condición dentro de los corchetes de selección `reseVino_df['country'].isin(['Argentina','Chile'])` comprueba para qué filas la columna country es 'Argentina' o 'Chile'.\n",
        "\n",
        "Ahora seleccionemos vinos con determinadas características, es decir filas y columnas del conjunto de datos.\n",
        "\n",
        "Seleccionemos las características de país de origen ('country'), precio('price'), puntos('points') de vinos de Argentina y Chile."
      ]
    },
    {
      "cell_type": "code",
      "execution_count": null,
      "id": "a2faee63",
      "metadata": {
        "id": "a2faee63"
      },
      "outputs": [],
      "source": [
        "pais_vino_df = reseVino_df.loc[\n",
        "     reseVino_df['country'].isin(['Argentina','Chile']), # Condición\n",
        "      ['country','price','points'] # Columnas seleccionadas\n",
        "     ]\n",
        "\n",
        "pais_vino_df.head()"
      ]
    },
    {
      "cell_type": "code",
      "execution_count": null,
      "id": "aadbe5d8",
      "metadata": {
        "id": "aadbe5d8"
      },
      "outputs": [],
      "source": [
        "pais_vino_df.shape"
      ]
    },
    {
      "cell_type": "markdown",
      "id": "e8b92ad6",
      "metadata": {
        "id": "e8b92ad6"
      },
      "source": [
        "En este caso, se crea un subconjunto de filas y columnas de una sola vez y ya no basta con utilizar corchetes de selección []. Se requieren los operadores `loc/iloc` antes de los corchetes de selección []. Al utilizar `loc/iloc`, la parte antes de la coma son las filas que desea seleccionar y la parte después de la coma son las columnas que desea seleccionar."
      ]
    },
    {
      "cell_type": "markdown",
      "id": "f8cf63d6",
      "metadata": {
        "id": "f8cf63d6"
      },
      "source": [
        "Estamos interesadas en las filas 10 a 25 y las columnas 0 a 3."
      ]
    },
    {
      "cell_type": "code",
      "execution_count": null,
      "id": "b766fd1f",
      "metadata": {
        "id": "b766fd1f"
      },
      "outputs": [],
      "source": [
        "reseVino_df.iloc[10:25, 0:3] # Seleccionar registros en base a posiciones\n"
      ]
    },
    {
      "cell_type": "markdown",
      "id": "602d97ab",
      "metadata": {
        "id": "602d97ab"
      },
      "source": [
        "Nuevamente, se crea un subconjunto de filas y columnas de una sola vez y ya no es suficiente usar solo corchetes de selección []. Cuando esté interesado específicamente en ciertas filas y/o columnas en función de su posición en la tabla, use el operador `iloc` delante de los corchetes de selección []."
      ]
    },
    {
      "cell_type": "markdown",
      "id": "49359995",
      "metadata": {
        "id": "49359995"
      },
      "source": [
        "### ¿Cómo crear nuevas columnas derivadas de las columnas existentes en DataFrame?\n"
      ]
    },
    {
      "cell_type": "markdown",
      "id": "0bbfa5aa",
      "metadata": {
        "id": "0bbfa5aa"
      },
      "source": [
        "Hasta ahora hemos guardados selecciones de filas o columnas en variables. Por ejemplo la selección de subconjunto de datos en `maxPun_vino_df` o `pais_vino_df`.\n",
        "\n",
        "Recordemos, que cada columna en un DataFrame es una serie, por lo que podemos llamar a atributos y métodos para generar nuevos valores y almacenarlos como una nueva columna en el DataFrame.\n",
        "Ahora veremos como crear una nueva columna en el DataFrame que llamaremos `stand_price`.\n",
        "\n",
        "\n",
        "\n",
        "```\n",
        "DataFrame['nueva_columna'] = valor\n",
        "```\n",
        "\n",
        "\n",
        "\n"
      ]
    },
    {
      "cell_type": "code",
      "execution_count": null,
      "id": "113d9795",
      "metadata": {
        "id": "113d9795"
      },
      "outputs": [],
      "source": [
        "reseVino_df['stand_price'] = (reseVino_df['price'] - reseVino_df['price'].mean()) /  reseVino_df['price'].std() # # Crear nueva columna. Guardar valores de precio modificado\n",
        "\n",
        "reseVino_df[['price','stand_price']].head()\n"
      ]
    },
    {
      "cell_type": "markdown",
      "id": "982216fd",
      "metadata": {
        "id": "982216fd"
      },
      "source": [
        "Se desea cambiar el nombre de las columnas de datos del DataFrame se puede usar `rename`."
      ]
    },
    {
      "cell_type": "code",
      "execution_count": null,
      "id": "d68f8e5f",
      "metadata": {
        "id": "d68f8e5f"
      },
      "outputs": [],
      "source": [
        "# rename tiene el atributo inplace, por defecto es Falso, que da lugar a crear uno nuevo.\n",
        "# Si es Verdadero, se ignora el valor de la copia, por lo tanto se modifica el Dataframe original\n",
        "reseVino_df.rename(\n",
        "    columns={\n",
        "        \"stand_price\": \"standard_price\"\n",
        "    }\n",
        ")"
      ]
    },
    {
      "cell_type": "markdown",
      "id": "a88fcab0",
      "metadata": {
        "id": "a88fcab0"
      },
      "source": [
        "La función rename() se puede utilizar tanto para etiquetas de filas como de columnas. Proporcione un diccionario con las claves (los nombres actuales) y los valores (los nombres nuevos) para actualizar los nombres correspondientes.Para más información click en [rename en documentación oficial](https://pandas.pydata.org/docs/reference/api/pandas.DataFrame.rename.html#pandas.DataFrame.rename)."
      ]
    },
    {
      "cell_type": "markdown",
      "id": "8768db58",
      "metadata": {
        "id": "8768db58"
      },
      "source": [
        "#### Funciones de Dataframe\n"
      ]
    },
    {
      "cell_type": "markdown",
      "id": "1fa32f33",
      "metadata": {
        "id": "1fa32f33"
      },
      "source": [
        "**Unique**\n",
        "\n",
        "`unique`devuelve los valores unicos en el orden de aparición. Este NO ordena.  Incluye valores NA (valores faltantes). Por ejemplo si quisieras responder:\n",
        "\n",
        "a) ¿De que países de origen provienen los vinos? o ¿Qúe valores distintos (únicos) hay en la columna country ?"
      ]
    },
    {
      "cell_type": "code",
      "execution_count": null,
      "id": "5390e279",
      "metadata": {
        "id": "5390e279"
      },
      "outputs": [],
      "source": [
        "reseVino_df['country'].unique()"
      ]
    },
    {
      "cell_type": "markdown",
      "id": "0f141deb",
      "metadata": {
        "id": "0f141deb"
      },
      "source": [
        "b) ¿ Cuántos valores distintos hay en la columna country ?"
      ]
    },
    {
      "cell_type": "code",
      "execution_count": null,
      "id": "44ec4f13",
      "metadata": {
        "id": "44ec4f13"
      },
      "outputs": [],
      "source": [
        "len(reseVino_df['country'].unique()) # obtener la cantidad de elementos de un objeto.\n"
      ]
    },
    {
      "cell_type": "code",
      "execution_count": null,
      "id": "516c509e",
      "metadata": {
        "id": "516c509e"
      },
      "outputs": [],
      "source": [
        "reseVino_df['country'].nunique() # Contar la cantidad de valores observados.  No cuenta valores faltantes."
      ]
    },
    {
      "cell_type": "markdown",
      "id": "283ce1d5",
      "metadata": {
        "id": "283ce1d5"
      },
      "source": [
        "**value_counts**\n",
        "\n",
        "`value_counts` devuelve una serie que contiene la frecuencia de cada fila distinta en el DataFrame. De manera predeterminada, las filas que contienen valores NA se omiten del resultado. De manera predeterminada, la serie resultante estará en orden descendente, de modo que el primer elemento sea la fila que aparece con mayor frecuencia.\n",
        "Ante la pregunta:"
      ]
    },
    {
      "cell_type": "markdown",
      "id": "1ef23b55",
      "metadata": {
        "id": "1ef23b55"
      },
      "source": [
        "c) ¿ Con qué frecuencia (cuántas veces) aparece cada uno de los paises ?"
      ]
    },
    {
      "cell_type": "code",
      "execution_count": null,
      "id": "7d516684",
      "metadata": {
        "id": "7d516684"
      },
      "outputs": [],
      "source": [
        "reseVino_df['country'].value_counts()"
      ]
    },
    {
      "cell_type": "code",
      "execution_count": null,
      "id": "0ad34f7a",
      "metadata": {
        "id": "0ad34f7a"
      },
      "outputs": [],
      "source": [
        "# normalize = True devuelve proporciones en lugar de frecuencias. Valor predeterminado False.\n",
        "# Multiplicando por 100 obtenemos porcentaje\n",
        "reseVino_df['country'].value_counts(normalize=True)*100"
      ]
    },
    {
      "cell_type": "markdown",
      "id": "3f5c97f5",
      "metadata": {
        "id": "3f5c97f5"
      },
      "source": [
        "Hay distintas estadísticas disponibles que se pueden aplicar a columnas con datos numéricos. Las operaciones en general excluyen los datos faltantes y funcionan en todas las filas de manera predeterminada. Estaremos profundizando en estadística descriptiva en la sección que tiene su nombre. Pero veremos aquí la media (en inglés, *mean*).\n",
        "\n",
        "\n",
        "**mean**\n",
        "\n",
        "`mean` devuelve la media de los valores sobre el eje solicitado. Por defecto el eje `axis = 0` , es decir que por defectos calcula la media de los valores de las filas. Por ejemplo:\n",
        "\n"
      ]
    },
    {
      "cell_type": "code",
      "execution_count": null,
      "id": "8432a086",
      "metadata": {
        "id": "8432a086"
      },
      "outputs": [],
      "source": [
        "reseVino_df[\"price\"].mean()"
      ]
    },
    {
      "cell_type": "markdown",
      "id": "85c75752",
      "metadata": {
        "id": "85c75752"
      },
      "source": [
        "g) ¿ Cuántos vinos tienen un precio por encima de la media ?"
      ]
    },
    {
      "cell_type": "code",
      "execution_count": null,
      "id": "56f5d7ac",
      "metadata": {
        "id": "56f5d7ac"
      },
      "outputs": [],
      "source": [
        "reseVino_df[reseVino_df[\"price\"]>reseVino_df[\"price\"].mean()]"
      ]
    },
    {
      "cell_type": "markdown",
      "id": "2907d5c7",
      "metadata": {
        "id": "2907d5c7"
      },
      "source": [
        "#### Apply\n",
        "Retomando lo visto, utilizaremos el método `apply` de los dataframes de Pandas, nos permite realizar una acción sobre cada fila o columna (sobre un \"axis\") del dataset.\n",
        "Por ejemplo, queremos crear una nueva columna que se llame \"description_len\" y contenga la cantidad de caracteres que hay en cada fila de la columna \"description\".\n"
      ]
    },
    {
      "cell_type": "markdown",
      "id": "457e0e56",
      "metadata": {
        "id": "457e0e56"
      },
      "source": [
        "Por ejemplo deseamos crear una columna, que tenga la cantidad de caracteres que tiene la columna description. Para ello consideramos `pandas.Series.str.len`\n",
        ", que calcula la longitud de cada elemento de la serie/índice. Para más información click en [len en documentación oficial](https://pandas.pydata.org/pandas-docs/version/2.0/reference/api/pandas.Series.str.len.html)\n"
      ]
    },
    {
      "cell_type": "code",
      "execution_count": null,
      "id": "e0d068a6",
      "metadata": {
        "id": "e0d068a6"
      },
      "outputs": [],
      "source": [
        "reseVino_df['description_length'] = reseVino_df['description'].str.len() # Guardar y almacenar la cantidad de caracteres de los valores de 'description'\n",
        "reseVino_df[['description','description_length']].head(2)"
      ]
    },
    {
      "cell_type": "markdown",
      "id": "a866a0bc",
      "metadata": {
        "id": "a866a0bc"
      },
      "source": [
        "Hagamos un enfoque distinto\n",
        "\n",
        "\n",
        "Primero: Definamos una función que cuente los caracteres de un string:"
      ]
    },
    {
      "cell_type": "code",
      "execution_count": null,
      "id": "39c7081d",
      "metadata": {
        "id": "39c7081d"
      },
      "outputs": [],
      "source": [
        "def cantidad_palabras(cadena):\n",
        "  return len(cadena.split(' '))\n"
      ]
    },
    {
      "cell_type": "code",
      "execution_count": null,
      "id": "49d8a826",
      "metadata": {
        "id": "49d8a826"
      },
      "outputs": [],
      "source": [
        "reseVino_df['description_length2'] = reseVino_df['description'].apply(cantidad_palabras) # # Guardar y almacenar la cantidad de caracteres de los valores de 'description' utilizando apply y count_string_len\n"
      ]
    },
    {
      "cell_type": "code",
      "execution_count": null,
      "id": "101f5fa6",
      "metadata": {
        "id": "101f5fa6"
      },
      "outputs": [],
      "source": [
        "\n",
        "reseVino_df[['description','description_length2']].head(2)"
      ]
    },
    {
      "cell_type": "code",
      "execution_count": null,
      "id": "9b8e6358",
      "metadata": {
        "id": "9b8e6358"
      },
      "outputs": [],
      "source": [
        "reseVino_df.iloc[1,]"
      ]
    },
    {
      "cell_type": "markdown",
      "id": "5de740a6",
      "metadata": {
        "id": "5de740a6"
      },
      "source": [
        "Para utilizar apply, no hace falta definir una función aparte. También podemos hacerlo directamente utilizando funciónes \"lambda\":\n"
      ]
    },
    {
      "cell_type": "code",
      "execution_count": null,
      "id": "08553e04",
      "metadata": {
        "id": "08553e04"
      },
      "outputs": [],
      "source": [
        "# Guardar y almacenar la cantidad de caracteres de los valores de 'description' utilizando apply y lambad\n",
        "reseVino_df['description_length3'] = reseVino_df['description'].apply(lambda x: len(x.split(' ')))"
      ]
    },
    {
      "cell_type": "code",
      "execution_count": null,
      "id": "1385f749",
      "metadata": {
        "id": "1385f749"
      },
      "outputs": [],
      "source": [
        "# Mostrar\n",
        "reseVino_df[['description','description_length3']].head(2)"
      ]
    },
    {
      "cell_type": "markdown",
      "source": [
        "📝 **Ejercicio**\n",
        "\n"
      ],
      "metadata": {
        "id": "CjMjt8iu7Ex1"
      },
      "id": "CjMjt8iu7Ex1"
    },
    {
      "cell_type": "markdown",
      "id": "ca4162b5",
      "metadata": {
        "id": "ca4162b5"
      },
      "source": [
        "### ¿Cómo resumir un conjunto de datos de un DataFrame?\n"
      ]
    },
    {
      "cell_type": "markdown",
      "source": [
        "##### Agregar\n",
        "\n",
        "La función `Dataframe.aggregate()` se utiliza para aplicar funciones de agregación en una o más columnas. Algunas de las funciones más utilizadas son las siguientes:\n",
        "* sum: devuelve la suma de los valores del eje solicitado\n",
        "* min: devuelve el mínimo de los valores del eje solicitado\n",
        "* max: devuelve el máximo de los valores del eje solicitado\n",
        "Podemos aplicar la agregación en un DataFrame, df, como `df.aggregate()` o `df.agg()`.\n",
        "\n",
        "Estas funciones de agregación solo funcionan con columnas de tipo numérico, pero también se podrían crear funciones de agregación para trabajar con otros tipos de datos. Si se desea aplicar agregación:\n",
        "\n",
        "\n",
        "```\n",
        "agregacion = df.agg(func)\n",
        "\n",
        "```\n",
        "\n"
      ],
      "metadata": {
        "id": "wdQRxHQUdzIp"
      },
      "id": "wdQRxHQUdzIp"
    },
    {
      "cell_type": "code",
      "source": [
        "# Seleccionar variables númericas\n",
        "numerico_df = reseVino_df[['points','price']]\n",
        "\n",
        "numerico_df. head()"
      ],
      "metadata": {
        "id": "debzHqCwheE8"
      },
      "id": "debzHqCwheE8",
      "execution_count": null,
      "outputs": []
    },
    {
      "cell_type": "code",
      "source": [
        "# Si quiero seleccionar sola las númericas\n",
        "# reseVino_df.select_dtypes(include = 'number') # np.number or 'number'\n"
      ],
      "metadata": {
        "id": "IuMDjwva-Ikv"
      },
      "id": "IuMDjwva-Ikv",
      "execution_count": null,
      "outputs": []
    },
    {
      "cell_type": "code",
      "source": [
        "numerico_df.agg('max') # Agregar para por filas para obtener el max de cada columna. Por defecto axis = 0 (eje de filas).\n"
      ],
      "metadata": {
        "id": "gbrj0XO_hB9s"
      },
      "id": "gbrj0XO_hB9s",
      "execution_count": null,
      "outputs": []
    },
    {
      "cell_type": "code",
      "source": [
        "numerico_df.agg(['sum','min','max'])"
      ],
      "metadata": {
        "id": "ejtMThhFg3e3"
      },
      "id": "ejtMThhFg3e3",
      "execution_count": null,
      "outputs": []
    },
    {
      "cell_type": "code",
      "source": [
        "numerico_df.agg({ #  Diccionario especificar para cada columna. Por defecto axis = 0 (eje de filas)\n",
        "\n",
        "    'points' : ['sum', 'min'], # Para la columna points\n",
        "    'price' : ['min', 'max'] # Para la columna price\n",
        "    }\n",
        "                )\n",
        "\n"
      ],
      "metadata": {
        "id": "lJFNz-3mioGN"
      },
      "id": "lJFNz-3mioGN",
      "execution_count": null,
      "outputs": []
    },
    {
      "cell_type": "markdown",
      "source": [
        "Si no se aplica ninguna agregación específica a una columna entonces le corresponde un valor NaN (faltante)\n"
      ],
      "metadata": {
        "id": "rkUAa4Wi-6lV"
      },
      "id": "rkUAa4Wi-6lV"
    },
    {
      "cell_type": "code",
      "source": [
        "numerico_df.agg('sum', axis=1) # Agregar por columna, suma de cada fila"
      ],
      "metadata": {
        "id": "2JDW_RJwi47J"
      },
      "id": "2JDW_RJwi47J",
      "execution_count": null,
      "outputs": []
    },
    {
      "cell_type": "markdown",
      "source": [
        "##### Agrupar\n",
        "Agrupar datos con pandas usando una clave es una operación común para el análisis de datos.\n",
        "Para agrupar datos usando una clave, usamos el método `groupby()` de un DataFrame y especificamos la columna que queremos usar como clave para agrupar:\n",
        "\n",
        "```\n",
        "agrupado = df.groupby('nombre_columna')\n",
        "```\n",
        "Después de agrupar, normalmente se desea realizar alguna agregación. Las funciones de agregación comunes incluyen las siguientes:\n",
        "* agrupado.sum(): calcula la suma de todas las columnas numéricas\n",
        "* agrupado.mean(): calcula el promedio (media aritmética)\n",
        "* agrupado.count(): cuenta la cantidad de valores no nulos\n",
        "* agrupado.agg(['sum', 'mean', 'count']): aplica varias funciones de agregación a la vez: suma, media y recuento\n",
        "\n",
        "\n",
        "Veamos ejemplos:"
      ],
      "metadata": {
        "id": "YXpgsLlecyED"
      },
      "id": "YXpgsLlecyED"
    },
    {
      "cell_type": "code",
      "execution_count": null,
      "id": "708d5f7e",
      "metadata": {
        "id": "708d5f7e"
      },
      "outputs": [],
      "source": [
        "agrupado_por_country = reseVino_df.groupby('country')\n",
        "agrupado_por_country"
      ]
    },
    {
      "cell_type": "markdown",
      "id": "3cb58fe0",
      "metadata": {
        "id": "3cb58fe0"
      },
      "source": [
        "Vemos que groupby nos devuelve un objeto Pandas.core.groupby.generic.DataFrameGroupBy.\n",
        "\n",
        "Sobre este objeto, podemos aplicar directamente funciones de agregación como:"
      ]
    },
    {
      "cell_type": "code",
      "execution_count": null,
      "id": "8bc0bf2c",
      "metadata": {
        "id": "8bc0bf2c"
      },
      "outputs": [],
      "source": [
        "agrupado_por_country.count().head() # Aplicar count, para cada grupo de categorias de la columna Country contar los valores no nulos asociados\n"
      ]
    },
    {
      "cell_type": "code",
      "execution_count": null,
      "id": "36e1cfc3",
      "metadata": {
        "id": "36e1cfc3",
        "scrolled": true
      },
      "outputs": [],
      "source": [
        "agrupado_por_country.mean().head() # Aplicar mean. Esto funciona para variables númericas\n"
      ]
    },
    {
      "cell_type": "code",
      "source": [
        "agrupado_por_country.mean(numeric_only=True).head() # Aplicar mean para variables númericas"
      ],
      "metadata": {
        "id": "iovp5VK1qIl-"
      },
      "id": "iovp5VK1qIl-",
      "execution_count": null,
      "outputs": []
    },
    {
      "cell_type": "code",
      "source": [
        "agrupado_por_country['points'].mean().head()"
      ],
      "metadata": {
        "id": "Ui07ypbKqjUl"
      },
      "id": "Ui07ypbKqjUl",
      "execution_count": null,
      "outputs": []
    },
    {
      "cell_type": "markdown",
      "id": "53ffa0bb",
      "metadata": {
        "id": "53ffa0bb"
      },
      "source": [
        "También podemos agrupar por múltiples columnas:"
      ]
    },
    {
      "cell_type": "code",
      "execution_count": null,
      "id": "f50db78c",
      "metadata": {
        "id": "f50db78c"
      },
      "outputs": [],
      "source": [
        "\n",
        "agrupado_por_country_prov = reseVino_df.groupby(\n",
        "    ['country', 'province'] # Agrupar por más de 1 columna\n",
        "    )\n",
        "\n",
        "\n",
        "agrupado_por_country_prov.mean(numeric_only=True).head()"
      ]
    },
    {
      "cell_type": "markdown",
      "id": "5e4e4355",
      "metadata": {
        "id": "5e4e4355"
      },
      "source": [
        "Y si no queremos que las variables por las que agrupamos se conviertan en indices y sean una columna más, podemos especificarlo en la función:"
      ]
    },
    {
      "cell_type": "code",
      "execution_count": null,
      "id": "eea7900e",
      "metadata": {
        "id": "eea7900e",
        "scrolled": false
      },
      "outputs": [],
      "source": [
        "agrupado_por_country_prov = reseVino_df.groupby(\n",
        "    ['country', 'province'],\n",
        "    as_index=False # modificar el argumento as_index, que por defecto es as_index = True\n",
        "\n",
        "    )\n",
        "\n",
        "\n",
        "agrupado_por_country_prov.mean(numeric_only=True).head()"
      ]
    },
    {
      "cell_type": "markdown",
      "id": "26fa729d",
      "metadata": {
        "id": "26fa729d"
      },
      "source": [
        "Finalmente, también podemos aplicar distintas funciones de agregación a cada columna.\n",
        "\n",
        "\n",
        "1. Agrupar el conjunto de datos por pais.\n",
        "\n",
        "2. Obtener una columna que tenga el precio medio por país y otra que contenga la sumatoria de puntos. (`.mean()` y `.sum()` )."
      ]
    },
    {
      "cell_type": "code",
      "execution_count": null,
      "id": "57043225",
      "metadata": {
        "id": "57043225"
      },
      "outputs": [],
      "source": [
        "agrupado_por_country = reseVino_df.groupby(\n",
        "    ['country'], # Agrupar por pais\n",
        "    as_index=False\n",
        "    ).agg( # Agregar de manera determinada para price y points\n",
        "\n",
        "    {'price': ['mean'],\n",
        "     'points': ['sum']\n",
        "     }\n",
        "    )\n",
        "\n",
        "agrupado_por_country.columns = [\"Country\",'Price mean', 'Points sum'] # Modificar nombre de columna\n",
        "\n",
        "agrupado_por_country.head()"
      ]
    },
    {
      "cell_type": "markdown",
      "source": [
        "Nota Prácticas recomendadas para agrupar\n",
        "Al agrupar datos en Pandas, hay varias cosas que se deben tener en cuenta para garantizar resultados precisos:\n",
        "• datos faltantes: tenga en cuenta los datos faltantes en las columnas utilizadas para agrupar. Pandas excluirá las filas con datos faltantes del resultado agrupado, lo que puede afectar los cálculos finales.\n",
        "• MultiIndex: al agrupar por varias columnas, Pandas devuelve un índice jerárquico (MultiIndex). Familiarícese con el trabajo con MultiIndex y considere restablecer el índice si es necesario, como lo hemos estado haciendo para simplificar.\n",
        "• Orden de operaciones: el orden en el que realiza agrupaciones y agregaciones puede afectar los resultados. Tenga en cuenta la secuencia en la que aplica las funciones de agrupación y agregación.\n",
        "• Agrupación de conjuntos de datos grandes: para conjuntos de datos grandes, la agrupación puede consumir mucha memoria. Considere usar técnicas como fragmentación o procesamiento paralelo para administrar el uso de memoria y el tiempo de cálculo."
      ],
      "metadata": {
        "id": "U4kmpQbB_gsa"
      },
      "id": "U4kmpQbB_gsa"
    },
    {
      "cell_type": "code",
      "execution_count": null,
      "id": "28966cdd",
      "metadata": {
        "id": "28966cdd",
        "scrolled": true
      },
      "outputs": [],
      "source": [
        "print(\"Tabla Ascendente por Points\")\n",
        "display(agrupado_por_country.sort_values(by=['Points sum'], ascending=[True]).head())\n",
        "print(\"\")\n",
        "print(\"--------------------------------\")\n",
        "print(\"\")\n",
        "print(\"Tabla Descendente por Points\")\n",
        "display(agrupado_por_country.sort_values(by=['Points sum'], ascending=[False]).head())"
      ]
    },
    {
      "cell_type": "markdown",
      "source": [
        "##### Reorganizar\n"
      ],
      "metadata": {
        "id": "P-EkArR1akb5"
      },
      "id": "P-EkArR1akb5"
    },
    {
      "cell_type": "markdown",
      "source": [
        "###### Tablas dinámicas (Pivot)\n",
        "La función `pivot_table()` crea una tabla dinámica de estilo hoja de cálculo como `DataFrame`.\n",
        "Los niveles de la tabla dinámica se almacenarán en objetos MultiIndex (índices jerárquicos) en el índice y las columnas del `DataFrame`. Se requiere un único valor para cada combinación de índice/columna.\n",
        "\n",
        "\n",
        "\n",
        "```\n",
        "pd.pivot_table(data, values, index, columns, aggfunc ...)\n",
        "\n",
        "```\n",
        "En términos de sintaxis, el expresion anterior representa lo siguiente:\n",
        "* data :  un conjunto de datos .\n",
        "* values : son las columnas a las que se aplicará la función de agregación. Por defecto la función de agregación es mean()\n",
        "* index : es una columna para agrupar datos. Claves por las que se agruparán en el índice de la tabla dinámica.\n",
        "* columns: columnas para especificar la categoría de los datos.\n",
        "* aggfunc es la función de agregación que se aplicará.\n",
        "\n",
        "Entre otros argumentos.  Para más información click en [pivot table en documentación oficial](https://pandas.pydata.org/docs/reference/api/pandas.pivot_table.html)"
      ],
      "metadata": {
        "id": "0BRbF7v2_JmG"
      },
      "id": "0BRbF7v2_JmG"
    },
    {
      "cell_type": "code",
      "source": [
        "reseVino_df.columns"
      ],
      "metadata": {
        "id": "6EongAd6EakN"
      },
      "id": "6EongAd6EakN",
      "execution_count": null,
      "outputs": []
    },
    {
      "cell_type": "code",
      "source": [
        "pd.pivot_table(reseVino_df[reseVino_df['country'].isin(['Argentina','Chile'])], values=['points','price'], index =['variety'], columns=['country'])"
      ],
      "metadata": {
        "id": "6Xr-jCtn-mv1"
      },
      "id": "6Xr-jCtn-mv1",
      "execution_count": null,
      "outputs": []
    },
    {
      "cell_type": "markdown",
      "source": [
        "📝 **Ejercicio**"
      ],
      "metadata": {
        "id": "a7f-8Tzr7NbY"
      },
      "id": "a7f-8Tzr7NbY"
    },
    {
      "cell_type": "markdown",
      "id": "db9d18dd",
      "metadata": {
        "id": "db9d18dd"
      },
      "source": [
        "### ¿Cómo combinar datos de varias tablas?\n"
      ]
    },
    {
      "cell_type": "markdown",
      "source": [
        "\n",
        "##### Concatenación de DataFrames\n",
        "Cuando tienes conjuntos de datos distribuidos en varios DataFrames con estructuras similares (las mismas columnas o las mismas filas) y quieres combinarlos en un único DataFrame, aquí es donde la concatenación resulta muy útil. El proceso de concatenación puede realizarse a lo largo de un eje en particular, ya sea por filas (eje=0) o por columnas (eje=1).\n",
        "\n",
        "La función `concat()` se utiliza para concatenar lista de `DataFrames` o lista de `Series`.  Veamos ejemplo:"
      ],
      "metadata": {
        "id": "YhY2vVzIh4A2"
      },
      "id": "YhY2vVzIh4A2"
    },
    {
      "cell_type": "code",
      "source": [
        "\n",
        "df1 = reseVino_df[['country','price']].head(2)\n",
        "display('DF1 ',df1)\n",
        "print(\"--------------------------------\")\n",
        "df2 = reseVino_df[['country','price','points']].tail(2)\n",
        "display('DF2 ',df2)"
      ],
      "metadata": {
        "id": "E_sgK53ngrlD"
      },
      "id": "E_sgK53ngrlD",
      "execution_count": null,
      "outputs": []
    },
    {
      "cell_type": "code",
      "source": [
        "pd.concat([df1,df2]) # Concatenar lista de DataFrames. Por defecto axis=0, se concatenan filas, apilando los DataFrames uno sobre el otro.\n"
      ],
      "metadata": {
        "id": "Thm4FT_1hiV2"
      },
      "id": "Thm4FT_1hiV2",
      "execution_count": null,
      "outputs": []
    },
    {
      "cell_type": "code",
      "source": [
        "df1 = reseVino_df[['country','price']].head(10)\n",
        "display('DF1',df1)\n",
        "print(\"--------------------------------\")\n",
        "df2 = reseVino_df[['points','variety']].head(10)\n",
        "display('DF2',df2)"
      ],
      "metadata": {
        "id": "SZuUHK8Qk_xd"
      },
      "id": "SZuUHK8Qk_xd",
      "execution_count": null,
      "outputs": []
    },
    {
      "cell_type": "code",
      "source": [
        "pd.concat([df1,df2], axis = 1) # Concatenar lista de DataFrames. axis=1, se concatenan columnas, se agregan columnas teniendo en cuenta el indice del Dataframe\n"
      ],
      "metadata": {
        "id": "-rEhBK8knKPs"
      },
      "id": "-rEhBK8knKPs",
      "execution_count": null,
      "outputs": []
    },
    {
      "cell_type": "markdown",
      "source": [
        "##### Fusión de DataFrames\n",
        "La función `merge()` admite múltiples opciones de unión similares a las operaciones de estilo de base de datos. Fusiona objetos `DataFrame` o `Serie` con nombre con una unión de estilo base de datos.\n",
        "\n",
        "https://pandas.pydata.org/docs/reference/api/pandas.merge.html#pandas.merge\n",
        "\n",
        "\n",
        "Estos son los siguientes tipos de uniones:\n",
        "* La unión interna toma la intersección de dos o más `DataFrame` o `Serie`. Corresponde a la UNIÓN INTERNA en el lenguaje de consulta estructurado (SQL).\n",
        "* La ​​unión externa toma la unión de dos o más `DataFrame` o `Serie`. Corresponde a la UNIÓN EXTERNA COMPLETA en SQL.\n",
        "* La unión izquierda usa solo las claves del `DataFrame` o `Serie` izquierdo. Corresponde a la UNIÓN EXTERNA IZQUIERDA en SQL.\n",
        "* La unión derecha usa solo las claves del `DataFrame` o `Serie` derecho. Corresponde a la UNIÓN EXTERNA DERECHA en SQL.\n"
      ],
      "metadata": {
        "id": "mUFCa800pq4A"
      },
      "id": "mUFCa800pq4A"
    },
    {
      "cell_type": "code",
      "source": [
        "\n",
        "import numpy as np\n",
        "np.random.seed(1)\n",
        "\n",
        "\n",
        "ids = np.arange(1,reseVino_df.shape[0]+1) # Crear ID en orden\n",
        "\n",
        "\n",
        "reseVino_df['ID'] = ids # Crear DF\n",
        "df1 = reseVino_df[['ID','country','price']].head(5)\n",
        "\n",
        "display('DF1',df1)\n",
        "print(\"--------------------------------\")\n",
        "df2 = reseVino_df[['ID','points','variety']].head(15)\n",
        "display('DF2',df2)"
      ],
      "metadata": {
        "id": "mlVQskmTpoRy"
      },
      "id": "mlVQskmTpoRy",
      "execution_count": null,
      "outputs": []
    },
    {
      "cell_type": "code",
      "source": [
        "datos_inner_df = pd.merge(df1, df2, on='ID', how='inner')\n",
        "datos_inner_df"
      ],
      "metadata": {
        "id": "-ylJx1VopohT"
      },
      "id": "-ylJx1VopohT",
      "execution_count": null,
      "outputs": []
    },
    {
      "cell_type": "markdown",
      "source": [
        "Como vemos en el fragmento de código anterior, la función `pd.merge()` se utiliza para fusionar los dos DataFrames. El argumento `on='ID'` especifica que la columna ID debe utilizarse como clave para unir los DataFrames. El argumento `how='inner'`especifica que debe realizarse una unión interna. Este tipo de unión devuelve solo las filas que tienen valores coincidentes en ambos DataFrames, que, en este caso, son las filas en las que ID coincide tanto en df1 como en df2."
      ],
      "metadata": {
        "id": "Zp3rH528z9d7"
      },
      "id": "Zp3rH528z9d7"
    },
    {
      "cell_type": "code",
      "source": [
        "datos_outer_df = pd.merge(df1, df2, on='ID', how='outer')\n",
        "datos_outer_df"
      ],
      "metadata": {
        "id": "MNwhsBpWz8g7"
      },
      "id": "MNwhsBpWz8g7",
      "execution_count": null,
      "outputs": []
    },
    {
      "cell_type": "markdown",
      "source": [
        "Como vemos en el fragmento de código anterior, el argumento `on='ID'` especifica que la columna ID debe utilizarse como clave en la que fusionar los `DataFrames`. El argumento `how='outer'` especifica que debe realizarse una unión externa completa. Este tipo de unión devuelve todas las filas de ambos `DataFrames`, completando NaN donde no hay coincidencia."
      ],
      "metadata": {
        "id": "A49uMV_41NTU"
      },
      "id": "A49uMV_41NTU"
    },
    {
      "cell_type": "code",
      "source": [
        "datos_right_df = pd.merge(df1, df2, on='ID', how='right')\n",
        "datos_right_df"
      ],
      "metadata": {
        "id": "w0x08H39pow2"
      },
      "id": "w0x08H39pow2",
      "execution_count": null,
      "outputs": []
    },
    {
      "cell_type": "markdown",
      "source": [
        "El argumento `how='right'` especifica que se debe realizar una unión externa derecha. Este tipo de unión devuelve todas las filas del DataFrame derecho (df1) y las filas coincidentes del DataFrame izquierdo (df2). Si no hay coincidencia, el resultado tendrá NaN en las columnas del DataFrame izquierdo."
      ],
      "metadata": {
        "id": "7YWIf7Ha2kXW"
      },
      "id": "7YWIf7Ha2kXW"
    },
    {
      "cell_type": "code",
      "source": [
        "datos_left_df = pd.merge(df1, df2, on='ID', how='left')\n",
        "datos_left_df"
      ],
      "metadata": {
        "id": "myEIWL8m2jwa"
      },
      "id": "myEIWL8m2jwa",
      "execution_count": null,
      "outputs": []
    },
    {
      "cell_type": "markdown",
      "source": [
        "El argumento `how='left'` especifica que se debe realizar una unión externa izquierda. Este tipo de unión devuelve todas las filas del DataFrame izquierdo (df2) y las filas coincidentes del DataFrame derecho (df1). Si no hay coincidencias, el resultado tendrá NaN en las columnas del DataFrame derecho."
      ],
      "metadata": {
        "id": "Dldezfp53TvH"
      },
      "id": "Dldezfp53TvH"
    },
    {
      "cell_type": "markdown",
      "source": [
        "#### Nota\n",
        "\n",
        "Manejo de duplicados al fusionar conjuntos de datos\n",
        "El manejo de claves duplicadas antes de realizar operaciones de fusión es fundamental porque los duplicados pueden generar resultados inesperados, como productos cartesianos, donde las filas se multiplican por la cantidad de entradas coincidentes. Esto no solo puede distorsionar el análisis de datos, sino que también afecta significativamente el rendimiento debido al mayor tamaño del DataFrame resultante."
      ],
      "metadata": {
        "id": "U4wPEPH_3tSH"
      },
      "id": "U4wPEPH_3tSH"
    },
    {
      "cell_type": "markdown",
      "source": [
        "📝 **Ejercicio**"
      ],
      "metadata": {
        "id": "r0HU-trO7dOY"
      },
      "id": "r0HU-trO7dOY"
    },
    {
      "cell_type": "markdown",
      "id": "9b76990b",
      "metadata": {
        "id": "9b76990b"
      },
      "source": [
        "### ¿Cómo manejar los datos de series temporales?\n"
      ]
    },
    {
      "cell_type": "code",
      "source": [
        "from datetime import datetime\n",
        "import pandas as pd"
      ],
      "metadata": {
        "id": "LfobgQcu6TaI"
      },
      "id": "LfobgQcu6TaI",
      "execution_count": null,
      "outputs": []
    },
    {
      "cell_type": "code",
      "source": [
        "fecha_inicial = datetime.strptime(\"2000-01-01\", \"%Y-%m-%d\") # fecha inicial\n",
        "fecha_final = datetime.strptime(\"2024-12-31\", \"%Y-%m-%d\") # fecha final\n",
        "print(fecha_inicial, fecha_final)"
      ],
      "metadata": {
        "id": "gBdMXNMs6Trd"
      },
      "id": "gBdMXNMs6Trd",
      "execution_count": null,
      "outputs": []
    },
    {
      "cell_type": "code",
      "source": [
        "type(fecha_inicial)"
      ],
      "metadata": {
        "id": "bsMBC-lgJomh"
      },
      "id": "bsMBC-lgJomh",
      "execution_count": null,
      "outputs": []
    },
    {
      "cell_type": "code",
      "source": [
        "lista_fechas = pd.date_range(\n",
        "    start = fecha_inicial,\n",
        "    end = fecha_final\n",
        "    ) # Por defecto la frecuencia es freq=D de días\n",
        "\n",
        "print(lista_fechas)"
      ],
      "metadata": {
        "id": "jp5yEFw5JRwt"
      },
      "id": "jp5yEFw5JRwt",
      "execution_count": null,
      "outputs": []
    },
    {
      "cell_type": "markdown",
      "source": [
        "En este primer ejemplo importamos la librería `datetime` y `pandas`  y utlizamos `datetime.strptime` y `pd.date_range()`.\n",
        "\n",
        "El módulo `datetime`, integrado con Python, se utiliza para trabajar con  fechas, horas o intervalos de tiempo. Proporciona clases y métodos para fecha y hora.\n",
        "\n"
      ],
      "metadata": {
        "id": "nq_WPPDtNQsG"
      },
      "id": "nq_WPPDtNQsG"
    },
    {
      "cell_type": "code",
      "source": [
        "?datetime.strptime"
      ],
      "metadata": {
        "id": "MFtgE57TR82P"
      },
      "id": "MFtgE57TR82P",
      "execution_count": null,
      "outputs": []
    },
    {
      "cell_type": "markdown",
      "source": [
        "En Python, podemos utilizar el método `datetime.strptime()` para convertir una cadena en un objeto datetime. El método strptime() toma dos argumentos: la cadena que se va a convertir y una cadena de formato que especifica el formato de la cadena de entrada."
      ],
      "metadata": {
        "id": "CL3pjdwNTN7H"
      },
      "id": "CL3pjdwNTN7H"
    },
    {
      "cell_type": "code",
      "source": [
        "?pd.date_range"
      ],
      "metadata": {
        "id": "XPluT06WTNI_"
      },
      "id": "XPluT06WTNI_",
      "execution_count": null,
      "outputs": []
    },
    {
      "cell_type": "markdown",
      "source": [
        "El método `pd.date_range()` devuelve un rango de tiempo igualmente espaciado `start <[=] x <[=] end`. Devuelve un DatetimeIndex de frecuencia fija.\n"
      ],
      "metadata": {
        "id": "Uq8lNOuvTkud"
      },
      "id": "Uq8lNOuvTkud"
    },
    {
      "cell_type": "markdown",
      "source": [
        "Para trabajar más en detalle con datos de series de tiempo, veamos el conjunto de datos *certificados-personas-por-fecha-ingreso-provincia-localidad.csv*\n",
        "que se corresponde a los certificados de circulación emitidos para ir de vacaciones durante la emergencia sanitaria en Argentina. Para más detalle del archivo, click en [datos.gob.ar](https://datos.gob.ar/bg/dataset/turismo-certificado-unico-habilitante-para-circulacion-cuhc---verano)\n",
        "\n"
      ],
      "metadata": {
        "id": "s-WmaYR2IYCG"
      },
      "id": "s-WmaYR2IYCG"
    },
    {
      "cell_type": "code",
      "execution_count": null,
      "id": "a8ab4e7e",
      "metadata": {
        "id": "a8ab4e7e"
      },
      "outputs": [],
      "source": [
        "import pandas as pd"
      ]
    },
    {
      "cell_type": "code",
      "source": [
        "url_base = 'https://raw.githubusercontent.com/acanavire/CD_IA_test/main/Data/'\n",
        "\n",
        "nombre_archivo = 'certificados-personas-por-fecha-ingreso-provincia-localidad.csv'\n",
        "\n",
        "ruta_archivo = url_base + nombre_archivo\n"
      ],
      "metadata": {
        "id": "GUGz1Rv9WqQO"
      },
      "id": "GUGz1Rv9WqQO",
      "execution_count": null,
      "outputs": []
    },
    {
      "cell_type": "code",
      "execution_count": null,
      "id": "f72cd2e2",
      "metadata": {
        "id": "f72cd2e2"
      },
      "outputs": [],
      "source": [
        "certif_df = pd.read_csv(ruta_archivo)\n",
        "certif_df.head(5)"
      ]
    },
    {
      "cell_type": "code",
      "execution_count": null,
      "id": "48d72885",
      "metadata": {
        "id": "48d72885"
      },
      "outputs": [],
      "source": [
        "certif_df.info()"
      ]
    },
    {
      "cell_type": "markdown",
      "source": [
        "#### Uso de las propiedades datetime de pandas\n",
        "\n",
        "Queremos trabajar con las fechas en la columna 'fecha_ingreso' como objetos datetime en lugar de texto sin formato"
      ],
      "metadata": {
        "id": "khv0ALBvYA3M"
      },
      "id": "khv0ALBvYA3M"
    },
    {
      "cell_type": "code",
      "execution_count": null,
      "id": "8318060c",
      "metadata": {
        "id": "8318060c"
      },
      "outputs": [],
      "source": [
        "pd.to_datetime('2025-01-10') # año-mes-dia"
      ]
    },
    {
      "cell_type": "code",
      "execution_count": null,
      "id": "f63ddb77",
      "metadata": {
        "id": "f63ddb77"
      },
      "outputs": [],
      "source": [
        "pd.to_datetime('25-01-10')"
      ]
    },
    {
      "cell_type": "code",
      "execution_count": null,
      "id": "cb587e3d",
      "metadata": {
        "id": "cb587e3d"
      },
      "outputs": [],
      "source": [
        "pd.to_datetime('10-01-2025') # Es correcto?"
      ]
    },
    {
      "cell_type": "code",
      "source": [
        "pd.to_datetime('10-01-2025', dayfirst= True)"
      ],
      "metadata": {
        "id": "1M6GT9dzZFO9"
      },
      "id": "1M6GT9dzZFO9",
      "execution_count": null,
      "outputs": []
    },
    {
      "cell_type": "code",
      "execution_count": null,
      "id": "4c53f6f6",
      "metadata": {
        "id": "4c53f6f6"
      },
      "outputs": [],
      "source": [
        "pd.to_datetime('10-01-2025',format='%d-%m-%Y')"
      ]
    },
    {
      "cell_type": "markdown",
      "source": [
        "Inicialmente, los valores en datetime son cadenas de caracteres y no proporcionan ninguna operación de fecha y hora (p. ej., extraer el año, el día de la semana, etc.). Al aplicar la función `to_datetime`, pandas interpreta las cadenas y las convierte en objetos de fecha y hora (es decir, datetime64[ns, UTC])."
      ],
      "metadata": {
        "id": "PnAmaRGqZGf8"
      },
      "id": "PnAmaRGqZGf8"
    },
    {
      "cell_type": "markdown",
      "source": [
        "Para nuestro conjunto de datos"
      ],
      "metadata": {
        "id": "74ct51xsZmtI"
      },
      "id": "74ct51xsZmtI"
    },
    {
      "cell_type": "code",
      "execution_count": null,
      "id": "09a74a5f",
      "metadata": {
        "id": "09a74a5f"
      },
      "outputs": [],
      "source": [
        "certif_df['fecha_ingreso_transf']=pd.to_datetime(certif_df['fecha_ingreso'])"
      ]
    },
    {
      "cell_type": "code",
      "execution_count": null,
      "id": "6892e711",
      "metadata": {
        "id": "6892e711"
      },
      "outputs": [],
      "source": [
        "certif_df.dtypes"
      ]
    },
    {
      "cell_type": "code",
      "execution_count": null,
      "id": "bd2acbc1",
      "metadata": {
        "id": "bd2acbc1"
      },
      "outputs": [],
      "source": [
        "certif_df.info()"
      ]
    },
    {
      "cell_type": "code",
      "execution_count": null,
      "id": "e4b11f0a",
      "metadata": {
        "id": "e4b11f0a"
      },
      "outputs": [],
      "source": [
        "def transforma_fecha(x):\n",
        "  return pd.to_datetime(x, format='%Y-%m-%d')"
      ]
    },
    {
      "cell_type": "code",
      "execution_count": null,
      "id": "d96d3ef1",
      "metadata": {
        "id": "d96d3ef1"
      },
      "outputs": [],
      "source": [
        "certif_df2 = pd.read_csv(ruta_archivo,date_parser=transforma_fecha) #lambda x: pd.to_datetime(x)\n",
        "certif_df2"
      ]
    },
    {
      "cell_type": "code",
      "execution_count": null,
      "id": "9b33bf5a",
      "metadata": {
        "id": "9b33bf5a"
      },
      "outputs": [],
      "source": [
        "certif_df2.dtypes"
      ]
    },
    {
      "cell_type": "code",
      "execution_count": null,
      "id": "28593c31",
      "metadata": {
        "id": "28593c31"
      },
      "outputs": [],
      "source": [
        "certif_df2 = pd.read_csv(ruta_archivo,parse_dates=['fecha_ingreso'],date_parser=lambda x: pd.to_datetime(x))#lambda x: pd.to_datetime(x)\n",
        "certif_df2"
      ]
    },
    {
      "cell_type": "code",
      "execution_count": null,
      "id": "8f08dff6",
      "metadata": {
        "id": "8f08dff6"
      },
      "outputs": [],
      "source": [
        "certif_df2.dtypes"
      ]
    },
    {
      "cell_type": "code",
      "execution_count": null,
      "id": "d18c3c62",
      "metadata": {
        "id": "d18c3c62"
      },
      "outputs": [],
      "source": [
        "certif_df2 = pd.read_csv(ruta_archivo,date_parser=lambda x: pd.to_datetime(x), index_col=\"fecha_ingreso\")\n",
        "certif_df2"
      ]
    },
    {
      "cell_type": "code",
      "execution_count": null,
      "id": "32ec323c",
      "metadata": {
        "id": "32ec323c"
      },
      "outputs": [],
      "source": [
        "certif_df2.index"
      ]
    },
    {
      "cell_type": "code",
      "execution_count": null,
      "id": "33804013",
      "metadata": {
        "id": "33804013"
      },
      "outputs": [],
      "source": [
        "# Al trabajar con indice fecha\n",
        "certif_df2.loc[\"2020-12-01\"].head(5)"
      ]
    },
    {
      "cell_type": "code",
      "source": [
        "certif_df2[\"2020-12-01\":\"2020-12-10\"]"
      ],
      "metadata": {
        "id": "Y_X7hIbEcLHN"
      },
      "id": "Y_X7hIbEcLHN",
      "execution_count": null,
      "outputs": []
    },
    {
      "cell_type": "markdown",
      "source": [
        "Veamos ahora como trabajar con partes de una fecha"
      ],
      "metadata": {
        "id": "D0KKVye6a6wY"
      },
      "id": "D0KKVye6a6wY"
    },
    {
      "cell_type": "code",
      "execution_count": null,
      "id": "4cfaf84b",
      "metadata": {
        "id": "4cfaf84b"
      },
      "outputs": [],
      "source": [
        "certif_df3 = pd.read_csv(ruta_archivo)\n",
        "certif_df3['fecha_ingreso'] = pd.to_datetime(certif_df3['fecha_ingreso'],format='%Y-%m-%d')\n",
        "\n",
        "certif_df3['anio'] = certif_df3['fecha_ingreso'].dt.year\n",
        "certif_df3['mes'] = certif_df3['fecha_ingreso'].dt.month\n",
        "certif_df3['dia'] = certif_df3['fecha_ingreso'].dt.day\n",
        "\n",
        "# certif_df3['day'] = pd.DatetimeIndex(certif_df3['fecha_ingreso']).day"
      ]
    },
    {
      "cell_type": "code",
      "execution_count": null,
      "id": "05d6267d",
      "metadata": {
        "id": "05d6267d"
      },
      "outputs": [],
      "source": [
        "certif_df3.head(5)"
      ]
    },
    {
      "cell_type": "code",
      "execution_count": null,
      "id": "f0621b6f",
      "metadata": {
        "id": "f0621b6f",
        "scrolled": true
      },
      "outputs": [],
      "source": [
        "# Chequeo es una fecha\n",
        "certif_df3.info()"
      ]
    },
    {
      "cell_type": "markdown",
      "id": "ca23f238",
      "metadata": {
        "id": "ca23f238"
      },
      "source": [
        "¿ Cómo podemos acceder a el día/mes/año de una columna ?"
      ]
    },
    {
      "cell_type": "code",
      "execution_count": null,
      "id": "3c132ece",
      "metadata": {
        "id": "3c132ece",
        "scrolled": true
      },
      "outputs": [],
      "source": [
        "#Pero sigamos con certif_df3\n",
        "certif_df3.loc[certif_df3[\"fecha_ingreso\"]==\"2020-12-01\"].head(5)"
      ]
    },
    {
      "cell_type": "markdown",
      "id": "3ad70c8d",
      "metadata": {
        "id": "3ad70c8d"
      },
      "source": [
        "¿Cómo podemos ver la semana?"
      ]
    },
    {
      "cell_type": "code",
      "execution_count": null,
      "id": "19165373",
      "metadata": {
        "id": "19165373",
        "scrolled": true
      },
      "outputs": [],
      "source": [
        "# datos[\"semana\"]=pd.DatetimeIndex(datos['fecha_ingreso']).week\n",
        "certif_df3[\"semana\"]=certif_df3['fecha_ingreso'].dt.isocalendar().week\n",
        "# El 0 es el lunes"
      ]
    },
    {
      "cell_type": "code",
      "execution_count": null,
      "id": "faaded2c",
      "metadata": {
        "id": "faaded2c"
      },
      "outputs": [],
      "source": [
        "certif_df3.head()"
      ]
    },
    {
      "cell_type": "markdown",
      "source": [
        "📝 **Ejercicio**"
      ],
      "metadata": {
        "id": "m4dEl96l7riI"
      },
      "id": "m4dEl96l7riI"
    },
    {
      "cell_type": "markdown",
      "id": "413fb53f",
      "metadata": {
        "id": "413fb53f"
      },
      "source": [
        "#### Ejercitación"
      ]
    },
    {
      "cell_type": "markdown",
      "id": "be67944d",
      "metadata": {
        "id": "be67944d"
      },
      "source": [
        "2) Imprimir las primeras 5, las útlimas 5 y un sampleo de 5 filas random."
      ]
    },
    {
      "cell_type": "code",
      "execution_count": null,
      "id": "96419451",
      "metadata": {
        "id": "96419451",
        "scrolled": true
      },
      "outputs": [],
      "source": [
        "certif_df3.head(5)"
      ]
    },
    {
      "cell_type": "code",
      "execution_count": null,
      "id": "08663569",
      "metadata": {
        "id": "08663569",
        "scrolled": true
      },
      "outputs": [],
      "source": [
        "certif_df3.tail(5)"
      ]
    },
    {
      "cell_type": "code",
      "execution_count": null,
      "id": "57a91f40",
      "metadata": {
        "id": "57a91f40",
        "scrolled": true
      },
      "outputs": [],
      "source": [
        "certif_df3.sample(5)"
      ]
    },
    {
      "cell_type": "markdown",
      "id": "ae5e68c6",
      "metadata": {
        "id": "ae5e68c6"
      },
      "source": [
        "3) ¿ Cuántas filas y columnas tiene el dataset ?"
      ]
    },
    {
      "cell_type": "code",
      "execution_count": null,
      "id": "8138a379",
      "metadata": {
        "id": "8138a379",
        "scrolled": true
      },
      "outputs": [],
      "source": [
        "certif_df3.shape"
      ]
    },
    {
      "cell_type": "markdown",
      "id": "bb79fc79",
      "metadata": {
        "id": "bb79fc79"
      },
      "source": [
        "4) ¿ Cuántos valores nulos hay en cada columna ?"
      ]
    },
    {
      "cell_type": "code",
      "execution_count": null,
      "id": "3babed43",
      "metadata": {
        "id": "3babed43"
      },
      "outputs": [],
      "source": [
        "certif_df3.isna()"
      ]
    },
    {
      "cell_type": "code",
      "execution_count": null,
      "id": "5a14a3be",
      "metadata": {
        "id": "5a14a3be",
        "scrolled": true
      },
      "outputs": [],
      "source": [
        "display(certif_df3.isna().sum())"
      ]
    },
    {
      "cell_type": "markdown",
      "id": "be118fba",
      "metadata": {
        "id": "be118fba"
      },
      "source": [
        "5) ¿ Qué porcentaje de valores nulos hay en cada columna ?\n"
      ]
    },
    {
      "cell_type": "code",
      "execution_count": null,
      "id": "6f633a3c",
      "metadata": {
        "id": "6f633a3c",
        "scrolled": true
      },
      "outputs": [],
      "source": [
        "display(((datos3.isna().sum())/datos.shape[0])*100)"
      ]
    },
    {
      "cell_type": "markdown",
      "id": "3f727abb",
      "metadata": {
        "id": "3f727abb"
      },
      "source": [
        "6) ¿ Cuántos valores distintos encontramos en la variable `destino_provincia` ? ¿Y en `destino_localidad` ?"
      ]
    },
    {
      "cell_type": "code",
      "execution_count": null,
      "id": "11f15675",
      "metadata": {
        "id": "11f15675"
      },
      "outputs": [],
      "source": [
        "certif_df3.info()"
      ]
    },
    {
      "cell_type": "code",
      "execution_count": null,
      "id": "10c40dba",
      "metadata": {
        "id": "10c40dba",
        "scrolled": true
      },
      "outputs": [],
      "source": [
        "print(certif_df3['destino_provincia'].unique())\n",
        "print(certif_df3['destino_provincia'].nunique())\n",
        "print(certif_df3['fecha_ingreso'].value_counts())"
      ]
    },
    {
      "cell_type": "code",
      "execution_count": null,
      "id": "1f7eb259",
      "metadata": {
        "id": "1f7eb259",
        "scrolled": true
      },
      "outputs": [],
      "source": [
        "print(certif_df3['destino_localidad'].unique())\n",
        "print(certif_df3['destino_localidad'].nunique())"
      ]
    },
    {
      "cell_type": "markdown",
      "id": "c957878b",
      "metadata": {
        "id": "c957878b"
      },
      "source": [
        "7) Convertir los valores de la columna destino_provincia a minúsculas"
      ]
    },
    {
      "cell_type": "code",
      "execution_count": null,
      "id": "05c325d3",
      "metadata": {
        "id": "05c325d3"
      },
      "outputs": [],
      "source": [
        "#@title Solución\n",
        "certif_df3['destino_provincia'] = certif_df3['destino_provincia'].apply(lambda x: str.lower(x))\n",
        "# datos3['destino_provincia'] = datos3['destino_provincia'].str.lower()\n",
        "certif_df3\n"
      ]
    },
    {
      "cell_type": "markdown",
      "id": "2387e57b",
      "metadata": {
        "id": "2387e57b"
      },
      "source": [
        "8) Calcular la media y mediana de la columna cantidad_personas"
      ]
    },
    {
      "cell_type": "code",
      "execution_count": null,
      "id": "7eaccd5a",
      "metadata": {
        "id": "7eaccd5a"
      },
      "outputs": [],
      "source": [
        "certif_df3[\"cantidad_personas\"].mean()"
      ]
    },
    {
      "cell_type": "code",
      "execution_count": null,
      "id": "f3e82fe8",
      "metadata": {
        "id": "f3e82fe8",
        "scrolled": true
      },
      "outputs": [],
      "source": [
        "certif_df3[\"cantidad_personas\"].median()"
      ]
    },
    {
      "cell_type": "markdown",
      "id": "1a7d118d",
      "metadata": {
        "id": "1a7d118d"
      },
      "source": [
        "10) ¿ Cuál es la fecha mínima de ingreso ? ¿ Y la máxima ?"
      ]
    },
    {
      "cell_type": "code",
      "execution_count": null,
      "id": "355a29bb",
      "metadata": {
        "id": "355a29bb"
      },
      "outputs": [],
      "source": [
        "certif_df3[\"fecha_ingreso\"].min()"
      ]
    },
    {
      "cell_type": "code",
      "execution_count": null,
      "id": "6b44ef91",
      "metadata": {
        "id": "6b44ef91"
      },
      "outputs": [],
      "source": [
        "certif_df3[\"fecha_ingreso\"].max()"
      ]
    },
    {
      "cell_type": "markdown",
      "id": "598d08df",
      "metadata": {
        "id": "598d08df"
      },
      "source": [
        "11) ¿ Cuántos certificados se emitieron en Febrero de 2021 ?"
      ]
    },
    {
      "cell_type": "code",
      "execution_count": null,
      "id": "773389ee",
      "metadata": {
        "id": "773389ee"
      },
      "outputs": [],
      "source": [
        "mask_mes_anio = (certif_df3['month'] == 2) & (certif_df3['year'] == 2021)\n",
        "certif_df3[mask_mes_anio]['cantidad_certificados'].sum()"
      ]
    },
    {
      "cell_type": "markdown",
      "id": "83639963",
      "metadata": {
        "id": "83639963"
      },
      "source": [
        "11.1) ¿Y si quisiera saber los certificados por cada año y mes?"
      ]
    },
    {
      "cell_type": "code",
      "execution_count": null,
      "id": "675c1ac8",
      "metadata": {
        "id": "675c1ac8"
      },
      "outputs": [],
      "source": [
        "certif_df3.groupby(['month']).agg({'cantidad_certificados':[\"sum\"]})"
      ]
    },
    {
      "cell_type": "code",
      "execution_count": null,
      "id": "bf1d2e0f",
      "metadata": {
        "id": "bf1d2e0f",
        "scrolled": true
      },
      "outputs": [],
      "source": [
        "#@title Solución\n",
        "certif_df3.groupby(['year','month'], as_index=False).agg({'cantidad_certificados': [\"sum\"]})"
      ]
    },
    {
      "cell_type": "markdown",
      "id": "e42ff84c",
      "metadata": {
        "id": "e42ff84c"
      },
      "source": [
        "14) Agrupar los datos por `destino_provincia` y obtener:\n",
        "  - Cantidad total de certificados emitidos\n",
        "  - Cantidad total de personas que lo solicitaron\n",
        "  - Fecha de el último certificado emitido"
      ]
    },
    {
      "cell_type": "code",
      "execution_count": null,
      "id": "4f217e79",
      "metadata": {
        "id": "4f217e79"
      },
      "outputs": [],
      "source": [
        "group_by_destino_provincia = certif_df3.groupby(['destino_provincia'])"
      ]
    },
    {
      "cell_type": "code",
      "execution_count": null,
      "id": "0d169cf1",
      "metadata": {
        "id": "0d169cf1",
        "scrolled": true
      },
      "outputs": [],
      "source": [
        "group_by_destino_provincia['cantidad_certificados','cantidad_personas'].sum()"
      ]
    },
    {
      "cell_type": "code",
      "execution_count": null,
      "id": "91c43c79",
      "metadata": {
        "id": "91c43c79",
        "scrolled": true
      },
      "outputs": [],
      "source": [
        "fecha_final = certif_df3.groupby(['destino_provincia'], as_index=False).agg({'fecha_ingreso': [\"max\"]})\n",
        "fecha_final.columns = [\"Provincia\",'Fecha final']\n",
        "display(fecha_final)"
      ]
    },
    {
      "cell_type": "markdown",
      "id": "9e7804c4",
      "metadata": {
        "id": "9e7804c4"
      },
      "source": [
        "15) ¿ Cuál es la provincia que más certificados emitidos tuvo en Enero de 2021 ?"
      ]
    },
    {
      "cell_type": "code",
      "execution_count": null,
      "id": "90cce51a",
      "metadata": {
        "id": "90cce51a",
        "scrolled": true
      },
      "outputs": [],
      "source": [
        "mask = (certif_df3[\"month\"]==1) & (certif_df3[\"year\"]==2021)\n",
        "\n",
        "certificados_totales = certif_df3[mask].groupby(['destino_provincia'], as_index=False).agg({'cantidad_certificados': [\"sum\"]})\n",
        "certificados_totales.columns = [\"Provincia\",'Certificados totales']\n",
        "\n",
        "display(certificados_totales)\n",
        "\n",
        "display(certificados_totales.iloc[certificados_totales['Certificados totales'].idxmax()])"
      ]
    },
    {
      "cell_type": "markdown",
      "id": "3b00dbd5",
      "metadata": {
        "id": "3b00dbd5"
      },
      "source": [
        "### ¿Cómo crear gráficos en pandas?\n"
      ]
    },
    {
      "cell_type": "code",
      "source": [
        "import pandas as pd"
      ],
      "metadata": {
        "id": "l0glJMPuxP_S"
      },
      "id": "l0glJMPuxP_S",
      "execution_count": null,
      "outputs": []
    },
    {
      "cell_type": "code",
      "source": [
        "url_base = 'https://raw.githubusercontent.com/acanavire/CD_IA_test/main/Data/'\n",
        "\n",
        "nombre_archivo = 'winemag-data-130k-v2.csv'\n",
        "\n",
        "ruta_archivo = url_base + nombre_archivo # Especificar ruta de archicvo csv"
      ],
      "metadata": {
        "id": "wMNWkQvlxOhA"
      },
      "id": "wMNWkQvlxOhA",
      "execution_count": null,
      "outputs": []
    },
    {
      "cell_type": "code",
      "source": [
        "reseVino_df = pd.read_csv(ruta_archivo, index_col='Unnamed: 0')"
      ],
      "metadata": {
        "id": "fVLNzEhgxenK"
      },
      "id": "fVLNzEhgxenK",
      "execution_count": null,
      "outputs": []
    },
    {
      "cell_type": "code",
      "execution_count": null,
      "id": "998b583e",
      "metadata": {
        "id": "998b583e"
      },
      "outputs": [],
      "source": [
        "reseVinoArg_df = reseVino_df[reseVino_df['country']=='Argentina'] # Seleccionar vinos de Argentina\n",
        "\n",
        "reseVinoArg_df.head(4)"
      ]
    },
    {
      "cell_type": "code",
      "execution_count": null,
      "id": "b9f6fb31",
      "metadata": {
        "id": "b9f6fb31"
      },
      "outputs": [],
      "source": [
        "reseVinoArg_df.dtypes # Recordar tipo de datos del conjunto de datos del DataFrame\n"
      ]
    },
    {
      "cell_type": "markdown",
      "id": "3c435cd2",
      "metadata": {
        "id": "3c435cd2"
      },
      "source": [
        "Una comprobación visual rápida de los datos con `.plot()`\n"
      ]
    },
    {
      "cell_type": "code",
      "execution_count": null,
      "id": "d2c8d40c",
      "metadata": {
        "id": "d2c8d40c"
      },
      "outputs": [],
      "source": [
        "reseVinoArg_df.plot()"
      ]
    },
    {
      "cell_type": "markdown",
      "id": "d73a853a",
      "metadata": {
        "id": "d73a853a"
      },
      "source": [
        "Con un DataFrame, Pandas crea de forma predeterminada un gráfico lineal para cada una de las columnas con datos numéricos.\n",
        "\n",
        "Además del gráfico de líneas predeterminado al utilizar la función `plot`, hay varias alternativas disponibles para representar gráficamente los datos."
      ]
    },
    {
      "cell_type": "markdown",
      "id": "bfaefa84",
      "metadata": {
        "id": "bfaefa84"
      },
      "source": [
        "Cambiando el parámetro `kind`, podemos distintos tipos de gráficos como `line` (líneas), `hist` (histograma), `box`(boxplot) o `scatter` (dispersión). Veamos ejemplos:"
      ]
    },
    {
      "cell_type": "markdown",
      "source": [
        "Explorar la distribución de variable númerica price mediante\n",
        "histograma\n"
      ],
      "metadata": {
        "id": "GW2nK9sfyAV_"
      },
      "id": "GW2nK9sfyAV_"
    },
    {
      "cell_type": "code",
      "execution_count": null,
      "id": "049faeba",
      "metadata": {
        "id": "049faeba"
      },
      "outputs": [],
      "source": [
        "reseVinoArg_df['price'].plot(kind='hist')"
      ]
    },
    {
      "cell_type": "markdown",
      "source": [
        "Explorar la distribución de variable númerica points mediante\n"
      ],
      "metadata": {
        "id": "h87kWYCLytPl"
      },
      "id": "h87kWYCLytPl"
    },
    {
      "cell_type": "code",
      "source": [
        "reseVinoArg_df['points'].plot(kind='box')"
      ],
      "metadata": {
        "id": "xjtaLc4Tyf_n"
      },
      "id": "xjtaLc4Tyf_n",
      "execution_count": null,
      "outputs": []
    },
    {
      "cell_type": "markdown",
      "source": [
        "Explorar la relación de las variables númericas price y points. Usamos la gráfica scatter. Solo se puede aplicar en DataFrame"
      ],
      "metadata": {
        "id": "4WEjVbF1yG1T"
      },
      "id": "4WEjVbF1yG1T"
    },
    {
      "cell_type": "code",
      "execution_count": null,
      "id": "e0bc8c64",
      "metadata": {
        "id": "e0bc8c64"
      },
      "outputs": [],
      "source": [
        "reseVinoArg_df[['price','points']].plot(kind='scatter', x='price', y='points')\n"
      ]
    },
    {
      "cell_type": "markdown",
      "source": [
        "Calculo la frecuencia de cada categoria de la variable categórica `Province`. `value_counts()` devuelve una serie"
      ],
      "metadata": {
        "id": "aNx2lpVmyMPH"
      },
      "id": "aNx2lpVmyMPH"
    },
    {
      "cell_type": "code",
      "execution_count": null,
      "id": "dd56d69e",
      "metadata": {
        "id": "dd56d69e"
      },
      "outputs": [],
      "source": [
        "provincias_s = reseVinoArg_df['province'].value_counts()\n",
        "\n",
        "# Mostrar\n",
        "provincias_s"
      ]
    },
    {
      "cell_type": "code",
      "execution_count": null,
      "id": "b92cd2e4",
      "metadata": {
        "id": "b92cd2e4"
      },
      "outputs": [],
      "source": [
        "# Gráfico de barra\n",
        "provincias_s.plot(kind=\"bar\")"
      ]
    },
    {
      "cell_type": "markdown",
      "source": [
        "Relacionando con la librería `matplotlib`"
      ],
      "metadata": {
        "id": "Li5hZ6_63uPb"
      },
      "id": "Li5hZ6_63uPb"
    },
    {
      "cell_type": "code",
      "source": [
        "import matplotlib.pyplot as plt\n",
        "\n",
        "fig, ax = plt.subplots()\n",
        "provincias_s.plot(kind=\"bar\", ax=ax)\n",
        "ax.set_ylabel('Frecuencia')\n",
        "ax.set_xlabel('Provincia')\n",
        "ax.set_title('Gráfico de barra')\n",
        "ax.tick_params(axis='x', rotation=0)"
      ],
      "metadata": {
        "id": "c5AnCRNt1YkY"
      },
      "id": "c5AnCRNt1YkY",
      "execution_count": null,
      "outputs": []
    },
    {
      "cell_type": "markdown",
      "id": "24556acc",
      "metadata": {
        "id": "24556acc"
      },
      "source": [
        "Para más información sobre `plot`, click en [pandas.plot de documentación oficial](https://pandas.pydata.org/docs/reference/api/pandas.DataFrame.plot.html#pandas.DataFrame.plot)."
      ]
    },
    {
      "cell_type": "markdown",
      "id": "2881c325",
      "metadata": {
        "id": "2881c325"
      },
      "source": [
        "### ✍ Recordatorio\n",
        "\n",
        "* Los métodos `.plot.*` son aplicables tanto a `Series` como a `DataFrames`.\n",
        "\n",
        "* De manera predeterminada, cada una de las columnas se representa como un elemento diferente (línea, diagrama de caja, etc.).\n",
        "\n",
        "* Todo gráfico creado por pandas es un objeto Matplotlib.\n",
        "\n",
        "\n",
        "\n",
        "\n",
        "La visualización de datos es clave en el análisis exploratorio y en la comunicación de resultados en CD e IA.\n",
        "\n"
      ]
    },
    {
      "cell_type": "markdown",
      "id": "30ad7467",
      "metadata": {
        "id": "30ad7467"
      },
      "source": [
        "---\n",
        "# Estadística Descriptiva\n",
        "---\n"
      ]
    },
    {
      "cell_type": "markdown",
      "id": "ebc922f0",
      "metadata": {
        "id": "ebc922f0"
      },
      "source": [
        "\n",
        "* Imagina la siguiente lista de números [10,14,12,11,12,13]\n"
      ]
    },
    {
      "cell_type": "code",
      "execution_count": null,
      "id": "e512d056",
      "metadata": {
        "id": "e512d056"
      },
      "outputs": [],
      "source": [
        "import numpy as np\n",
        "import pandas as pd\n",
        "\n",
        "data = np.array([10,14,12,11,12,13])\n",
        "data_df = pd.DataFrame(data, columns= ['A']) # Crear DataFrame\n",
        "display(data_df)\n"
      ]
    },
    {
      "cell_type": "markdown",
      "id": "c8f1fbe2",
      "metadata": {
        "id": "c8f1fbe2"
      },
      "source": [
        "# Medidas de Tendencia Central"
      ]
    },
    {
      "cell_type": "markdown",
      "id": "284db66b",
      "metadata": {
        "id": "284db66b"
      },
      "source": [
        "### Media\n",
        "----\n"
      ]
    },
    {
      "cell_type": "code",
      "execution_count": null,
      "id": "e2b58019",
      "metadata": {
        "id": "e2b58019"
      },
      "outputs": [],
      "source": [
        "media = np.mean(data_df['A']) # Calcular estadística con numpy\n",
        "print(\"Media Numpy:\", media)\n",
        "\n",
        "media = data_df['A'].mean()\n",
        "print(\"Media Pandas:\", media)"
      ]
    },
    {
      "cell_type": "markdown",
      "id": "e38eb1ee",
      "metadata": {
        "id": "e38eb1ee"
      },
      "source": [
        "### Mediana\n",
        "\n",
        "---\n"
      ]
    },
    {
      "cell_type": "code",
      "execution_count": null,
      "id": "fbe36312",
      "metadata": {
        "id": "fbe36312"
      },
      "outputs": [],
      "source": [
        "mediana = np.median(data_df['A']) # Calcular mediana con numpy\n",
        "print(\"Mediana Numpy:\", mediana)\n",
        "\n",
        "mediana = data_df['A'].median() # Calcular mediana con pandas\n",
        "print(\"Mediana Pandas:\", mediana)"
      ]
    },
    {
      "cell_type": "code",
      "source": [
        "data_df['A'].sort_values()"
      ],
      "metadata": {
        "id": "QCTg6H8sEbEO"
      },
      "id": "QCTg6H8sEbEO",
      "execution_count": null,
      "outputs": []
    },
    {
      "cell_type": "markdown",
      "id": "623e4c57",
      "metadata": {
        "id": "623e4c57"
      },
      "source": [
        "### Moda\n",
        "---\n"
      ]
    },
    {
      "cell_type": "code",
      "source": [
        "from scipy import stats  # Para trabajar más con estadística\n",
        "\n",
        "moda = stats.mode(data_df['A']) # Calcular moda con scipy. Solo valores númericos\n",
        "print(\"Moda con scipy:\", moda.mode)\n",
        "\n",
        "moda = data_df['A'].mode() # Calcular moda con pandas\n",
        "print(\"Moda con pandas:\")\n",
        "print(moda)"
      ],
      "metadata": {
        "id": "ztYVCqMDHsWh"
      },
      "id": "ztYVCqMDHsWh",
      "execution_count": null,
      "outputs": []
    },
    {
      "cell_type": "markdown",
      "source": [],
      "metadata": {
        "id": "oByWmSg9PbTL"
      },
      "id": "oByWmSg9PbTL"
    },
    {
      "cell_type": "code",
      "source": [
        "data_categ = pd.Series(['a','a','c','d','f','f'])\n",
        "\n",
        "moda = data_categ.mode()\n",
        "print(\"Moda con pandas:\")\n",
        "print(moda)\n"
      ],
      "metadata": {
        "id": "7POB4l43O8SD"
      },
      "id": "7POB4l43O8SD",
      "execution_count": null,
      "outputs": []
    },
    {
      "cell_type": "code",
      "execution_count": null,
      "id": "7fd21f38",
      "metadata": {
        "id": "7fd21f38"
      },
      "outputs": [],
      "source": [
        "import statistics\n",
        "\n",
        "# Multimoda\n",
        "data_num = pd.Series([0,1,1,2,2,2,2,3,3,3,3,4,4,4,4,5])\n",
        "\n",
        "moda = data_num.mode()\n",
        "print(\"Moda con pandas:\")\n",
        "print(moda)\n",
        "\n",
        "\n",
        "moda = statistics.multimode(data_num)\n",
        "print(\"Multi Moda con statistics:\", moda)"
      ]
    },
    {
      "cell_type": "markdown",
      "id": "737e7b21",
      "metadata": {
        "id": "737e7b21"
      },
      "source": [
        "# Medidas de Dispersión o Variabilidad\n",
        "\n",
        "---\n",
        "\n",
        "\n"
      ]
    },
    {
      "cell_type": "markdown",
      "source": [
        "### Rango y Rango Intercuartil"
      ],
      "metadata": {
        "id": "maZ6wwvYdGKY"
      },
      "id": "maZ6wwvYdGKY"
    },
    {
      "cell_type": "code",
      "source": [
        "import numpy as np\n",
        "import pandas as pd\n",
        "\n",
        "# Numpy\n",
        "muestra_B = np.array([47, 51, 53, 55, 57, 59, 63])\n",
        "rango = np.max(muestra_B) - np.min(muestra_B)\n",
        "print(\"Rango:\", rango)"
      ],
      "metadata": {
        "id": "deFBsJf7c7Kc"
      },
      "id": "deFBsJf7c7Kc",
      "execution_count": null,
      "outputs": []
    },
    {
      "cell_type": "code",
      "source": [
        "# Pandas\n",
        "muestra_B_df = pd.DataFrame({'B': muestra_B})\n",
        "rango = muestra_B_df['B'].max() - muestra_B_df['B'].min()\n",
        "print(\"Rango:\", rango)"
      ],
      "metadata": {
        "id": "j1Qu58Z-dAGP"
      },
      "id": "j1Qu58Z-dAGP",
      "execution_count": null,
      "outputs": []
    },
    {
      "cell_type": "markdown",
      "source": [
        "Rango intercuartilico"
      ],
      "metadata": {
        "id": "4Cyi4m9SdvzP"
      },
      "id": "4Cyi4m9SdvzP"
    },
    {
      "cell_type": "code",
      "source": [
        "# Calcular el rango intercuartílico con NumPy\n",
        "q1 = np.quantile(muestra_B_df['B'], 25)\n",
        "q3 = np.quantile(muestra_B_df['B'], 75)\n",
        "ri = q3 - q1\n",
        "print(q3)\n",
        "print(q1)\n",
        "print(\"Rango intercuartil con NumPy:\", ri)\n",
        "\n",
        "# Calcular el rango intercuartílico con Pandas\n",
        "q1_df = muestra_B_df['B'].quantile(0.25)\n",
        "q3_df = muestra_B_df['B'].quantile(0.75)\n",
        "ri_df = q3_df - q1_df\n",
        "print(\"Rango intercuartil con Pandas:\", ri_df)"
      ],
      "metadata": {
        "id": "NQvnrgsldu55"
      },
      "id": "NQvnrgsldu55",
      "execution_count": null,
      "outputs": []
    },
    {
      "cell_type": "code",
      "source": [
        " muestra_B_df['B'].plot.box( vert=False)"
      ],
      "metadata": {
        "id": "w51BG8rvsi9o"
      },
      "id": "w51BG8rvsi9o",
      "execution_count": null,
      "outputs": []
    },
    {
      "cell_type": "markdown",
      "source": [
        "### Varianza"
      ],
      "metadata": {
        "id": "mX_kd53_kbAo"
      },
      "id": "mX_kd53_kbAo"
    },
    {
      "cell_type": "code",
      "execution_count": null,
      "id": "161fddd6",
      "metadata": {
        "id": "161fddd6"
      },
      "outputs": [],
      "source": [
        "varianza = np.var(muestra_B_df['B'],ddof=1) # Calcular varianza con numpy\n",
        "print(\"Varianza con numpy:\",varianza)\n",
        "\n",
        "Varianza = muestra_B_df['B'].var(ddof=1) # Calcular varianza con Pandas\n",
        "\n",
        "print(\"Varianza con pandas:\",varianza)"
      ]
    },
    {
      "cell_type": "markdown",
      "source": [
        "### Desviación estándar"
      ],
      "metadata": {
        "id": "r5LUgLjDkdb_"
      },
      "id": "r5LUgLjDkdb_"
    },
    {
      "cell_type": "code",
      "execution_count": null,
      "id": "b0b55bdf",
      "metadata": {
        "id": "b0b55bdf"
      },
      "outputs": [],
      "source": [
        "\n",
        "std = np.std(muestra_B_df['B'],ddof=1) # Calcular std con numpy\n",
        "print(\"Desvío Estándar con numpy:\",std)\n",
        "\n",
        "std = muestra_B_df['B'].std(ddof=1) # Calcular std con pandas\n",
        "print(\"Desvío Estándar con pandas:\",std)"
      ]
    },
    {
      "cell_type": "code",
      "source": [
        "data = [39, 47, 53, 55, 57, 63, 71 ]\n",
        "q1 = np.quantile(data, 0.25)\n",
        "q3 = np.quantile(data, 0.75)\n",
        "print(q1)\n",
        "print(q3)\n",
        "print(q3-q1)\n",
        "print(np.var(data,ddof=1))\n",
        "print(np.std(data,ddof=1))\n"
      ],
      "metadata": {
        "id": "CgxckIIcdvEi"
      },
      "id": "CgxckIIcdvEi",
      "execution_count": null,
      "outputs": []
    },
    {
      "cell_type": "markdown",
      "source": [
        "# Medidas de Posición\n",
        "---\n",
        "Cuartiles y percentiles son medidas estadísticas que se utilizan para dividir y analizar la distribución de un conjunto de datos. Estas medidas proporcionan información sobre cómo se distribuyen los valores en relación con los demás.\n"
      ],
      "metadata": {
        "id": "7I0OzdgC6W3C"
      },
      "id": "7I0OzdgC6W3C"
    },
    {
      "cell_type": "markdown",
      "source": [
        "## Cuartiles\n",
        "\n",
        "Los cuartiles dividen un conjunto de datos en cuatro partes iguales, cada una conteniendo el 25% de los datos. Los cuartiles más comúnmente utilizados son:\n",
        "\n",
        "* Primer cuartil (Q1): También conocido como el cuartil inferior o el percentil 25 (P25), divide los datos de manera que el 25% de los valores sean menores o iguales a este valor.\n",
        "\n",
        "* Segundo cuartil (Q2): Es el valor que se encuentra en la mediana, es decir, el punto medio de la distribución. También se conoce como el percentil 50 (P50).\n",
        "\n",
        "* Tercer cuartil (Q3): También conocido como el cuartil superior o el percentil 75 (P75), divide los datos de manera que el 75% de los valores sean menores o iguales a este valor.\n",
        "\n",
        "Los cuartiles son útiles para comprender la dispersión y la forma de la distribución de los datos.\n",
        "\n",
        "\n",
        "![image.png](data:image/png;base64,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)\n",
        "\n"
      ],
      "metadata": {
        "id": "7QOiLgZJ6zb-"
      },
      "id": "7QOiLgZJ6zb-"
    },
    {
      "cell_type": "code",
      "source": [
        "q1 = np.quantile(data_df['A'], 0.25) # Numpy\n",
        "q2 = np.quantile(data_df['A'], 0.50)\n",
        "q3 = np.quantile(data_df['A'], 0.75)\n",
        "print('Numpy')\n",
        "print(\"Primer cuartil (Q1):\", q1)\n",
        "print(\"Segundo cuartil (Q2):\", q2)\n",
        "print(\"Tercer cuartil (Q3):\", q3)\n",
        "q1 = data_df['A'].quantile(0.25) # Pandas\n",
        "q2 = data_df['A'].quantile(0.50)\n",
        "q3 = data_df['A'].quantile(0.75)\n",
        "print(\"----------------------------\")\n",
        "print('Pandas')\n",
        "print(\"Primer cuartil (Q1):\", q1)\n",
        "print(\"Segundo cuartil (Q2):\", q2)\n",
        "print(\"Tercer cuartil (Q3):\", q3)\n",
        "\n"
      ],
      "metadata": {
        "id": "psNwPUQ37Q9N"
      },
      "id": "psNwPUQ37Q9N",
      "execution_count": null,
      "outputs": []
    },
    {
      "cell_type": "markdown",
      "source": [
        "## Percentiles\n",
        "\n",
        "Los percentiles son valores que dividen un conjunto de datos en cien partes iguales, proporcionando una medida más detallada de la distribución. Algunos percentiles comunes son:\n",
        "\n",
        "* Percentil 25 (P25): Es equivalente al primer cuartil (Q1) y representa el valor por debajo del cual el 25% de los datos caen.\n",
        "\n",
        "* Percentil 50 (P50): Es equivalente al segundo cuartil (Q2) y representa la mediana de los datos.\n",
        "\n",
        "* Percentil 75 (P75): Es equivalente al tercer cuartil (Q3) y representa el valor por debajo del cual el 75% de los datos caen.\n",
        "\n",
        "* Percentil 90 (P90): Representa el valor por debajo del cual el 90% de los datos caen.\n",
        "\n",
        "\n",
        "Los percentiles proporcionan información más detallada sobre cómo se distribuyen los datos, especialmente en los extremos de la distribución.\n",
        "\n",
        "\n",
        "![image.png](data:image/png;base64,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)\n",
        "\n"
      ],
      "metadata": {
        "id": "iq4rNeuE8Pua"
      },
      "id": "iq4rNeuE8Pua"
    },
    {
      "cell_type": "code",
      "source": [
        "\n",
        "p25 = np.percentile(data_df['A'], 25) # Numpy\n",
        "p50 = np.percentile(data_df['A'], 50)\n",
        "p75 = np.percentile(data_df['A'], 75)\n",
        "print('Numpy')\n",
        "print(\"Percentil 25 (P25):\", p25)\n",
        "print(\"Percentil 50 (P50):\", p50)\n",
        "print(\"Percentil 75 (P75):\", p75)\n",
        "\n",
        "p25_df = data_df['A'].quantile(0.25) # Pandas\n",
        "p50_df = data_df['A'].quantile(0.50)\n",
        "p75_df = data_df['A'].quantile(0.75)\n",
        "print(\"----------------------------\")\n",
        "print('Pandas')\n",
        "print(\"Percentil 25 (P25) con Pandas:\", p25_df)\n",
        "print(\"Percentil 50 (P50) con Pandas:\", p50_df)\n",
        "print(\"Percentil 75 (P75) con Pandas:\", p75_df)"
      ],
      "metadata": {
        "id": "Pdk8MbVQ8r3P"
      },
      "id": "Pdk8MbVQ8r3P",
      "execution_count": null,
      "outputs": []
    },
    {
      "cell_type": "markdown",
      "source": [
        "Tanto los cuartiles como los percentiles son útiles para resumir y analizar grandes conjuntos de datos, y son ampliamente utilizados en campos como la estadística, la investigación social, la economía y muchos otros. Estas medidas permiten comprender mejor la distribución, la dispersión y los valores atípicos de los datos."
      ],
      "metadata": {
        "id": "eGr1dMpj8sm1"
      },
      "id": "eGr1dMpj8sm1"
    },
    {
      "cell_type": "markdown",
      "source": [],
      "metadata": {
        "id": "tKcmqN7X3jdt"
      },
      "id": "tKcmqN7X3jdt"
    },
    {
      "cell_type": "markdown",
      "source": [
        "📝 **Ejercicio**\n",
        "\n",
        "Sea el siguiente conjunto de datos almacenado en el DataFrame `estudiantes_df`.\n"
      ],
      "metadata": {
        "id": "h1HHr1PZ3jyb"
      },
      "id": "h1HHr1PZ3jyb"
    },
    {
      "cell_type": "code",
      "source": [
        "est_d = {\n",
        "  'Nombre': ['Lucas','Marcela','Fede','Sol','Sol'],\n",
        "  'Edad': [49, 26, 37, 40, 35],\n",
        "  'GradoAcademico': ['Bachiller','Licenciado','Magister','Doctorado','Licenciado']\n",
        "}\n",
        "\n",
        "# Crear DataFrame\n",
        "estudiantes_df = pd.DataFrame(est_d)\n"
      ],
      "metadata": {
        "id": "3IO9kOF7scEk"
      },
      "id": "3IO9kOF7scEk",
      "execution_count": null,
      "outputs": []
    },
    {
      "cell_type": "code",
      "source": [
        "estudiantes_df"
      ],
      "metadata": {
        "id": "oC95FAjl0cSE"
      },
      "id": "oC95FAjl0cSE",
      "execution_count": null,
      "outputs": []
    },
    {
      "cell_type": "markdown",
      "source": [
        "¿Cual es valor promedio, mínimo y máximo de la variable Edad?"
      ],
      "metadata": {
        "id": "zu4M77vg0fzo"
      },
      "id": "zu4M77vg0fzo"
    },
    {
      "cell_type": "code",
      "source": [
        "est_s = estudiantes_df['Edad']\n",
        "mean = est_s.mean()\n",
        "min = est_s.min()\n",
        "max = est_s.max()\n",
        "print(mean,min,max)"
      ],
      "metadata": {
        "id": "CpZy6E1k0dxw"
      },
      "id": "CpZy6E1k0dxw",
      "execution_count": null,
      "outputs": []
    },
    {
      "cell_type": "markdown",
      "source": [
        "¿Qué tan dispersos están los valores de edad en relación a su valor promedio?\n",
        "Calcular la desviación estándar poblacional"
      ],
      "metadata": {
        "id": "z6ObWNXH1CNl"
      },
      "id": "z6ObWNXH1CNl"
    },
    {
      "cell_type": "code",
      "source": [
        "est_s = estudiantes_df['Edad']\n",
        "print(est_s.std(ddof=0))"
      ],
      "metadata": {
        "id": "e9ISmyj80_bW"
      },
      "id": "e9ISmyj80_bW",
      "execution_count": null,
      "outputs": []
    },
    {
      "cell_type": "markdown",
      "source": [
        "¿Cuál es el grado acádemico más común entre los estudiantes?"
      ],
      "metadata": {
        "id": "d9Zvsij00vOK"
      },
      "id": "d9Zvsij00vOK"
    },
    {
      "cell_type": "code",
      "source": [
        "gradoAcad_s = estudiantes_df['GradoAcademico']\n",
        "print(gradoAcad_s.mode())"
      ],
      "metadata": {
        "id": "IX7fFj1D07k4"
      },
      "id": "IX7fFj1D07k4",
      "execution_count": null,
      "outputs": []
    },
    {
      "cell_type": "markdown",
      "source": [],
      "metadata": {
        "id": "gsDVg4Ac08Xf"
      },
      "id": "gsDVg4Ac08Xf"
    },
    {
      "cell_type": "markdown",
      "id": "8461dd59",
      "metadata": {
        "id": "8461dd59"
      },
      "source": [
        "# Ejemplo de uso de estadística descriptiva\n",
        "\n",
        "---\n",
        "\n"
      ]
    },
    {
      "cell_type": "markdown",
      "id": "25274122",
      "metadata": {
        "id": "25274122"
      },
      "source": [
        "El método describe() del objeto Dataframe devuelve una descripción de los datos en el DataFrame.\n",
        "\n",
        "Si el DataFrame contiene datos numéricos, la descripción contiene esta información para cada columna:\n",
        "\n",
        "* count: la cantidad de valores no vacíos.\n",
        "* mean: el valor promedio (media).\n",
        "* std: la desviación estándar.\n",
        "* min: el valor mínimo.\n",
        "* 25%: el percentil del 25 %*.\n",
        "* 50%: el percentil del 50 %*.\n",
        "* 75%: el percentil del 75 %*.\n",
        "* max: el valor máximo."
      ]
    },
    {
      "cell_type": "code",
      "execution_count": null,
      "id": "bf38a895",
      "metadata": {
        "id": "bf38a895"
      },
      "outputs": [],
      "source": [
        "data_df.describe() # Describe\n"
      ]
    },
    {
      "cell_type": "code",
      "source": [],
      "metadata": {
        "id": "6EwiyenDe8Lm"
      },
      "id": "6EwiyenDe8Lm",
      "execution_count": null,
      "outputs": []
    },
    {
      "cell_type": "markdown",
      "source": [
        "📝 **Ejercicio**\n",
        "\n",
        "Sea el siguiente conjunto de datos almacenados en el DataFrame `estudiantes_df`.**texto en negrita**\n",
        "\n",
        "\n"
      ],
      "metadata": {
        "id": "8G_TIzumsFfP"
      },
      "id": "8G_TIzumsFfP"
    },
    {
      "cell_type": "code",
      "source": [
        "```\n",
        "# Importar librería numpy para llamar a random\n",
        "import numpy as np\n",
        "\n",
        "# Diccionario est_d\n",
        "\n",
        "est_d = {\n",
        "  'Nombre': ['Lucas','Marcela','Fede','Sol,'Sol'],\n",
        "  'Edad': [18,10,20,15]\n",
        "}\n",
        "```"
      ],
      "metadata": {
        "id": "IX-wlBL1taba"
      },
      "id": "IX-wlBL1taba",
      "execution_count": null,
      "outputs": []
    },
    {
      "cell_type": "markdown",
      "id": "77eb3271",
      "metadata": {
        "id": "77eb3271"
      },
      "source": []
    },
    {
      "cell_type": "markdown",
      "id": "bd6dbde6",
      "metadata": {
        "id": "bd6dbde6"
      },
      "source": [
        "---\n",
        "# 1.5 Preparación y preprocesamiento de datos\n",
        "---\n"
      ]
    },
    {
      "cell_type": "markdown",
      "id": "a89494c2",
      "metadata": {
        "id": "a89494c2"
      },
      "source": [
        "## 1.5.1 Codificación de variables categóricas\n"
      ]
    },
    {
      "cell_type": "markdown",
      "id": "b54de088",
      "metadata": {
        "id": "b54de088"
      },
      "source": [
        "![Gráficas asociadas.png](data:image/png;base64,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)"
      ]
    },
    {
      "cell_type": "code",
      "source": [
        "reseVinoArgChi_df = reseVino_df.loc[reseVino_df['country'].isin(['Argentina','Chile']),['country','variety','points','price']]\n",
        "reseVinoArgChi_df.head(2)"
      ],
      "metadata": {
        "id": "b2-254WzmGv-"
      },
      "id": "b2-254WzmGv-",
      "execution_count": null,
      "outputs": []
    },
    {
      "cell_type": "markdown",
      "id": "c8868416",
      "metadata": {
        "id": "c8868416"
      },
      "source": [
        "Para explorar las tres técnicas utilizaremos el conjunto de datos de grados acádemicos y la libreria scikit-learn de Python."
      ]
    },
    {
      "cell_type": "code",
      "execution_count": null,
      "id": "d7b4c564",
      "metadata": {
        "id": "d7b4c564"
      },
      "outputs": [],
      "source": [
        "# Importar biblioteca para la manipulación de datos\n",
        "import pandas as pd\n",
        "\n",
        "# Crear el conjunto de datos sobre grados académicos (Bachiller, Licenciado, Magíster y Doctorado).\n",
        "# Variable categórica ordinal\n",
        "educ_ls= [\"Bachiller\",\"Bachiller\",\"Bachiller\", \"Licenciado\", \"Magíster\",\"Magíster\",\"Doctorado\"]\n",
        "data = {'country': educ_ls}\n",
        "\n",
        "# Crear dataframe\n",
        "reseVinoArgChi_df = pd.DataFrame(data)\n",
        "\n",
        "# Mostrar\n",
        "display(reseVinoArgChi_df)"
      ]
    },
    {
      "cell_type": "markdown",
      "id": "3433d4cf",
      "metadata": {
        "id": "3433d4cf"
      },
      "source": []
    },
    {
      "cell_type": "markdown",
      "id": "353e9f06",
      "metadata": {
        "id": "353e9f06"
      },
      "source": [
        "### Codificación por Etiqueta (Label encoding)\n",
        "\n",
        "La Codificación por Etiquetas es una técnica que codifica valores categóricos a números enteros. Técnica simple y rápida de implementar aunque puede introducir relaciones numéricas ficticias en variables categóricas nominales como color de un automóvil (Negro, Blanco, Rojo, Azul, Otros) o géneros de libros (Narrativa, Lírica y Dramática).\n",
        "\n",
        "En Python para realizar la Codificación por Etiquetas se puede usar el módulo `LabelEncoder` de la biblioteca `sklearn.preprocessing`. En donde cada categoría es un entero que comienza en 0 y termina en n-1, donde n es el número de categorías. Veamos esto con el ejemplo.\n",
        "\n"
      ]
    },
    {
      "cell_type": "markdown",
      "id": "534e4518",
      "metadata": {
        "id": "534e4518"
      },
      "source": [
        "Empecemos con `LabelEncoder`"
      ]
    },
    {
      "cell_type": "code",
      "execution_count": null,
      "id": "3f4c6264",
      "metadata": {
        "id": "3f4c6264"
      },
      "outputs": [],
      "source": [
        "from sklearn.preprocessing import LabelEncoder\n",
        "\n",
        "codif_etiqueta = LabelEncoder() # Inicializar la clase LabelEncoder. Crear instancia\n",
        "\n",
        "reseVinoArgChi_df['LABEL_country_codif'] = codif_etiqueta.fit_transform(\n",
        "    reseVinoArgChi_df['country']\n",
        "    ) # Entrenar y transformar. LLamar al método fit_transform\n",
        "\n",
        "display(reseVinoArgChi_df[['country','LABEL_country_codif']])"
      ]
    },
    {
      "cell_type": "code",
      "source": [
        "codif_etiqueta.inverse_transform(reseVinoArgChi_df['LABEL_country_codif'])"
      ],
      "metadata": {
        "id": "4Q32aM9Nslzg"
      },
      "id": "4Q32aM9Nslzg",
      "execution_count": null,
      "outputs": []
    },
    {
      "cell_type": "code",
      "execution_count": null,
      "id": "28937bfe",
      "metadata": {
        "id": "28937bfe"
      },
      "outputs": [],
      "source": [
        "\n",
        "categorias_codifs = codif_etiqueta.classes_ # Si quisieramos ver las valoras asignados a las categorías. classes_\n",
        "\n",
        "correspondencia = {} # Crear un diccionario para almacenar la correspondencia\n",
        "\n",
        "for i, categoria in enumerate(categorias_codifs):\n",
        "    correspondencia[categoria] = i # Asignar la correspondencia entre las categorías y los números\n",
        "\n",
        "print(correspondencia)"
      ]
    },
    {
      "cell_type": "markdown",
      "id": "c952d611",
      "metadata": {
        "id": "c952d611"
      },
      "source": [
        "La Codificación por Etiquetado no es la mejor técnica. Para el ejemplo, se esperaría desde el grado académico más bajo hasta el más avanzado ('Bachiller'< 'Licenciado'< 'Magíster'<'Doctorado') tener asignado los valores [0,1,2,3] y no [0,2,3,1]. Esto se debe a que asigna por orden alfabético.\n"
      ]
    },
    {
      "cell_type": "markdown",
      "id": "1e9e7025",
      "metadata": {
        "id": "1e9e7025"
      },
      "source": [
        "Ante este problema, existe la posibilidad de utilizar Codificación Ordinal, útil para variables ordinales."
      ]
    },
    {
      "cell_type": "markdown",
      "id": "825f7bfd",
      "metadata": {
        "id": "825f7bfd"
      },
      "source": [
        "### Codificación Ordinal (Ordinal Encoding)\n",
        "Está técnica asignan un valor numérico a cada categoría en función de su orden o jerarquía natural.\n",
        "En Python, se puede utilizar la clase `OrdinalEncoder` de la biblioteca `sklearn.preprocessing`. Veamos como aplicar al ejemplo de grados académicos:"
      ]
    },
    {
      "cell_type": "code",
      "execution_count": null,
      "id": "8fd4e135",
      "metadata": {
        "id": "8fd4e135"
      },
      "outputs": [],
      "source": [
        "\n",
        "from sklearn.preprocessing import OrdinalEncoder\n",
        "\n",
        "codif_ordinal = OrdinalEncoder( # Inicializar la clase OrdinalEncoder\n",
        "    categories=[['Chile','Argentina']], # para indicar el orden esperado\n",
        "    dtype= 'int' # por defecto np.float64\n",
        "    )\n",
        "\n",
        "reseVinoArgChi_df['ORDINAL_country_codif']  = codif_ordinal.fit_transform(\n",
        "    reseVinoArgChi_df[['country']]\n",
        "    ) # Entrenar y transformar\n",
        "\n",
        "display(display(reseVinoArgChi_df[['country','ORDINAL_country_codif']]))"
      ]
    },
    {
      "cell_type": "code",
      "execution_count": null,
      "id": "467bb0cf",
      "metadata": {
        "id": "467bb0cf"
      },
      "outputs": [],
      "source": [
        "\n",
        "reseVinoArgChi_df['ORDINAL_country_codif'] = reseVinoArgChi_df['ORDINAL_country_codif'] + 1\n",
        "\n",
        "display(reseVinoArgChi_df)"
      ]
    },
    {
      "cell_type": "markdown",
      "id": "2e02670e",
      "metadata": {
        "id": "2e02670e"
      },
      "source": [
        "Algunas características clave de la Codificación Ordinal son:\n",
        "\n",
        "1. **Asignación de valores numéricos**: A cada categoría única en la variable categórica se le asigna un valor numérico único en función de su orden o jerarquía. Los valores numéricos se asignan de manera secuencial, comenzando desde 0, hasta el número total de categorías menos 1.\n",
        "\n",
        "2. **Preservación del orden**: La Codificación Ordinal conserva la información de orden o jerarquía entre las categorías. Esto significa que las categorías con valores numéricos más altos representan un mayor orden o jerarquía en comparación con las categorías con valores numéricos más bajos.\n",
        "\n",
        "3. **Aplicación en variables categóricas ordinales**: La Codificación Ordinal es especialmente útil cuando se trabaja con variables categóricas que tienen un orden lógico predefinido como el ejemplo de grados académicos, clasificaciones (bajo, medio, alto) o tamaños (pequeño, mediano, grande), etc.\n",
        "\n"
      ]
    },
    {
      "cell_type": "markdown",
      "id": "d8ab9131",
      "metadata": {
        "id": "d8ab9131"
      },
      "source": [
        "### Codificación One-Hot (One-Hot Enconding)\n",
        "\n",
        "La codificación One-Hot es una técnica utilizada para convertir variables categóricas en una representación numérica binaria. Esta técnica se utiliza cuando las variables categóricas no tienen un orden inherente, variables nominales, y se desea representar cada categoría como una columna binaria separada.\n",
        "\n",
        "La biblioteca `sklearn.preprocessing` en Python proporciona la clase `OneHotEncoder` que se puede utilizar para realizar la codificación One-Hot. A continuación se muestra un ejemplo de cómo utilizar OneHotEncoder:"
      ]
    },
    {
      "cell_type": "code",
      "execution_count": null,
      "id": "2b7d84f8",
      "metadata": {
        "id": "2b7d84f8"
      },
      "outputs": [],
      "source": [
        "\n",
        "from sklearn.preprocessing import OneHotEncoder\n",
        "\n",
        "codif_onehot = OneHotEncoder() # Inicializar clase OneHotEncoder\n",
        "\n",
        "columnas_codif  = codif_onehot.fit_transform(\n",
        "    reseVinoArgChi_df[['country']]\n",
        "    ) # Entrenar y transformar los datos.\n",
        "\n",
        "print(\"Matriz de columnas:\",columnas_codif.toarray())\n"
      ]
    },
    {
      "cell_type": "code",
      "source": [
        "\n",
        "# Crear dataframes con las nuevas características codifs One-Hot\n",
        "onehot_df = pd.DataFrame(columnas_codif.toarray(), columns= codif_onehot.get_feature_names_out(['country']))\n",
        "\n",
        "educ_onehot_df = pd.concat([reseVinoArgChi_df, onehot_df], axis=1) # concatenar el DataFrame codificado One-Hot\n",
        "\n",
        "display(educ_onehot_df.iloc[:,6:])"
      ],
      "metadata": {
        "id": "pHzzYdhhxXbF"
      },
      "id": "pHzzYdhhxXbF",
      "execution_count": null,
      "outputs": []
    },
    {
      "cell_type": "markdown",
      "id": "461978e4",
      "metadata": {
        "id": "461978e4"
      },
      "source": [
        "Está técnica no introduce relaciones ficticias entre categorías aunque aumenta la cantidad de atributos o variables en el conjunto de datos si hay mucha cantidad de categorías asociadas a la variable a codificar.\n",
        "\n",
        "Para identificar otras técnicas implementadas en scikit-learn click en:\n",
        "[Documentación  de scikit-learn para codificar características categóricas](https://contrib.scikit-learn.org/category_encoders/)\n"
      ]
    },
    {
      "cell_type": "markdown",
      "source": [
        "📝 **Ejercicio**\n",
        "\n",
        "Sea el siguiente conjunto de datos almacenado en el DataFrame `estudiantes_df`.\n"
      ],
      "metadata": {
        "id": "YKRkOICk3JDi"
      },
      "id": "YKRkOICk3JDi"
    },
    {
      "cell_type": "code",
      "source": [
        "est_d = {\n",
        "  'Nombre': ['Lucas','Marcela','Fede','Sol','Sol'],\n",
        "  'Edad': [49, 26, 37, 40, 35],\n",
        "  'GradoAcademico': ['Bachiller','Licenciado','Magister','Doctorado','Licenciado']\n",
        "}\n",
        "\n",
        "# Crear DataFrame\n",
        "estudiantes_df = pd.DataFrame(est_d)"
      ],
      "metadata": {
        "id": "EUZZvHfu3-Iw"
      },
      "id": "EUZZvHfu3-Iw",
      "execution_count": null,
      "outputs": []
    },
    {
      "cell_type": "code",
      "source": [
        "estudiantes_df['GradoAcademico'].unique()"
      ],
      "metadata": {
        "id": "bafHOEGu40t3"
      },
      "id": "bafHOEGu40t3",
      "execution_count": null,
      "outputs": []
    },
    {
      "cell_type": "markdown",
      "source": [
        "¿Cómo codificar la variable categórica ordinal 'GradoAcademico' de manera que que los valores asignados respeten el orden de menor a mayor grado ?\n",
        "es decir:  ['Bachiller', 'Licenciado', 'Magister', 'Doctorado']"
      ],
      "metadata": {
        "id": "pkub7efW4PcM"
      },
      "id": "pkub7efW4PcM"
    },
    {
      "cell_type": "code",
      "source": [
        "from sklearn.preprocessing import OrdinalEncoder\n",
        "\n",
        "codif_ordinal = OrdinalEncoder( # Inicializar la clase OrdinalEncoder\n",
        "    categories=[['Bachiller', 'Licenciado', 'Magister', 'Doctorado']],\n",
        "    dtype= 'int'\n",
        "    )\n",
        "\n",
        "codif_ordinal.fit_transform(estudiantes_df[['GradoAcademico']])"
      ],
      "metadata": {
        "id": "-0xSy6VV3_Nr"
      },
      "id": "-0xSy6VV3_Nr",
      "execution_count": null,
      "outputs": []
    },
    {
      "cell_type": "markdown",
      "id": "08a565aa",
      "metadata": {
        "id": "08a565aa"
      },
      "source": [
        "## 1.5.2 Estandarización y Normalización\n",
        "\n",
        "La estandarización y la normalización de variables númericas son pasos esenciales del preprocesamiento de datos que ayudan a garantizar que los modelos de ML puedan aprender de los datos de manera eficaz, transforman los valores de las variables a una escala similar, garantizando que todas las variables contribuyan por igual al proceso de aprendizaje del modelo. Por ejemplo, ingresos en miles de dólares y edad en años están en diferentes escalas. Los modelos pueden dar prioridad a los valores más grandes, lo que provoca un sesgo en las predicciones.\n",
        "\n",
        "\n",
        "Los temas a explorar a continuación son:\n",
        "* **Estandarización**: Escalado de puntaje Z (Z-score).\n",
        "* **Normalización**: Escalamiento mínimo-máximo.\n"
      ]
    },
    {
      "cell_type": "markdown",
      "id": "39504397",
      "metadata": {
        "id": "39504397"
      },
      "source": [
        "### Estandarización\n",
        "\n",
        "La **estandarización**, también conocida como **normalización z-score**, es una técnica comúnmente utilizada en el preprocesamiento de datos para transformar las variables numéricas de manera que tengan una media de 0 y una desviación estándar de 1. su fórmula está determinada por:\n",
        "\n",
        "$$Z = \\frac{X-\\mu}{\\sigma}$$\n",
        "\n",
        "donde $X$ es el valor observado $\\mu$ es la media en el conjunto de datos y $\\sigma$ es desviación estándar en el conjunto de datos.\n",
        "\n"
      ]
    },
    {
      "cell_type": "markdown",
      "id": "4d0b2c08",
      "metadata": {
        "id": "4d0b2c08"
      },
      "source": [
        "![Gráficas asociadas (1).png](data:image/png;base64,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)"
      ]
    },
    {
      "cell_type": "markdown",
      "id": "a33b2ac1",
      "metadata": {
        "id": "a33b2ac1"
      },
      "source": [
        "En Python, se puede utilizar la clase `StandardScaler` de la biblioteca `sklearn.preprocessing` para realizar la estandarización. Para ello planteemos el ejemplo de la edad:"
      ]
    },
    {
      "cell_type": "code",
      "execution_count": null,
      "id": "e63ab57b",
      "metadata": {
        "id": "e63ab57b"
      },
      "outputs": [],
      "source": [
        "# Crear dataframe del ejemplo edad\n",
        "edad_ls =  [18, 20, 22, 21, 19, 23, 18, 24]\n",
        "data = { 'edad': edad_ls }\n",
        "edad_df = pd.DataFrame(data)\n",
        "\n",
        "# Imprimir los primeras 5 instancias\n",
        "edad_df.head(5)"
      ]
    },
    {
      "cell_type": "code",
      "source": [
        "m = np.mean(edad_ls)\n",
        "m"
      ],
      "metadata": {
        "id": "cM215CHdT3YV"
      },
      "id": "cM215CHdT3YV",
      "execution_count": null,
      "outputs": []
    },
    {
      "cell_type": "code",
      "source": [
        "s = np.var(edad_ls, ddof=0)\n",
        "s"
      ],
      "metadata": {
        "id": "n9JqsvdJT9T7"
      },
      "id": "n9JqsvdJT9T7",
      "execution_count": null,
      "outputs": []
    },
    {
      "cell_type": "code",
      "source": [
        "std = np.std(edad_ls, ddof=0)\n",
        "std"
      ],
      "metadata": {
        "id": "JAJlRtr3T9dQ"
      },
      "id": "JAJlRtr3T9dQ",
      "execution_count": null,
      "outputs": []
    },
    {
      "cell_type": "code",
      "source": [
        "(edad_ls[1]-m)/std"
      ],
      "metadata": {
        "id": "sCuS9DPQUmmU"
      },
      "id": "sCuS9DPQUmmU",
      "execution_count": null,
      "outputs": []
    },
    {
      "cell_type": "code",
      "source": [
        "min = np.min(edad_ls)\n",
        "min"
      ],
      "metadata": {
        "id": "iNmiz2XfUYy1"
      },
      "id": "iNmiz2XfUYy1",
      "execution_count": null,
      "outputs": []
    },
    {
      "cell_type": "code",
      "source": [
        "max = np.max(edad_ls)\n",
        "max"
      ],
      "metadata": {
        "id": "Y2FVIWa9Ueit"
      },
      "id": "Y2FVIWa9Ueit",
      "execution_count": null,
      "outputs": []
    },
    {
      "cell_type": "code",
      "source": [
        "(edad_ls[1]-min)/(max-min)"
      ],
      "metadata": {
        "id": "6hChaXWCUen6"
      },
      "id": "6hChaXWCUen6",
      "execution_count": null,
      "outputs": []
    },
    {
      "cell_type": "code",
      "execution_count": null,
      "id": "b654f6b3",
      "metadata": {
        "id": "b654f6b3"
      },
      "outputs": [],
      "source": [
        "# Mostrar estadísticas (resumen). Para reforzar estos temas te sugerimos volver a ver los videos de estadísticas descriptiva\n",
        "# Tiene en cuenta la varianza muestral (n-1)\n",
        "edad_df.describe()"
      ]
    },
    {
      "cell_type": "code",
      "source": [
        "reseVinoArgChi_df['points']"
      ],
      "metadata": {
        "id": "Ml0PrWSjfwOY"
      },
      "id": "Ml0PrWSjfwOY",
      "execution_count": null,
      "outputs": []
    },
    {
      "cell_type": "code",
      "execution_count": null,
      "id": "c1a564be",
      "metadata": {
        "id": "c1a564be"
      },
      "outputs": [],
      "source": [
        "# Importar biblioteca\n",
        "from sklearn.preprocessing import StandardScaler\n",
        "import numpy as np\n",
        "\n",
        "\n",
        "# Instanciar la clase StandardScaler\n",
        "escala_puntoZ = StandardScaler()\n",
        "\n",
        "# Entrenar y transformar. Nueva variable\n",
        "edad_df['Z_edad'] = escala_puntoZ.fit_transform(edad_df[['edad']])\n",
        "\n",
        "# Imprimir primeras 5 instancias.  A cada valor le resto mean\t33.750000 y lo dividio por std\t18.42 (de la varianza poblacional)\n",
        "print('Media {} y desvío estándar {} utilizados '. format(escala_puntoZ.mean_[0], np.sqrt(escala_puntoZ.var_)[0]))\n",
        "edad_df.head(5)\n"
      ]
    },
    {
      "cell_type": "code",
      "source": [
        "from sklearn.preprocessing import StandardScaler\n",
        "import numpy as np\n",
        "\n",
        "escala_puntoZ = StandardScaler() # Instanciar la clase StandardScaler\n",
        "\n",
        "reseVinoArgChi_df['Z_points'] = escala_puntoZ.fit_transform( # Entrenar y transformar. Nueva variable\n",
        "    reseVinoArgChi_df[['points']]\n",
        "    )\n",
        "\n",
        "print('Media {} y desvío estándar {} utilizados '. format(escala_puntoZ.mean_[0], np.sqrt(escala_puntoZ.var_)[0]))\n",
        "\n",
        "display(reseVinoArgChi_df[['points','Z_points']].head(5))\n"
      ],
      "metadata": {
        "id": "GpoECz0JfgeR"
      },
      "id": "GpoECz0JfgeR",
      "execution_count": null,
      "outputs": []
    },
    {
      "cell_type": "code",
      "execution_count": null,
      "id": "53c2fab7",
      "metadata": {
        "id": "53c2fab7"
      },
      "outputs": [],
      "source": [
        "# Importar biblioteca\n",
        "import matplotlib.pyplot as plt\n",
        "\n",
        "# Crear gráfica\n",
        "fig, axs = plt.subplots(2,1, figsize=(15, 6))\n",
        "axs[0].hist(reseVinoArgChi_df[['points']])\n",
        "axs[0].set_title(\"Histograma de 'points'\")\n",
        "axs[1].hist(reseVinoArgChi_df[['Z_points']])\n",
        "axs[1].set_title(\"Histograma de 'points' luego de estandarizar  - Puntaje Z\" )\n",
        "fig.tight_layout()"
      ]
    },
    {
      "cell_type": "markdown",
      "id": "be42674d",
      "metadata": {
        "id": "be42674d"
      },
      "source": [
        "Los datos no cambian su distribución."
      ]
    },
    {
      "cell_type": "markdown",
      "id": "93fc8b5e",
      "metadata": {
        "id": "93fc8b5e"
      },
      "source": [
        "**Cuando usar**\n",
        "\n",
        "La puntuación z es más adecuada si los datos son numéricos y se distribuyen de manera aproximadamente normal o simétrica. En algoritmos basados en el gradiente como Máquina de Vectores de Soporte (Support Vector Machine, SVM) Regresión lineal o Regresión logística. También en el Análisis de Componentes Principales (Principal Component Analysis, PCA)."
      ]
    },
    {
      "cell_type": "markdown",
      "id": "69a6db1e",
      "metadata": {
        "id": "69a6db1e"
      },
      "source": [
        "### Normalización\n",
        "\n",
        "La normalización es otro proceso común en el preprocesamiento de datos que se utiliza para escalar los valores de una variable. A diferencia de la estandarización, que centra los datos alrededor de cero y los escala utilizando la desviación estándar, la normalización ajusta los valores en un rango específico, generalmente entre 0 y 1.\n",
        "\n",
        "\n",
        "\n",
        "\n",
        "#### Escalamiento mínimo-máximo, (Min-Max Scaling)\n",
        "\n",
        "Existen varios métodos de normalización, pero uno de los más comunes es el Min-Max Scaling. En este enfoque, se transforman los datos a un rango específico utilizando la siguiente fórmula:\n",
        "\n",
        "\n",
        "\n",
        "$X_{nueva} = \\frac{X - X_{min}}{X_{max} - X_{min}}$\n",
        "\n",
        "\n",
        "\n",
        "\n",
        "donde $X$ es el valor observado, $X_{min}$ es el valor mínimo en el conjunto de datos y $X_{max}$ es el valor máximo en el conjunto de datos. La fórmula normaliza los valores a un rango de [0, 1].\n",
        "\n",
        "Python ofrece la clase `MinMaxScaler()` de `sklearn.preprocessing`.Veamos como se aplica en el ejemplo edad:\n"
      ]
    },
    {
      "cell_type": "code",
      "execution_count": null,
      "id": "2bd48cf7",
      "metadata": {
        "id": "2bd48cf7"
      },
      "outputs": [],
      "source": [
        "# Importar biblioteca\n",
        "from sklearn.preprocessing import MinMaxScaler\n",
        "\n",
        "\n",
        "escalado_MinMax = MinMaxScaler() # Inicializar la clase MinMaxScaler\n",
        "\n",
        "reseVinoArgChi_df[['MINMAX_points']] = escalado_MinMax.fit_transform( # Entrenar y transformar\n",
        "    reseVinoArgChi_df[['points']]\n",
        "    )\n",
        "\n",
        "print(\"Para la variable Points Max. = {} Mín. = {}\".format(reseVinoArgChi_df[['points']].max(),reseVinoArgChi_df[['points']].min()))\n",
        "display(reseVinoArgChi_df[['points','MINMAX_points']].sort_values(by='MINMAX_points').head(5))\n"
      ]
    },
    {
      "cell_type": "code",
      "execution_count": null,
      "id": "1d0ccebe",
      "metadata": {
        "id": "1d0ccebe"
      },
      "outputs": [],
      "source": [
        "# Crear gráfica\n",
        "\n",
        "fig, axs = plt.subplots(2,1, figsize=(15, 6))\n",
        "axs[0].hist(reseVinoArgChi_df[['points']])\n",
        "axs[0].set_title(\"Histograma de 'points'\")\n",
        "axs[1].hist(reseVinoArgChi_df[['MINMAX_points']])\n",
        "axs[1].set_title(\"Histograma de 'points' luego de normalizar - Escalamiento mínimo-máximo\" )\n",
        "fig.tight_layout()"
      ]
    },
    {
      "cell_type": "markdown",
      "id": "0b2f63b7",
      "metadata": {
        "id": "0b2f63b7"
      },
      "source": [
        "\n",
        "Como se puede ver en la fórmula, el escalado mínimo-máximo conserva el orden relativo de los valores, pero los comprime en un rango específico. El escalamiento Min-Max es ideal cuando los datos no siguen una distribución normal y es importante mantener la relación entre los valores originales. Este método ajusta los datos a un rango específico, como [0, 1], siendo útil en modelos sensibles a magnitudes absolutas, métodos basados en distancias (por ejemplo, k-means o K-Nearest Neighbors). Evite usarlo si los datos contienen valores atípicos, ya que estos pueden comprimir el rango de los valores restantes.\n",
        "\n"
      ]
    },
    {
      "cell_type": "markdown",
      "id": "9e769e8c",
      "metadata": {
        "id": "9e769e8c"
      },
      "source": [
        "Otras normalizaciones:\n",
        "* MaxAbsScaler: escala cada variable por su valor absoluto máximo. Rango [-1, 1].\n",
        "* RobustScaler: resulta particularmente útil cuando se trabaja con conjuntos de datos que contienen valores atípicos.\n",
        "\n",
        "Todos estos y muchos más están implementados en scikit-learn, click en:[Documentación de preprocesamiento ](https://scikit-learn.org/stable/modules/preprocessing.html)"
      ]
    },
    {
      "cell_type": "markdown",
      "source": [
        "📝 **Ejercicio**\n",
        "\n",
        "Sea el siguiente conjunto de datos almacenado en el DataFrame `estudiantes_df`."
      ],
      "metadata": {
        "id": "yuG-Ybe15gZt"
      },
      "id": "yuG-Ybe15gZt"
    },
    {
      "cell_type": "code",
      "source": [
        "est_d = {\n",
        "  'Nombre': ['Lucas','Marcela','Fede','Sol','Sol'],\n",
        "  'Edad': [49, 26, 37, 40, 35],\n",
        "  'GradoAcademico': ['Bachiller','Licenciado','Magister','Doctorado','Licenciado']\n",
        "}\n",
        "\n",
        "# Crear DataFrame\n",
        "estudiantes_df = pd.DataFrame(est_d)"
      ],
      "metadata": {
        "id": "vEbg1zER5ffX"
      },
      "id": "vEbg1zER5ffX",
      "execution_count": null,
      "outputs": []
    },
    {
      "cell_type": "markdown",
      "source": [
        "Normalizar la variedad edad por puntaje Z o Z-score"
      ],
      "metadata": {
        "id": "putJxVSc6F-V"
      },
      "id": "putJxVSc6F-V"
    },
    {
      "cell_type": "code",
      "source": [
        "\n",
        "from sklearn.preprocessing import StandardScaler\n",
        "import numpy as np\n",
        "\n",
        "\n",
        "# Instanciar la clase StandardScaler\n",
        "escala_puntoZ = StandardScaler()\n",
        "\n",
        "# Entrenar y transformar. Nueva variable\n",
        "escala_puntoZ.fit_transform(estudiantes_df[['Edad']])"
      ],
      "metadata": {
        "id": "Z3L82uPX503U"
      },
      "id": "Z3L82uPX503U",
      "execution_count": null,
      "outputs": []
    },
    {
      "cell_type": "markdown",
      "id": "d64ce30f",
      "metadata": {
        "id": "d64ce30f"
      },
      "source": [
        "### Manejo de valores atípicos (outliers)"
      ]
    },
    {
      "cell_type": "markdown",
      "id": "d863bab2",
      "metadata": {
        "id": "d863bab2"
      },
      "source": [
        "#### Identificación de valores atípicos univariados\n"
      ]
    },
    {
      "cell_type": "markdown",
      "id": "5d09496e",
      "metadata": {
        "id": "5d09496e"
      },
      "source": [
        "#### Visualización por Diagrama de caja (Box-plot)"
      ]
    },
    {
      "cell_type": "code",
      "execution_count": null,
      "id": "7f87e94f",
      "metadata": {
        "id": "7f87e94f"
      },
      "outputs": [],
      "source": [
        "# Diagrama de caja\n",
        "fig, ax = plt.subplots(figsize=(15, 3))\n",
        "ax.boxplot(reseVinoArgChi_df[['points']], vert=False)\n",
        "ax.set_title(\"Diagrama de caja (Box Plot) para 'points'\")\n"
      ]
    },
    {
      "cell_type": "markdown",
      "id": "20d40894",
      "metadata": {
        "id": "20d40894"
      },
      "source": [
        "![Gráficas asociadas (2).png](data:image/png;base64,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)"
      ]
    },
    {
      "cell_type": "code",
      "execution_count": null,
      "id": "bab8ea16",
      "metadata": {
        "id": "bab8ea16"
      },
      "outputs": [],
      "source": [
        "# Calcular cuartíles\n",
        "Q1 = reseVinoArgChi_df['points'].quantile(0.25)\n",
        "Q3 = reseVinoArgChi_df['points'].quantile(0.75)\n",
        "\n",
        "# Calcular rango intercualtílico\n",
        "IQR = Q3 - Q1\n",
        "\n",
        "# Calcular límites\n",
        "limite_inferior = Q1 - 1.5 * IQR\n",
        "limite_superior = Q3 + 1.5 * IQR\n",
        "\n",
        "# Detectar valores atípicos\n",
        "atipicos_IQR_df = reseVinoArgChi_df[(reseVinoArgChi_df['points'] < limite_inferior) | (reseVinoArgChi_df['points'] > limite_superior)]\n",
        "\n",
        "# Imprimir resultados\n",
        "print(\"Atipicos en 'points' por IQR:\")\n",
        "atipicos_IQR_df['points']\n"
      ]
    },
    {
      "cell_type": "markdown",
      "id": "df70f255",
      "metadata": {
        "id": "df70f255"
      },
      "source": [
        "El método IQR es simple de aplicar, es conveniente en datos no distribuidos normalmente Sin embargo, tiene ciertas desventajas como el tamaño de la muestra, especialmente en conjuntos de datos más pequeños, puede afectar a su precisión a la hora de reflejar la verdadera dispersión de los datos. Detecta atípicos solo en una variable a la vez, lo que puede ser insuficiente si los valores atípicos están en combinaciones de variables (atípicos multivariados)."
      ]
    },
    {
      "cell_type": "markdown",
      "id": "de7a5d50",
      "metadata": {
        "id": "de7a5d50"
      },
      "source": [
        "#### Método de puntuación Z (Z-score)\n"
      ]
    },
    {
      "cell_type": "code",
      "execution_count": null,
      "id": "9f85a33b",
      "metadata": {
        "id": "9f85a33b"
      },
      "outputs": [],
      "source": [
        "\n",
        "from scipy import stats\n",
        "from sklearn.preprocessing import StandardScaler\n",
        "import numpy as np\n",
        "\n",
        "\n",
        "z_puntaje_point = np.abs(stats.zscore(reseVinoArgChi_df['points'])) ## para trabajar con valores positivos\n",
        "reseVinoArgChi_df['points_z_puntaje'] = z_puntaje_edad\n",
        "\n",
        "# Setear umbral de puntaje z\n",
        "z_umbral = 3\n",
        "\n",
        "# Identificar valor atípico\n",
        "atipicos_estandar_df = reseVinoArgChi_df[reseVinoArgChi_df['points_z_puntaje']  >  z_umbral]\n",
        "\n",
        "# Imprimir resultados\n",
        "display(\"Atipicos en 'point' por puntaje Z :\",atipicos_estandar_df['points_z_puntaje'])"
      ]
    },
    {
      "cell_type": "markdown",
      "id": "a9ddb8e2",
      "metadata": {
        "id": "a9ddb8e2"
      },
      "source": [
        "Si graficamos las puntuaciones Z para cada observación y característica de los datos, ya podemos empezar a detectar algunos valores atípicos.\n",
        "En este gráfico de dispersión de puntuaciones Z, cada punto representa la puntuación Z de un punto de datos individual. La línea discontinua roja indica el umbral de puntuación Z elegido (en este caso, 3). Los valores atípicos se identifican como puntos por encima de este umbral.\n",
        "\n",
        "Continuando con el ejemplo, en edad hay un valor atípico claramente capturado.\n"
      ]
    },
    {
      "cell_type": "code",
      "execution_count": null,
      "id": "68a4dab8",
      "metadata": {
        "id": "68a4dab8"
      },
      "outputs": [],
      "source": [
        "# Crear gráfica\n",
        "fig, ax = plt.subplots(figsize=(15, 3))\n",
        "ax.scatter(reseVinoArgChi_df['points'] , reseVinoArgChi_df['points_z_puntaje'] , color='blue', label='Z-Scores')\n",
        "ax.set_title(\"Puntajes Z (Z-Scores) para 'point'\")\n",
        "plt.axhline(y=z_umbral, color='red', linestyle='--', label='Umbral')\n",
        "plt.legend()"
      ]
    },
    {
      "cell_type": "markdown",
      "id": "087cdf91",
      "metadata": {
        "id": "087cdf91"
      },
      "source": [
        "### Eliminación de valores atípicos\n"
      ]
    },
    {
      "cell_type": "code",
      "execution_count": null,
      "id": "4c2948ee",
      "metadata": {
        "id": "4c2948ee"
      },
      "outputs": [],
      "source": [
        "# Seleccionar edad dentro de los limites\n",
        "datos_sinAtipicos_IQR_df = reseVinoArgChi_df[(reseVinoArgChi_df['points'] >= limite_inferior) & (reseVinoArgChi_df['points']  <= limite_superior)]\n",
        "display(\"Estadística para 'points' con valores atípicos \",reseVinoArgChi_df['points'] .describe())\n",
        "display(\"Estadística para 'points' sin valores atípicos por IQR \",datos_sinAtipicos_IQR_df['points'].describe())\n"
      ]
    },
    {
      "cell_type": "markdown",
      "id": "2c482541",
      "metadata": {
        "id": "2c482541"
      },
      "source": [
        "Los cambios observados después de la eliminación de los valores atípicos se describen a continuación:\n",
        "* **Cambio de la edad media**: la edad media, después de eliminar los valores atípicos, disminuyó ligeramente de 33,75 a\n",
        "aproximadamente 28,27. Esta reducción sugiere que los valores atípicos eliminados eran individuos mayores.\n",
        "* **Cambio de la desviación estándar para la edad**: la desviación estándar para la edad disminuyó de 18,90 a 8,75, lo que indica que la dispersión de edades se volvió ligeramente más estrecha después de la eliminación de los valores atípicos, lo que\n",
        "probablemente contribuyó a una mayor variabilidad en el conjunto de datos original.\n",
        "*  **Valores mínimos y máximos de edad**: la edad mínima permaneció igual, 18, mientras que la edad máxima disminuyó de 90 a 45, lo que indica que los individuos mayores (posibles valores atípicos) se eliminaron durante el manejo de los valores atípicos.\n",
        "\n",
        "\n",
        "La eliminación de valores atípicos condujo a una disminución tanto de la edad media como de la desviación estándar, así como a un ligero aumento de la puntuación media de la prueba. Si bien la eliminación de valores atípicos puede mejorar la calidad de los datos, especialmente cuando se deben a errores de entrada de datos o imprecisiones de medición, también reduce la variabilidad del conjunto de datos. Si los valores atípicos representan una variabilidad real en la Poblacion, su eliminación podría distorsionar la imagen general de los datos. Para el ejemplo de edad, no estaríamos contemplado a los adultos mayores. Por lo tanto, se debe considerar cuidadosamente si los valores atípicos representan puntos de datos genuinos o errores.\n",
        "\n"
      ]
    },
    {
      "cell_type": "markdown",
      "id": "2a14836f",
      "metadata": {
        "id": "2a14836f"
      },
      "source": [
        "### Resumen y caso de uso\n",
        "\n",
        "**1. Codificación de características categóricas**\n",
        "* Codificación de etiqueta (Label encoding)\n",
        "* Codificación Ordinal\n",
        "* Codificación One-Hot (One-Hot encoding)\n",
        "\n",
        "**2.Estandarización y Normalización**\n",
        "* Estandarización: escalado de puntaje Z (Z-score)\n",
        "* Normalización: escalado por mínimo-máximo.\n",
        "\n",
        "**3.Detección y eliminación de valores atípicos (outliers)**\n",
        "* Visualización por Diagrama de caja (Box-plot)\n",
        "* Método por Rango Intercuartil (Interquartile Range, IQR)\n",
        "* Método por puntuación Z (Z-score)\n",
        "* Conocimiento de dominio\n",
        "* Eliminación de valores atípicos por IQR\n"
      ]
    }
  ],
  "metadata": {
    "colab": {
      "provenance": [],
      "private_outputs": true,
      "toc_visible": true,
      "include_colab_link": true
    },
    "language_info": {
      "name": "python"
    },
    "kernelspec": {
      "name": "python3",
      "display_name": "Python 3"
    }
  },
  "nbformat": 4,
  "nbformat_minor": 5
}