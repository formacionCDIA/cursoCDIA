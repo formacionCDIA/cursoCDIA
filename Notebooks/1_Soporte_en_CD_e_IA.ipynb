{
  "nbformat": 4,
  "nbformat_minor": 0,
  "metadata": {
    "colab": {
      "provenance": [],
      "private_outputs": true,
      "toc_visible": true,
      "include_colab_link": true
    },
    "kernelspec": {
      "name": "python3",
      "display_name": "Python 3"
    },
    "language_info": {
      "name": "python"
    }
  },
  "cells": [
    {
      "cell_type": "markdown",
      "metadata": {
        "id": "view-in-github",
        "colab_type": "text"
      },
      "source": [
        "<a href=\"https://colab.research.google.com/github/formacionCDIA/cursoCDIA/blob/main/Notebooks/1_Soporte_en_CD_e_IA.ipynb\" target=\"_parent\"><img src=\"https://colab.research.google.com/assets/colab-badge.svg\" alt=\"Open In Colab\"/></a>"
      ]
    },
    {
      "cell_type": "markdown",
      "source": [
        "# **Ciencia de Datos e Inteligencia Artificial**\n",
        "# **1. Soporte en CD e IA**\n"
      ],
      "metadata": {
        "id": "3KLrNkCfbXMa"
      }
    },
    {
      "cell_type": "markdown",
      "source": [
        "# 🎯 Reforzando programación en Python\n"
      ],
      "metadata": {
        "id": "Izg5KbH9Oi6D"
      }
    },
    {
      "cell_type": "markdown",
      "source": [
        "## 🥇 Camino del programa\n"
      ],
      "metadata": {
        "id": "2VMsAuj3Kkh1"
      }
    },
    {
      "cell_type": "markdown",
      "source": [
        "\n",
        "### Ejecutar Python\n",
        "Empecemos este recorrido de repaso, ejecutando el primer programa que tradicionalmente se escribe en un nuevo lenguaje de programación, que se llama *“Hola, mundo”* . Todo lo que hace el programa es mostrar las palabras *“Hola, mundo”*. En Python, se ve así:"
      ],
      "metadata": {
        "id": "F5D3lioOKoTe"
      }
    },
    {
      "cell_type": "code",
      "source": [
        "# Cómo veras, para comentar en una línea se utiliza '#'\n",
        "print('Hola, mundo')"
      ],
      "metadata": {
        "id": "8Rq5O899HjkK"
      },
      "execution_count": null,
      "outputs": []
    },
    {
      "cell_type": "markdown",
      "source": [
        "Esta sentencia muestra un resultado en la pantalla. En este caso, el resultado es la frase \"*hola mundo*\". Las comillas en el programa marcan el principio y el final del texto a visualizar: estas no aparecen en el resultado. Los paréntesis indican que `print` es una función.\n",
        "\n",
        "### Operadores aritméticos\n",
        "Los operadores +, - y * realizan sumas, restas y multiplicaciones, como en los siguientes ejemplos:\n"
      ],
      "metadata": {
        "id": "7eQqIOhhIVkj"
      }
    },
    {
      "cell_type": "code",
      "source": [
        "4 + 2"
      ],
      "metadata": {
        "id": "mYpIXZHmKFio"
      },
      "execution_count": null,
      "outputs": []
    },
    {
      "cell_type": "code",
      "source": [
        " 6 * 7"
      ],
      "metadata": {
        "id": "WHEleI6uKgLn"
      },
      "execution_count": null,
      "outputs": []
    },
    {
      "cell_type": "code",
      "source": [
        "type(6)"
      ],
      "metadata": {
        "id": "N358xnDJLIlA"
      },
      "execution_count": null,
      "outputs": []
    },
    {
      "cell_type": "code",
      "source": [
        "type(42)"
      ],
      "metadata": {
        "id": "QX6yOYgJLIX9"
      },
      "execution_count": null,
      "outputs": []
    },
    {
      "cell_type": "code",
      "source": [
        "type('Hola, mundo')"
      ],
      "metadata": {
        "id": "ByodnZGRHgYJ"
      },
      "execution_count": null,
      "outputs": []
    },
    {
      "cell_type": "markdown",
      "source": [
        "## 🥇 Programación en Python\n",
        "\n",
        "\n",
        "\n",
        "\n"
      ],
      "metadata": {
        "id": "Aa20XL-Tj35B"
      }
    },
    {
      "cell_type": "markdown",
      "source": [
        "### Variables\n",
        "\n",
        "Python nos permite asignarle un nombre a un valor, de forma tal de «recordarlo» para usarlo posteriormente, mediante la sentencia:\n",
        "\n",
        "```\n",
        "<nombre> = <expresión>\n",
        "```\n",
        "El concepto de expresión, lo veremos más adelante, antes, recordemos que es y como crear un Variable.  \n",
        "Una sentencia de asignación crea una nueva variable y le da un valor:"
      ],
      "metadata": {
        "id": "fLWHXyQILxw0"
      }
    },
    {
      "cell_type": "code",
      "source": [
        "mensaje = 'Y ahora algo completamente diferente'\n",
        "\n",
        "n = 17\n",
        "\n",
        "pi = 3.1415926535897932"
      ],
      "metadata": {
        "id": "xx3Th3xWRrXs"
      },
      "execution_count": null,
      "outputs": []
    },
    {
      "cell_type": "markdown",
      "source": [
        "Este ejemplo hace tres asignaciones. La primera asigna una cadena a una nueva variable\n",
        "llamada mensaje; la segunda asigna al entero 17 en n; la tercera asigna el valor (aproximado)\n",
        "de π a pi. En donde 3.1415... es un número de coma flotante (*en inglés, floating-point number*)."
      ],
      "metadata": {
        "id": "qVM91pMSmQjB"
      }
    },
    {
      "cell_type": "markdown",
      "source": [
        "Los nombres de variable pueden ser tan largos como quieras. Pueden contener tanto letras  como números, pero no pueden comenzar con un número. Es legal utilizar letras mayúsculas, pero es convencional utilizar solo minúsculas para los nombres de variables. Python distingue mayúsculas de minúsculas, así que *Hola* es un identificador y *hola* es otro identificador.\n",
        "\n",
        "\n"
      ],
      "metadata": {
        "id": "-xyUsOS7SHia"
      }
    },
    {
      "cell_type": "code",
      "source": [
        "Hola = 'con mayúscula'\n",
        "hola = 'sin mayúscula'\n"
      ],
      "metadata": {
        "id": "xn9I9MSixEoY"
      },
      "execution_count": null,
      "outputs": []
    },
    {
      "cell_type": "code",
      "source": [
        "Hola"
      ],
      "metadata": {
        "id": "XE9D3VhxxPa1"
      },
      "execution_count": null,
      "outputs": []
    },
    {
      "cell_type": "code",
      "source": [
        "hola"
      ],
      "metadata": {
        "id": "sOUfVjZHxQrN"
      },
      "execution_count": null,
      "outputs": []
    },
    {
      "cell_type": "markdown",
      "source": [
        "Todos esos nombres se llaman identificadores y Python tiene reglas sobre qué es un identificador válido y qué no lo es.\n",
        "Un identificador comienza con una letra o con guión bajo (_) y luego sigue con una secuencia de letras, números y guiones bajos. Los espacios no están permitidos dentro de los identificadores.\n",
        "A menudo se utiliza en nombres con varias palabras, tales como tu_nombre o velocidad_de_golondrina_sin_carga.\n",
        "Si le das un nombre ilegal a un identificador, en este caso el nombre de variable, obtendrás un error de sintaxis:"
      ],
      "metadata": {
        "id": "IE5duMj5xFMd"
      }
    },
    {
      "cell_type": "code",
      "source": [
        "76trombones = 'gran desfile'"
      ],
      "metadata": {
        "id": "2bHyKlguSOsC"
      },
      "execution_count": null,
      "outputs": []
    },
    {
      "cell_type": "code",
      "source": [
        "class = 'Cimología teórica avanzada'\n"
      ],
      "metadata": {
        "id": "jKkptEIySV32"
      },
      "execution_count": null,
      "outputs": []
    },
    {
      "cell_type": "markdown",
      "source": [
        "`76trombones` es ilegal porque comienza con un número. Sin embargo, ¿qué tiene de malo `class`?\n",
        "Resulta que `class` es una de las palabras clave de Python. El intérprete utiliza las palabras claves para reconocer la estructura del programa y no se pueden utilizar como nombres de variable.\n",
        "\n",
        "Python 3 tiene estas palabras claves:\n",
        "\n",
        "\n",
        "```\n",
        "False\n",
        "class\n",
        "finally\n",
        "is\n",
        "return\n",
        "None\n",
        "continue\n",
        "for\n",
        "lambda\n",
        "try\n",
        "True\n",
        "def\n",
        "from\n",
        "nonlocal\n",
        "while\n",
        "and\n",
        "del\n",
        "global\n",
        "not\n",
        "with\n",
        "as\n",
        "elif\n",
        "if\n",
        "or\n",
        "yield\n",
        "assert\n",
        "else\n",
        "import\n",
        "pass\n",
        "break\n",
        "except\n",
        "raise\n",
        "```\n",
        "\n",
        "\n",
        "\n",
        "\n",
        "No tienes que memorizar esta lista. En la mayoría de los entornos de desarrollo, las palabras claves se muestran con un color diferente; si intentas utilizar una como nombre de variable, lo sabrás."
      ],
      "metadata": {
        "id": "zRSXXCWZo7HZ"
      }
    },
    {
      "cell_type": "markdown",
      "source": [
        "#### Expresiones\n",
        "Una expresión es una combinación de valores, variables y operadores. Un valor por sí mismo es considerado una expresión, y por consigiuente lo es una variable, así que las siguientes son todas expresiones legales:\n",
        "\n"
      ],
      "metadata": {
        "id": "DgzsboTxGM3w"
      }
    },
    {
      "cell_type": "code",
      "source": [
        "'a'"
      ],
      "metadata": {
        "id": "u8gW8kcWGN2O"
      },
      "execution_count": null,
      "outputs": []
    },
    {
      "cell_type": "code",
      "source": [
        "n"
      ],
      "metadata": {
        "id": "V58NA9pKqJS_"
      },
      "execution_count": null,
      "outputs": []
    },
    {
      "cell_type": "code",
      "source": [
        "n + 25"
      ],
      "metadata": {
        "id": "HkGydd1wqKz7"
      },
      "execution_count": null,
      "outputs": []
    },
    {
      "cell_type": "markdown",
      "source": [
        "Cuando escribes una expresión en el prompt, en este caso la celda de código del cuaderno, el intérprete la evalúa, lo cual significa que encuentra el valor de la expresión. En este ejemplo, el carácter `'a'`, la variable`n` que tiene el valor 17 y `n + 25` que tiene el valor 42.\n",
        "\n",
        "Usamos operaciones para combinar expresiones y construir expresiones más complejas, pero atención con qué operaciones están permitidas según los tipo de datos."
      ],
      "metadata": {
        "id": "O7ACDNPuqRLc"
      }
    },
    {
      "cell_type": "code",
      "source": [
        "a = 10\n",
        "b = (n + 25) * a\n"
      ],
      "metadata": {
        "id": "J7w7RqpUwTWd"
      },
      "execution_count": null,
      "outputs": []
    },
    {
      "cell_type": "markdown",
      "source": [
        "* Se pueden usar paréntesis para indicar un orden de evaluación: `(n+25)*a`.\n",
        "* Igual que en la notación matemática, si no hay paréntesis en la expresión, primero se agrupan las exponenciaciones, luego los productos y cocientes, y luego las sumas y restas.\n",
        "Pero que pasa si quiero, operar con variables cadenas o string.\n",
        "En general, no puedes realizar operaciones matemáticas con cadenas, incluso si las cadenas parecen números, así que las siguientes expresiones son ilegales:\n"
      ],
      "metadata": {
        "id": "2YKQPxFzwt7_"
      }
    },
    {
      "cell_type": "code",
      "source": [
        "'comida'-'china'"
      ],
      "metadata": {
        "id": "i6v7YB6Dzb10"
      },
      "execution_count": null,
      "outputs": []
    },
    {
      "cell_type": "code",
      "source": [
        "'huevos'/'fácil'"
      ],
      "metadata": {
        "id": "Idontxadzd_R"
      },
      "execution_count": null,
      "outputs": []
    },
    {
      "cell_type": "code",
      "source": [
        "'naturaleza'*'contaminación'"
      ],
      "metadata": {
        "id": "2NPNAwzJzn-B"
      },
      "execution_count": null,
      "outputs": []
    },
    {
      "cell_type": "markdown",
      "source": [
        "Sin embargo, hay dos excepciones: `+` y `*`. El operador + realiza una concatenación, lo cual significa que une las cadenas enlazándolas\n",
        "de extremo a extremo. Por ejemplo:\n"
      ],
      "metadata": {
        "id": "tmLrGe_mzxj7"
      }
    },
    {
      "cell_type": "code",
      "source": [
        "primero = 'mar'"
      ],
      "metadata": {
        "id": "fJjC-n-PwtYI"
      },
      "execution_count": null,
      "outputs": []
    },
    {
      "cell_type": "code",
      "source": [
        "segundo = 'playa'"
      ],
      "metadata": {
        "id": "TqgRbeN5z8Y5"
      },
      "execution_count": null,
      "outputs": []
    },
    {
      "cell_type": "code",
      "source": [
        "primero + segundo"
      ],
      "metadata": {
        "id": "kGdeMGVzzwGF"
      },
      "execution_count": null,
      "outputs": []
    },
    {
      "cell_type": "markdown",
      "source": [
        "El operador `*` también funciona en cadenas: hace repetición. Por ejemplo:"
      ],
      "metadata": {
        "id": "pHSR4eSg0KIc"
      }
    },
    {
      "cell_type": "code",
      "source": [
        "'Spam'*3"
      ],
      "metadata": {
        "id": "3qxSUo9C0BI_"
      },
      "execution_count": null,
      "outputs": []
    },
    {
      "cell_type": "markdown",
      "source": [
        "Si uno de los valores es una cadena, el otro tiene que ser un entero."
      ],
      "metadata": {
        "id": "cmMIwHtW0Rm5"
      }
    },
    {
      "cell_type": "markdown",
      "source": [
        "### Tipos de datos y Operadores\n"
      ],
      "metadata": {
        "id": "oCYIdT0NGPfC"
      }
    },
    {
      "cell_type": "markdown",
      "source": [
        "**Tipos de datos básicos en Python**\n",
        "\n",
        "<table><thead><tr><th class=\"has-text-align-left\" data-align=\"left\">Nombre de tipo</th><th>Tipo en Python</th><th class=\"has-text-align-left\" data-align=\"left\">Ejemplo</th></tr></thead><tbody><tr><td class=\"has-text-align-left\" data-align=\"left\">Entero</td><td><a href=\"https://docs.python.org/3/library/functions.html#int\" target=\"_blank\" rel=\"noreferrer noopener\">int</a></td><td class=\"has-text-align-left\" data-align=\"left\">6, 42, -2, 789</td></tr><tr><td class=\"has-text-align-left\" data-align=\"left\">Punto flotante</td><td><a href=\"https://docs.python.org/3/library/functions.html#float\" target=\"_blank\" rel=\"noreferrer noopener\">float</a></td><td class=\"has-text-align-left\" data-align=\"left\">8.5, 6.50, 9.7e10</td></tr><tr><td class=\"has-text-align-left\" data-align=\"left\">Número complejo</td><td><a href=\"https://docs.python.org/3/library/functions.html#complex\" target=\"_blank\" rel=\"noreferrer noopener\">complex</a></td><td class=\"has-text-align-left\" data-align=\"left\">-1.23+4.5j</td></tr><tr><td class=\"has-text-align-left\" data-align=\"left\">Cadena de caracteres</td><td><a href=\"https://docs.python.org/es/3/library/stdtypes.html#textseq\" target=\"_blank\" rel=\"noreferrer noopener\">str</a></td><td class=\"has-text-align-left\" data-align=\"left\">'sol', 'Juan', 'pizza'</td></tr><tr><td class=\"has-text-align-left\" data-align=\"left\">Booleano</td><td><a href=\"https://docs.python.org/3/library/stdtypes.html#typebool\" target=\"_blank\" rel=\"noreferrer noopener\">bool</a></td><td class=\"has-text-align-left\" data-align=\"left\">True, False</td></tr><tr><td class=\"has-text-align-left\" data-align=\"left\">Lista</td><td><a href=\"https://docs.python.org/3/library/stdtypes.html#list\" target=\"_blank\" rel=\"noreferrer noopener\">list</a></td><td class=\"has-text-align-left\" data-align=\"left\">[1, 42, 3j, 'Hello']</td></tr><tr><td class=\"has-text-align-left\" data-align=\"left\">Tupla</td><td><a href=\"https://docs.python.org/3/library/stdtypes.html#tuple\" target=\"_blank\" rel=\"noreferrer noopener\">tuple</a></td><td class=\"has-text-align-left\" data-align=\"left\">(3, 'Coche', 8.9)</td></tr><tr><td class=\"has-text-align-left\" data-align=\"left\">Mapa o diccionario</td><td><a href=\"https://docs.python.org/3/library/stdtypes.html#dict\" target=\"_blank\" rel=\"noreferrer noopener\">dict</a></td><td class=\"has-text-align-left\" data-align=\"left\">{'m':0,'a':2,'d':5}</td></tr><tr><td class=\"has-text-align-left\" data-align=\"left\">Conjunto</td><td><a href=\"https://docs.python.org/3/library/stdtypes.html#set\" target=\"_blank\" rel=\"noreferrer noopener\">set</a></td><td class=\"has-text-align-left\" data-align=\"left\">{3, 4, 5, 'Juan', 3.21}</td></tr><tr><td class=\"has-text-align-left\" data-align=\"left\">Rango</td><td><a href=\"https://docs.python.org/3/library/stdtypes.html#range\" target=\"_blank\" rel=\"noreferrer noopener\">range</a></td><td class=\"has-text-align-left\" data-align=\"left\">range(5, 10), range(-5, 20, 4)</td></tr>\n",
        "<tr><td class=\"has-text-align-left\" data-align=\"left\">Binario</td><td><a href=\"https://elpythonista.com/string-en-python\" target=\"_blank\" rel=\"noreferrer noopener\">bytes</a></td><td class=\"has-text-align-left\" data-align=\"left\">b’3y4′, bytes(45)</td></tr>\n",
        "</tbody></table>\n"
      ],
      "metadata": {
        "id": "svw53h4zuqdu"
      }
    },
    {
      "cell_type": "code",
      "source": [
        "type(-2)"
      ],
      "metadata": {
        "id": "i49kM12jA9UB"
      },
      "execution_count": null,
      "outputs": []
    },
    {
      "cell_type": "code",
      "source": [
        "type(-1.23+4.5j)"
      ],
      "metadata": {
        "id": "8iPoTyBcA8-m"
      },
      "execution_count": null,
      "outputs": []
    },
    {
      "cell_type": "code",
      "source": [
        "type(True)"
      ],
      "metadata": {
        "id": "mgEBxLsHA3z7"
      },
      "execution_count": null,
      "outputs": []
    },
    {
      "cell_type": "code",
      "source": [
        "type(b'3y4')"
      ],
      "metadata": {
        "id": "1st0fyo4f5Cu"
      },
      "execution_count": null,
      "outputs": []
    },
    {
      "cell_type": "markdown",
      "source": [
        "Los operadores son símbolos que le indican al intérprete que realice una operación específica, como aritmética, comparación, lógica, etc.\n",
        "Existen diferentes tipos de operadores en Python, que tienen en cuentan los diferentes tipos de datos. Los principales son:\n",
        "\n",
        "* Operadores aritméticos\n",
        "* Operadores relacionales\n",
        "* Operadores Bit a Bit\n",
        "* Operadores de asignación\n",
        "* Operadores lógicos\n",
        "* Operadores de pertenencia\n",
        "* Operadores de identidad\n"
      ],
      "metadata": {
        "id": "4VZvs1NeArWX"
      }
    },
    {
      "cell_type": "markdown",
      "source": [
        "<table>\n",
        "<thead>\n",
        "<tr>\n",
        "<th style=\"text-align:center\">Operador aritmético</th>\n",
        "<th style=\"text-align:center\">Descripción</th>\n",
        "<th style=\"text-align:center\">Uso</th>\n",
        "</tr>\n",
        "</thead>\n",
        "<tbody>\n",
        "<tr>\n",
        "<td style=\"text-align:center\">+</td>\n",
        "<td style=\"text-align:center\">Realiza Adición entre los operandos</td>\n",
        "<td style=\"text-align:center\">10 + 7 = 17</td>\n",
        "</tr>\n",
        "<tr>\n",
        "<td style=\"text-align:center\">-</td>\n",
        "<td style=\"text-align:center\">Realiza Substracción entre los operandos</td>\n",
        "<td style=\"text-align:center\">10 - 7 = 3</td>\n",
        "</tr>\n",
        "<tr>\n",
        "<td style=\"text-align:center\">*</td>\n",
        "<td style=\"text-align:center\">Realiza Multiplicación entre los operandos</td>\n",
        "<td style=\"text-align:center\">10 * 7 = 70</td>\n",
        "</tr>\n",
        "<tr>\n",
        "<td style=\"text-align:center\">/</td>\n",
        "<td style=\"text-align:center\">Realiza División entre los operandos</td>\n",
        "<td style=\"text-align:center\">10 / 7 = 1.42 ...</td>\n",
        "</tr>\n",
        "<tr>\n",
        "<td style=\"text-align:center\">%</td>\n",
        "<td style=\"text-align:center\">Realiza un módulo entre los operandos</td>\n",
        "<td style=\"text-align:center\">10 % 7 = 3</td>\n",
        "</tr>\n",
        "<tr>\n",
        "<td style=\"text-align:center\">**</td>\n",
        "<td style=\"text-align:center\">Realiza la potencia de los operandos</td>\n",
        "<td style=\"text-align:center\">10 ** 7 = 10000000</td>\n",
        "</tr>\n",
        "<tr>\n",
        "<td style=\"text-align:center\">//</td>\n",
        "<td style=\"text-align:center\">Realiza la división con resultado de número entero</td>\n",
        "<td style=\"text-align:center\">10 // 7 = 1</td>\n",
        "</tr>\n",
        "</tbody>\n",
        "</table>"
      ],
      "metadata": {
        "id": "3hyOoHKlDMF4"
      }
    },
    {
      "cell_type": "code",
      "source": [
        "10 / 7"
      ],
      "metadata": {
        "id": "pHpOux3EFhjy"
      },
      "execution_count": null,
      "outputs": []
    },
    {
      "cell_type": "code",
      "source": [
        "10 % 7"
      ],
      "metadata": {
        "id": "E1_cY3kUFrqT"
      },
      "execution_count": null,
      "outputs": []
    },
    {
      "cell_type": "code",
      "source": [
        "10 ** 7"
      ],
      "metadata": {
        "id": "AsdZdhV4FDpk"
      },
      "execution_count": null,
      "outputs": []
    },
    {
      "cell_type": "code",
      "source": [
        "10 // 7"
      ],
      "metadata": {
        "id": "OkgIO3-dGCET"
      },
      "execution_count": null,
      "outputs": []
    },
    {
      "cell_type": "markdown",
      "source": [
        "<table>\n",
        "<thead>\n",
        "<tr>\n",
        "<th style=\"text-align:center\">Operador relacional</th>\n",
        "<th style=\"text-align:center\">Descripción</th>\n",
        "<th style=\"text-align:center\">Uso</th>\n",
        "</tr>\n",
        "</thead>\n",
        "<tbody>\n",
        "<tr>\n",
        "<td style=\"text-align:center\">&gt;</td>\n",
        "<td style=\"text-align:center\">Devuelve True si el operador de la izquierda es mayor que el operador de la derecha</td>\n",
        "<td style=\"text-align:center\">10 &gt; 7 devuelve True</td>\n",
        "</tr>\n",
        "<tr>\n",
        "<td style=\"text-align:center\">&lt;</td>\n",
        "<td style=\"text-align:center\">Devuelve True si el operador de la derecha es mayor que el operador de la izquierda</td>\n",
        "<td style=\"text-align:center\">10 &lt; 7 devuelve False</td>\n",
        "</tr>\n",
        "<tr>\n",
        "<td style=\"text-align:center\">==</td>\n",
        "<td style=\"text-align:center\">Devuelve True si ambos operandos son iguales</td>\n",
        "<td style=\"text-align:center\">10 == 7 devuelve False</td>\n",
        "</tr>\n",
        "<tr>\n",
        "<td style=\"text-align:center\">&gt;=</td>\n",
        "<td style=\"text-align:center\">Devuelve True si el operador de la izquierda es mayor o igual que el operador de la derecha</td>\n",
        "<td style=\"text-align:center\">10 &gt;= 7 devuelve True</td>\n",
        "</tr>\n",
        "<tr>\n",
        "<td style=\"text-align:center\">&lt;=</td>\n",
        "<td style=\"text-align:center\">Devuelve True si el operador de la derecha es mayor o igual que el operador de la izquierda</td>\n",
        "<td style=\"text-align:center\">10 &lt;= 7 devuelve False</td>\n",
        "</tr>\n",
        "<tr>\n",
        "<td style=\"text-align:center\">!=</td>\n",
        "<td style=\"text-align:center\">Devuelve True si ambos operandos no son iguales</td>\n",
        "<td style=\"text-align:center\">10 != 7 devuelve True</td>\n",
        "</tr>\n",
        "</tbody>\n",
        "</table>"
      ],
      "metadata": {
        "id": "9vt_9E7cCzXV"
      }
    },
    {
      "cell_type": "code",
      "source": [
        "10<=7"
      ],
      "metadata": {
        "id": "mDR1lAL5Fh8y"
      },
      "execution_count": null,
      "outputs": []
    },
    {
      "cell_type": "code",
      "source": [
        "type(10<=7)"
      ],
      "metadata": {
        "id": "PkZ68ibhGPEE"
      },
      "execution_count": null,
      "outputs": []
    },
    {
      "cell_type": "markdown",
      "source": [
        "<table>\n",
        "<thead>\n",
        "<tr>\n",
        "<th style=\"text-align:center\">Operador Bit a Bit </th>\n",
        "<th style=\"text-align:center\">Descripción</th>\n",
        "<th style=\"text-align:center\">Uso</th>\n",
        "</tr>\n",
        "</thead>\n",
        "<tbody>\n",
        "<tr>\n",
        "<td style=\"text-align:center\">&amp;</td>\n",
        "<td style=\"text-align:center\">Realiza bit a bit la operación AND en los operandos</td>\n",
        "<td style=\"text-align:center\">a &amp; b = 2 (Binario: 10 &amp; 11 = 10)</td>\n",
        "</tr>\n",
        "<tr>\n",
        "<td style=\"text-align:center\">|</td>\n",
        "<td style=\"text-align:center\">Realiza bit a bit la operación OR en los operandos</td>\n",
        "<td style=\"text-align:center\">a | b = 3 (Binario: 10 | 11 = 11)</td>\n",
        "</tr>\n",
        "<tr>\n",
        "<td style=\"text-align:center\">^</td>\n",
        "<td style=\"text-align:center\">Realiza bit a bit la operación XOR en los operandos</td>\n",
        "<td style=\"text-align:center\">a ^ b = 1 (Binario: 10 ^ 11 = 01)</td>\n",
        "</tr>\n",
        "<tr>\n",
        "<td style=\"text-align:center\">~</td>\n",
        "<td style=\"text-align:center\">Realiza bit a bit la operación NOT bit a bit. Invierte cada bit en el operando</td>\n",
        "<td style=\"text-align:center\">~a = -3 (Binario: ~(00000010) = (11111101))</td>\n",
        "</tr>\n",
        "<tr>\n",
        "<td style=\"text-align:center\">&gt;&gt;</td>\n",
        "<td style=\"text-align:center\">Realiza un desplazamiento a la derecha bit a bit. Desplaza los bits del operador de la izquierda a la derecha tantos bits como indica el operador de la derecha</td>\n",
        "<td style=\"text-align:center\">a &gt;&gt; b = 0 (Binario: 00000010 &gt;&gt; 00000011 = 0)</td>\n",
        "</tr>\n",
        "<tr>\n",
        "<td style=\"text-align:center\">&lt;&lt;</td>\n",
        "<td style=\"text-align:center\">Realiza un desplazamiento a la izquierda bit a bit. Desplaza los bits del operando de la izquierda a la izquierda tantos bits como especifique el operador de la derecha</td>\n",
        "<td style=\"text-align:center\">a &lt;&lt; b = 16 (Binario: 00000010 &lt;&lt; 00000011 = 00001000)</td>\n",
        "</tr>\n",
        "</tbody>\n",
        "</table>"
      ],
      "metadata": {
        "id": "aoPJhePXhTC3"
      }
    },
    {
      "cell_type": "code",
      "source": [
        "a = 2\n",
        "b = 3"
      ],
      "metadata": {
        "id": "vU4EdDWrhrEC"
      },
      "execution_count": null,
      "outputs": []
    },
    {
      "cell_type": "code",
      "source": [
        "a & b"
      ],
      "metadata": {
        "id": "vBNU3bqqh7Aa"
      },
      "execution_count": null,
      "outputs": []
    },
    {
      "cell_type": "code",
      "source": [
        "print(bin(a),bin(b), bin(a & b))"
      ],
      "metadata": {
        "id": "A35vEkWpiIoy"
      },
      "execution_count": null,
      "outputs": []
    },
    {
      "cell_type": "code",
      "source": [
        "a | b"
      ],
      "metadata": {
        "id": "YWmwLiHhiTbl"
      },
      "execution_count": null,
      "outputs": []
    },
    {
      "cell_type": "code",
      "source": [
        "print(bin(a),bin(b), bin(a | b))"
      ],
      "metadata": {
        "id": "vM4eCyoGjx9x"
      },
      "execution_count": null,
      "outputs": []
    },
    {
      "cell_type": "code",
      "source": [
        "a << b"
      ],
      "metadata": {
        "id": "2uOqhRG8jk3i"
      },
      "execution_count": null,
      "outputs": []
    },
    {
      "cell_type": "code",
      "source": [
        "print(bin(a),bin(b), bin(a << b))"
      ],
      "metadata": {
        "id": "qXpxfnWTj2PP"
      },
      "execution_count": null,
      "outputs": []
    },
    {
      "cell_type": "markdown",
      "source": [
        "<table>\n",
        "<thead>\n",
        "<tr>\n",
        "<th style=\"text-align:center\">Operador de asignación</th>\n",
        "<th style=\"text-align:center\">Descripción</th>\n",
        "</tr>\n",
        "</thead>\n",
        "<tbody>\n",
        "<tr>\n",
        "<td style=\"text-align:center\">=</td>\n",
        "<td style=\"text-align:center\">a = 7. El valor 7 es asignado a la variable a</td>\n",
        "</tr>\n",
        "<tr>\n",
        "<td style=\"text-align:center\">+=</td>\n",
        "<td style=\"text-align:center\">a += 3 es equivalente a a = a + 3</td>\n",
        "</tr>\n",
        "<tr>\n",
        "<td style=\"text-align:center\">-=</td>\n",
        "<td style=\"text-align:center\">a -= 3 es equivalente a a = a - 3</td>\n",
        "</tr>\n",
        "<tr>\n",
        "<td style=\"text-align:center\">*=</td>\n",
        "<td style=\"text-align:center\">a *= 3 es equivalente a a = a * 3</td>\n",
        "</tr>\n",
        "<tr>\n",
        "<td style=\"text-align:center\">/=</td>\n",
        "<td style=\"text-align:center\">a /= 3 es equivalente a a = a / 3</td>\n",
        "</tr>\n",
        "<tr>\n",
        "<td style=\"text-align:center\">%=</td>\n",
        "<td style=\"text-align:center\">a %= 3 es equivalente a a = a % 3</td>\n",
        "</tr>\n",
        "<tr>\n",
        "<td style=\"text-align:center\">**=</td>\n",
        "<td style=\"text-align:center\">a **= 3 es equivalente a a = a ** 3</td>\n",
        "</tr>\n",
        "<tr>\n",
        "<td style=\"text-align:center\">//=</td>\n",
        "<td style=\"text-align:center\">a //= 3 es equivalente a a = a // 3</td>\n",
        "</tr>\n",
        "<tr>\n",
        "<td style=\"text-align:center\">&amp;=</td>\n",
        "<td style=\"text-align:center\">a &amp;= 3 es equivalente a a = a &amp; 3</td>\n",
        "</tr>\n",
        "<tr>\n",
        "<td style=\"text-align:center\">|=</td>\n",
        "<td style=\"text-align:center\">a |= 3 es equivalente a a = a | 3</td>\n",
        "</tr>\n",
        "<tr>\n",
        "<td style=\"text-align:center\">^=</td>\n",
        "<td style=\"text-align:center\">a ^= 3 es equivalente a a = a ^ 3</td>\n",
        "</tr>\n",
        "<tr>\n",
        "<td style=\"text-align:center\">&gt;&gt;=</td>\n",
        "<td style=\"text-align:center\">a &gt;&gt;= 3 es equivalente a a = a &gt;&gt; 3</td>\n",
        "</tr>\n",
        "<tr>\n",
        "<td style=\"text-align:center\">&lt;&lt;=</td>\n",
        "<td style=\"text-align:center\">a &lt;&lt;= 3 es equivalente a a = a &lt;&lt; 3</td>\n",
        "</tr>\n",
        "</tbody>\n",
        "</table>"
      ],
      "metadata": {
        "id": "_uvbajeHHVb6"
      }
    },
    {
      "cell_type": "code",
      "source": [
        "a = 7"
      ],
      "metadata": {
        "id": "MHk5a8dykVGj"
      },
      "execution_count": null,
      "outputs": []
    },
    {
      "cell_type": "code",
      "source": [
        "a +=3\n",
        "a"
      ],
      "metadata": {
        "id": "AeoJzfWQkU4c"
      },
      "execution_count": null,
      "outputs": []
    },
    {
      "cell_type": "code",
      "source": [
        "print(bin(a),bin(3))\n",
        "a <<= 3\n",
        "print(bin(a),bin(3))"
      ],
      "metadata": {
        "id": "wqiYxBeqkfwb"
      },
      "execution_count": null,
      "outputs": []
    },
    {
      "cell_type": "markdown",
      "source": [
        "<table>\n",
        "<thead>\n",
        "<tr>\n",
        "<th style=\"text-align:center\">Operador lógico</th>\n",
        "<th style=\"text-align:center\">Descripción</th>\n",
        "<th style=\"text-align:center\">Uso</th>\n",
        "</tr>\n",
        "</thead>\n",
        "<tbody>\n",
        "<tr>\n",
        "<td style=\"text-align:center\">and</td>\n",
        "<td style=\"text-align:center\">Devuelve True si ambos operandos son True</td>\n",
        "<td style=\"text-align:center\">a and b</td>\n",
        "</tr>\n",
        "<tr>\n",
        "<td style=\"text-align:center\">or</td>\n",
        "<td style=\"text-align:center\">Devuelve True si alguno de los operandos es True</td>\n",
        "<td style=\"text-align:center\">a or b</td>\n",
        "</tr>\n",
        "<tr>\n",
        "<td style=\"text-align:center\">not</td>\n",
        "<td style=\"text-align:center\">Devuelve True si alguno de los operandos False</td>\n",
        "<td style=\"text-align:center\">not a</td>\n",
        "</tr>\n",
        "</tbody>\n",
        "</table>"
      ],
      "metadata": {
        "id": "S9mOmbBpJRe-"
      }
    },
    {
      "cell_type": "code",
      "source": [
        "a = True\n",
        "b = False"
      ],
      "metadata": {
        "id": "crcqpvt4JlDZ"
      },
      "execution_count": null,
      "outputs": []
    },
    {
      "cell_type": "code",
      "source": [
        "a and b"
      ],
      "metadata": {
        "id": "RT67F7J1JuEj"
      },
      "execution_count": null,
      "outputs": []
    },
    {
      "cell_type": "code",
      "source": [
        "a or b"
      ],
      "metadata": {
        "id": "FvqGDoomJvFL"
      },
      "execution_count": null,
      "outputs": []
    },
    {
      "cell_type": "markdown",
      "source": [
        "<table>\n",
        "<thead>\n",
        "<tr>\n",
        "<th style=\"text-align:center\">Operador pertenencia</th>\n",
        "<th style=\"text-align:center\">Descripción</th>\n",
        "<th style=\"text-align:center\">Uso</th>\n",
        "</tr>\n",
        "</thead>\n",
        "<tbody>\n",
        "<tr>\n",
        "<td style=\"text-align:center\">in</td>\n",
        "<td style=\"text-align:center\">devuelve True si el valor especificado se encuentra en la secuencia. En caso contrario devuelve False.</td>\n",
        "<td style=\"text-align:center\">a = [1,2,3,4,5], 3 in a = True</td>\n",
        "</tr>\n",
        "<tr>\n",
        "<td style=\"text-align:center\">not in</td>\n",
        "<td style=\"text-align:center\">devuelve True si el valor especificado no se encuentra en la secuencia. En caso contrario devuelve False.</td>\n",
        "<td style=\"text-align:center\">a = [1,2,3,4,5], 8 not in a = True</td>\n",
        "</tr>\n",
        "</tbody>\n",
        "</table>"
      ],
      "metadata": {
        "id": "-qPlkSvmJRSx"
      }
    },
    {
      "cell_type": "code",
      "source": [
        "a = [1,2,3,4,5] # Lista"
      ],
      "metadata": {
        "id": "HUKpFOEPmeQH"
      },
      "execution_count": null,
      "outputs": []
    },
    {
      "cell_type": "code",
      "source": [
        "3 in a"
      ],
      "metadata": {
        "id": "MDpU19ahmf7r"
      },
      "execution_count": null,
      "outputs": []
    },
    {
      "cell_type": "code",
      "source": [
        "8 not in a"
      ],
      "metadata": {
        "id": "3qyupskomhwc"
      },
      "execution_count": null,
      "outputs": []
    },
    {
      "cell_type": "markdown",
      "source": [
        "<table>\n",
        "<thead>\n",
        "<tr>\n",
        "<th style=\"text-align:center\">Operador Identidad</th>\n",
        "<th style=\"text-align:center\">Descripción</th>\n",
        "<th style=\"text-align:center\">Uso</th>\n",
        "</tr>\n",
        "</thead>\n",
        "<tbody>\n",
        "<tr>\n",
        "<td style=\"text-align:center\">is</td>\n",
        "<td style=\"text-align:center\">devuelve True si los operandos se refieren al mismo objeto. En caso contrario devuelve False.</td>\n",
        "<td style=\"text-align:center\">a = [1,2,3,4,5], 3 in a = True</td>\n",
        "</tr>\n",
        "<tr>\n",
        "<td style=\"text-align:center\">is not</td>\n",
        "<td style=\"text-align:center\">devuelve True si los operandos no se refieren al mismo objeto. En caso contrario devuelve False</td>\n",
        "<td style=\"text-align:center\">a = [1,2,3,4,5], 8 not in a = True</td>\n",
        "</tr>\n",
        "</tbody>\n",
        "</table>\n",
        "\n",
        "Ten en cuenta que dos valores, cuando son iguales, no implica necesariamente que sean objetos idénticos."
      ],
      "metadata": {
        "id": "3s6W74CLJRHR"
      }
    },
    {
      "cell_type": "code",
      "source": [
        "a = 10\n",
        "b = 10\n",
        "\n",
        "print(a is b)"
      ],
      "metadata": {
        "id": "QdT0qKKNn5P_"
      },
      "execution_count": null,
      "outputs": []
    },
    {
      "cell_type": "code",
      "source": [
        "print(id(a))\n",
        "print(id(b))"
      ],
      "metadata": {
        "id": "AO0BCF-Cn94l"
      },
      "execution_count": null,
      "outputs": []
    },
    {
      "cell_type": "code",
      "source": [
        "print(a == b)"
      ],
      "metadata": {
        "id": "e3e_wJWWoIbJ"
      },
      "execution_count": null,
      "outputs": []
    },
    {
      "cell_type": "markdown",
      "source": [
        "Podemos ver como también, ambos valores son iguales con el operador relacional ==, pero esto es una mera casualidad como veremos a continuación. Que dos variables tengan el mismo contenido, no implica necesariamente que hagan referencia a el mismo objeto."
      ],
      "metadata": {
        "id": "Apca3z5roV27"
      }
    },
    {
      "cell_type": "code",
      "source": [
        "a = [1, 2, 3]\n",
        "b = [1, 2, 3]\n",
        "\n",
        "print(a == b) # True\n",
        "print(a is b) # False"
      ],
      "metadata": {
        "id": "53QmRqdFoItQ"
      },
      "execution_count": null,
      "outputs": []
    },
    {
      "cell_type": "markdown",
      "source": [
        "En el  ejemplo, podemos ver como a y b almacenan el mismo valor, por lo que == nos indica True. Sin embargo, por como Python funciona por debajo, almacena el contenido en dos objetos diferentes. Al tratarse de objetos diferentes, esto hace que el operador is devuelva False."
      ],
      "metadata": {
        "id": "ENy-h3fwomgB"
      }
    },
    {
      "cell_type": "code",
      "source": [
        "print(id(a))\n",
        "print(id(b))"
      ],
      "metadata": {
        "id": "yoL0bV8QoyVL"
      },
      "execution_count": null,
      "outputs": []
    },
    {
      "cell_type": "markdown",
      "source": [
        "Por más información click en [documentación oficial sobre Tipos integrados](https://docs.python.org/es/3/library/stdtypes.html#)"
      ],
      "metadata": {
        "id": "XF0vt0XbwutE"
      }
    },
    {
      "cell_type": "markdown",
      "source": [
        "### Funciones\n",
        "En el siguiente ejemplo el nombre de la función es *type*. La expresión en paréntesis se llama argumento de la función. El resultado, para esta función, es el tipo de datos del argumento."
      ],
      "metadata": {
        "id": "Ou9hYi6YsdhL"
      }
    },
    {
      "cell_type": "code",
      "source": [
        "type(6)"
      ],
      "metadata": {
        "id": "zu5Z00ohuF7Z"
      },
      "execution_count": null,
      "outputs": []
    },
    {
      "cell_type": "markdown",
      "source": [
        "Es común decir que una función “toma” un argumento y “devuelve” un resultado. El resultado también se llama valor de retorno (en inglés, return value)."
      ],
      "metadata": {
        "id": "sRNDTqc0tXRJ"
      }
    },
    {
      "cell_type": "markdown",
      "source": [
        "\n",
        "\n",
        "\n",
        "Python proporciona funciones que convierten valores de un tipo a otro. La función int toma cualquier valor y lo convierte en un entero, si puede, o de lo contrario reclama:\n"
      ],
      "metadata": {
        "id": "eKqS2jhU0tmG"
      }
    },
    {
      "cell_type": "code",
      "source": [
        "int('32')"
      ],
      "metadata": {
        "id": "1w0QMlUj0-CE"
      },
      "execution_count": null,
      "outputs": []
    },
    {
      "cell_type": "code",
      "source": [
        "int(34.506)"
      ],
      "metadata": {
        "id": "CNt8_GvI6Rlz"
      },
      "execution_count": null,
      "outputs": []
    },
    {
      "cell_type": "code",
      "source": [
        "int('Hola')"
      ],
      "metadata": {
        "id": "VbFj1FUf1AgE"
      },
      "execution_count": null,
      "outputs": []
    },
    {
      "cell_type": "markdown",
      "source": [
        "#### Funciones matemáticas\n",
        "\n",
        "Python tiene un módulo matemático que proporciona la mayor parte de las funciones matemáticas conocidas. Un módulo es un archivo que contiene una colección de funciones relacionadas entre sí.\n",
        "\n",
        "Se dice que «Python viene con las baterías incluidas». Esto es porque el intérprete incluye un conjunto numeroso de módulos ya implementados con utilidades de uso general: matemática, acceso al sistema operativo y la red, depuración, criptografía, compresión, interfaces gráficas, entre otros.\n",
        "\n",
        "Antes de que podamos utilizar las funciones de un módulo, tenemos que importarlo con\n",
        "una sentencia import:\n",
        "\n",
        "\n",
        "```\n",
        "import math\n",
        "```\n",
        "\n",
        "Esta sentencia crea un objeto de módulo llamado math. Si muestras el objeto de módulo\n",
        "en pantalla, obtienes información sobre este:"
      ],
      "metadata": {
        "id": "ziM0m4t9uE2U"
      }
    },
    {
      "cell_type": "code",
      "source": [
        "import math\n",
        "math"
      ],
      "metadata": {
        "id": "RQaXOQt_1l3t"
      },
      "execution_count": null,
      "outputs": []
    },
    {
      "cell_type": "markdown",
      "source": [
        "El objeto de módulo contiene las funciones y variables definidas en el módulo. Para tener\n",
        "acceso a una de las funciones, tienes que especificar el nombre del módulo y el nombre de\n",
        "la función, separados por un punto. Este formato se llama notación de punto."
      ],
      "metadata": {
        "id": "RshljaQi19Yx"
      }
    },
    {
      "cell_type": "code",
      "source": [
        "radianes = 0.7\n",
        "altura = math.sin(radianes)\n",
        "altura"
      ],
      "metadata": {
        "id": "9sZMee4L1-eo"
      },
      "execution_count": null,
      "outputs": []
    },
    {
      "cell_type": "markdown",
      "source": [
        "En este ejemplo de trigometría se calcula el seno de radianes. El nombre de la variable radianes es un indicio de que `math.sin` y las otras funciones trigonométricas (cos, tan, etc.) toman argumentos en radianes. Para convertir de grados a radianes, divide por 180 y multiplica por π:"
      ],
      "metadata": {
        "id": "63YHiFbO2Vab"
      }
    },
    {
      "cell_type": "code",
      "source": [
        "grados = 45\n",
        "radianes = grados / 180.0 * math.pi\n",
        "math.sin(radianes)"
      ],
      "metadata": {
        "id": "nmuvKdcf2Uri"
      },
      "execution_count": null,
      "outputs": []
    },
    {
      "cell_type": "markdown",
      "source": [
        "La expresión `math.pi` obtiene la variable pi del módulo math. Su valor es una aproximación en coma flotante de π, con precisión de alrededor de 15 digitos."
      ],
      "metadata": {
        "id": "lpTKajNT26xb"
      }
    },
    {
      "cell_type": "markdown",
      "source": [
        "#### Composición\n",
        "Hasta aquí, hemos visto los elementos de un programa —variables, expresiones y\n",
        "sentencias— de forma aislada, sin hablar sobre cómo combinarlos.\n",
        "Una de las características más útiles de los lenguajes de programación es su posibilidad\n",
        "de tomar pequeños bloques de construcción y componerlos. Por ejemplo, el argumento de\n",
        "una función puede ser cualquier tipo de expresión, incluyendo operadores aritméticos:\n"
      ],
      "metadata": {
        "id": "xYlSOlx43MvN"
      }
    },
    {
      "cell_type": "code",
      "source": [
        "x = math.sin(grados / 360.0 * 2 * math.pi)\n",
        "x"
      ],
      "metadata": {
        "id": "HwCTvihv3UWJ"
      },
      "execution_count": null,
      "outputs": []
    },
    {
      "cell_type": "markdown",
      "source": [
        "También llamadas a funciones:"
      ],
      "metadata": {
        "id": "HD077YGC3YaU"
      }
    },
    {
      "cell_type": "code",
      "source": [
        "x = math.exp(math.log(x+1))\n",
        "x"
      ],
      "metadata": {
        "id": "DJnQ7fRd3WUC"
      },
      "execution_count": null,
      "outputs": []
    },
    {
      "cell_type": "markdown",
      "source": [
        "#### Agregar nuevas funciones\n",
        "\n",
        "Hasta aquí, solo hemos estado utilizando las funciones que vienen con Python, pero también es posible agregar nuevas funciones. Una definición de función especifica el nombre de una nueva función y la secuencia de sentencias que se ejecutan cuando la función es llamada. Se utiliza la palabra reservada *def*.\n",
        "\n",
        "Si queremos crear una función (que llamaremos hola_personas_dateras) que devuelve la cadena de texto «Hola personas Dateras! Estoy programando en Python.», lo que debemos hacer es ingresar el siguiente\n",
        "conjunto de líneas en Python:\n"
      ],
      "metadata": {
        "id": "mxPR3Auu3Tv1"
      }
    },
    {
      "cell_type": "code",
      "source": [
        "def hola_personas_dateras():\n",
        "  return \"Hola personas Dateras! Estoy programando en Python.\""
      ],
      "metadata": {
        "id": "ELVPGCDc4M1z"
      },
      "execution_count": null,
      "outputs": []
    },
    {
      "cell_type": "code",
      "source": [
        "hola_personas_dateras()"
      ],
      "metadata": {
        "id": "Ucv0iYrO49y9"
      },
      "execution_count": null,
      "outputs": []
    },
    {
      "cell_type": "markdown",
      "source": [
        "Se dice que estamos invocando a la `función hola_personas_dateras`. Al invocar una función, se ejecutan las instrucciones que habíamos escrito en su cuerpo.\n"
      ],
      "metadata": {
        "id": "0MV1FY8H6gPB"
      }
    },
    {
      "cell_type": "code",
      "source": [
        "def suma(a,b):\n",
        "  return(a+b)"
      ],
      "metadata": {
        "id": "wYVijQmwDke5"
      },
      "execution_count": null,
      "outputs": []
    },
    {
      "cell_type": "code",
      "source": [
        "suma(4,6)"
      ],
      "metadata": {
        "id": "LgUT-UWQDsGH"
      },
      "execution_count": null,
      "outputs": []
    },
    {
      "cell_type": "markdown",
      "source": [
        "### Condicional\n",
        "\n",
        "Para escribir programas, casi siempre necesitamos la capacidad de verificar las condiciones y cambiar el comportamiento del programa según corresponda. Las sentencias condicionales nos dan esta capacidad. La forma más simple es la sentencia if:\n",
        "\n",
        "```\n",
        "if <expresión>:\n",
        "  <cuerpo>\n",
        "\n",
        "```\n",
        "\n",
        "donde `if` es una palabra reservada, la <expresión> es una condición (expresión lógica) y el <cuerpo> se ejecuta solo si la condición se cumple (verdadera). Por ejemplo queremos indicar si un número es positivo tal que si se cumple la condición se debe escribir en la pantalla el mensaje \"Número positivo\", entonces la sentencia quedaría:\n",
        "\n",
        "```\n",
        "if x > 0:\n",
        "  print('Número positivo')\n",
        "\n",
        "```"
      ],
      "metadata": {
        "id": "8lRzphNuLrty"
      }
    },
    {
      "cell_type": "markdown",
      "source": [
        "Antes de seguir adelante explicando la sentencia if, es útil recordar los operadores de relación y lógica que permiten indicar si la condición se cumple (verdadera) o no (falsa).\n",
        "\n",
        "<table>\n",
        "<thead>\n",
        "<tr>\n",
        "<th style=\"text-align:center\">Operador relacional</th>\n",
        "<th style=\"text-align:center\">Descripción</th>\n",
        "<th style=\"text-align:center\">Uso</th>\n",
        "</tr>\n",
        "</thead>\n",
        "<tbody>\n",
        "<tr>\n",
        "<td style=\"text-align:center\">&gt;</td>\n",
        "<td style=\"text-align:center\">Devuelve True si el operador de la izquierda es mayor que el operador de la derecha</td>\n",
        "<td style=\"text-align:center\">10 &gt; 7 devuelve True</td>\n",
        "</tr>\n",
        "<tr>\n",
        "<td style=\"text-align:center\">&lt;</td>\n",
        "<td style=\"text-align:center\">Devuelve True si el operador de la derecha es mayor que el operador de la izquierda</td>\n",
        "<td style=\"text-align:center\">10 &lt; 7 devuelve False</td>\n",
        "</tr>\n",
        "<tr>\n",
        "<td style=\"text-align:center\">==</td>\n",
        "<td style=\"text-align:center\">Devuelve True si ambos operandos son iguales</td>\n",
        "<td style=\"text-align:center\">10 == 7 devuelve False</td>\n",
        "</tr>\n",
        "<tr>\n",
        "<td style=\"text-align:center\">&gt;=</td>\n",
        "<td style=\"text-align:center\">Devuelve True si el operador de la izquierda es mayor o igual que el operador de la derecha</td>\n",
        "<td style=\"text-align:center\">10 &gt;= 7 devuelve True</td>\n",
        "</tr>\n",
        "<tr>\n",
        "<td style=\"text-align:center\">&lt;=</td>\n",
        "<td style=\"text-align:center\">Devuelve True si el operador de la derecha es mayor o igual que el operador de la izquierda</td>\n",
        "<td style=\"text-align:center\">10 &lt;= 7 devuelve False</td>\n",
        "</tr>\n",
        "<tr>\n",
        "<td style=\"text-align:center\">!=</td>\n",
        "<td style=\"text-align:center\">Devuelve True si ambos operandos no son iguales</td>\n",
        "<td style=\"text-align:center\">10 != 7 devuelve True</td>\n",
        "</tr>\n",
        "</tbody>\n",
        "</table>"
      ],
      "metadata": {
        "id": "JE7baGZ8xPPE"
      }
    },
    {
      "cell_type": "code",
      "source": [
        "x = 10\n",
        "if x > 0: # Para el ejemplo se utiliza en la condición el operador relacional\t> (\tDevuelve True si el operador de la izquierda es mayor que el operador de la derecha)\n",
        "  print('Número positivo')"
      ],
      "metadata": {
        "id": "Tf6DYvbVvhMK"
      },
      "execution_count": null,
      "outputs": []
    },
    {
      "cell_type": "markdown",
      "source": [
        "#### Ejecución alternativa\n",
        "Una segunda forma de la sentencia if es la “ejecución alternativa”, en la cual hay dos posibilidades y la condición determina cuál se ejecuta. La sintaxis se ve así:\n",
        "\n",
        "\n",
        "```\n",
        "if <expresión>:\n",
        "  <cuerpo1>\n",
        "else:\n",
        "  <cuerpo2>\n",
        "```\n",
        "donde `if` y `else` son palabras reservadas. Su efecto es el siguiente:\n",
        "  1. Se evalúa la <expresión>.\n",
        "  2. Si el resultado es `True`, se ejecuta el \\<cuerpo1\\>. En caso contrario, se ejecuta el \\<cuerpo2\\>.\n",
        "\n",
        "Volviendo al ejemplo:\n",
        "\n",
        "\n",
        "```\n",
        "if x > 0:\n",
        "  print('Número positivo')\n",
        "else:\n",
        "  print('Número no positivo')\n",
        "\n",
        "```\n",
        "\n",
        "\n",
        "\n",
        "\n"
      ],
      "metadata": {
        "id": "sttm5YSKzSY8"
      }
    },
    {
      "cell_type": "code",
      "source": [
        "x = 3\n",
        "if x > 0:\n",
        "  print('Número positivo')\n",
        "else:\n",
        "  print('Número no positivo')"
      ],
      "metadata": {
        "id": "pMoZ1wOk7tul"
      },
      "execution_count": null,
      "outputs": []
    },
    {
      "cell_type": "markdown",
      "source": [
        "#### Condicionales encadenados\n",
        "A veces hay más de dos posibilidades. Una manera de expresar condicional encadenado es utilizando la palabra reservada `elif` , que es una abreviación de `else if`. Por ejemplo:"
      ],
      "metadata": {
        "id": "1wC4VInX8OsB"
      }
    },
    {
      "cell_type": "code",
      "source": [
        "x = 10\n",
        "y = 3\n",
        "if x < y:\n",
        "  print('x es menor que y')\n",
        "elif x > y:\n",
        "  print('x es mayor que y')\n",
        "else:\n",
        "  print('x e y son iguales')"
      ],
      "metadata": {
        "id": "0oT99yjQ8XyP"
      },
      "execution_count": null,
      "outputs": []
    },
    {
      "cell_type": "markdown",
      "source": [
        "#### Condicionales anidados\n",
        "Un condicional puede también estar anidado dentro de otro. Podríamos haber escrito el\n",
        "ejemplo de la sección anterior de esta forma:"
      ],
      "metadata": {
        "id": "EvWQDk3a9i-w"
      }
    },
    {
      "cell_type": "code",
      "source": [
        "x = 10\n",
        "y = 3\n",
        "if x == y:\n",
        "  print('x e y son iguales')\n",
        "else:\n",
        "  if x < y:\n",
        "    print('x es menor que y')\n",
        "  else:\n",
        "    print('x es mayor que y')"
      ],
      "metadata": {
        "id": "rvtN-iCT9pnz"
      },
      "execution_count": null,
      "outputs": []
    },
    {
      "cell_type": "markdown",
      "source": [
        "A pesar de que la sangría de las sentencias hacen evidente la estructura, los condicionales anidados se vuelven difíciles de leer rápidamente. Es una buena idea evitarlos cuando puedas. Los operadores lógicos a menudo proporcionan una manera de simplificar las sentencias condicionales anidadas.\n",
        "\n",
        "\n",
        "<table>\n",
        "<thead>\n",
        "<tr>\n",
        "<th style=\"text-align:center\">Operador lógico</th>\n",
        "<th style=\"text-align:center\">Descripción</th>\n",
        "<th style=\"text-align:center\">Uso</th>\n",
        "</tr>\n",
        "</thead>\n",
        "<tbody>\n",
        "<tr>\n",
        "<td style=\"text-align:center\">and</td>\n",
        "<td style=\"text-align:center\">Devuelve True si ambos operandos son True</td>\n",
        "<td style=\"text-align:center\">a and b</td>\n",
        "</tr>\n",
        "<tr>\n",
        "<td style=\"text-align:center\">or</td>\n",
        "<td style=\"text-align:center\">Devuelve True si alguno de los operandos es True</td>\n",
        "<td style=\"text-align:center\">a or b</td>\n",
        "</tr>\n",
        "<tr>\n",
        "<td style=\"text-align:center\">not</td>\n",
        "<td style=\"text-align:center\">Devuelve True si alguno de los operandos False</td>\n",
        "<td style=\"text-align:center\">not a</td>\n",
        "</tr>\n",
        "</tbody>\n",
        "</table>\n",
        "\n",
        "Por ejemplo, podemos reescribir el siguiente código utilizando un\n",
        "único condicional:"
      ],
      "metadata": {
        "id": "V32r3xoE9zZ7"
      }
    },
    {
      "cell_type": "code",
      "source": [
        "x = 3\n",
        "if 0 < x:\n",
        "  if x < 10:\n",
        "    print('x es un número positivo de un dígito.')"
      ],
      "metadata": {
        "id": "Wx4UEFAFA1iP"
      },
      "execution_count": null,
      "outputs": []
    },
    {
      "cell_type": "markdown",
      "source": [
        "La sentencia `print` solo se ejecuta si pasamos por los dos condicionales, así que podemos\n",
        "obtener el mismo efecto con el operador and:"
      ],
      "metadata": {
        "id": "VEkIeHk_-sb1"
      }
    },
    {
      "cell_type": "code",
      "source": [
        "x = 3\n",
        "if 0 < x and x < 10:\n",
        "  print('x es un número positivo de un dígito.')\n"
      ],
      "metadata": {
        "id": "_TPUhmLs-Gmc"
      },
      "execution_count": null,
      "outputs": []
    },
    {
      "cell_type": "markdown",
      "source": [
        "### Iteración\n"
      ],
      "metadata": {
        "id": "u346cYpi8VrN"
      }
    },
    {
      "cell_type": "markdown",
      "source": [
        "#### Sentencia for\n",
        "Ejecuta una sección de código una vez por cada elemento de una colección de elementos. La cantidad de veces que se ejecuta el código está determinada por la cantidad de elementos de la colección (ciclo definido). La sintaxis se ve así:\n",
        "\n",
        "```\n",
        "for <expresión>:\n",
        "  <cuerpo>\n",
        "```\n",
        "donde `for` es una palabra reservada, y la <expresión> es una expresión de pertenencia (recordar los operadores de pertenencia). El <cuerpo> es, como siempre, una o más sentencias de Python.  Veamos un ejemplo. El siguiente bucle for imprime cada letra de la cadena \"Python\" una a la vez:\n",
        "\n",
        "```\n",
        "for letter in \"Python\":\n",
        "  print(letter)\n",
        "```\n"
      ],
      "metadata": {
        "id": "1WY132uZL4hc"
      }
    },
    {
      "cell_type": "code",
      "source": [
        "for letra in \"Python\":\n",
        "  print(letra)"
      ],
      "metadata": {
        "id": "N8CXILGAOG9y"
      },
      "execution_count": null,
      "outputs": []
    },
    {
      "cell_type": "markdown",
      "source": [
        "En cada paso del bucle, a la variable letra se le asigna la siguiente letra\n",
        "en la cadena \"Python\" y luego se imprime el valor de la letra. El bucle se ejecuta una vez por cada carácter de la cadena \"Python\", por lo que el cuerpo del bucle se ejecuta seis veces.\n",
        "\n",
        "\n",
        "✍ **Nota**\n",
        "\n",
        " Las cadenas de texto se pueden indexar (subíndices), el primer carácter de la cadena tiene el índice 0. No hay un tipo de dato diferente para los caracteres; un carácter es simplemente una cadena de longitud uno:\n",
        "\n"
      ],
      "metadata": {
        "id": "8TOkqC8HOcbh"
      }
    },
    {
      "cell_type": "code",
      "source": [
        "palabra = 'Python'\n",
        "palabra[0]"
      ],
      "metadata": {
        "id": "6vuX_BH1b9-B"
      },
      "execution_count": null,
      "outputs": []
    },
    {
      "cell_type": "code",
      "source": [
        "palabra[5]"
      ],
      "metadata": {
        "id": "gMbGhMKxdi5L"
      },
      "execution_count": null,
      "outputs": []
    },
    {
      "cell_type": "code",
      "source": [
        "palabra[6] # El primer carácter de la cadena tiene el índice 0"
      ],
      "metadata": {
        "id": "OLcxEvpGTcWG"
      },
      "execution_count": null,
      "outputs": []
    },
    {
      "cell_type": "markdown",
      "source": [
        "Las cadenas de Python no se pueden modificar, son immutable. Por eso, asignar a una posición indexada de la cadena resulta en un error:"
      ],
      "metadata": {
        "id": "dpXHh1UaTcnD"
      }
    },
    {
      "cell_type": "code",
      "source": [
        "palabra[0] = 'p'"
      ],
      "metadata": {
        "id": "65xKIUgzV-ld"
      },
      "execution_count": null,
      "outputs": []
    },
    {
      "cell_type": "markdown",
      "source": [
        "Otro ejemplo, si se necesita iterar sobre una secuencia de números, es apropiado utilizar la función integrada `range` con `for`.\n",
        "La función `range` genera una secuencia de valores determinados por los parámetros start, stop y step. Por defecto star = 0 y step = 1. Para más información click en [Documentación oficial range()](https://docs.python.org/es/3/library/stdtypes.html#range)."
      ],
      "metadata": {
        "id": "cQsuyVOib6RT"
      }
    },
    {
      "cell_type": "code",
      "source": [
        "range(0,5,1) # start = 0, stop = 5, step=1"
      ],
      "metadata": {
        "id": "W_8K6ot1fymo"
      },
      "execution_count": null,
      "outputs": []
    },
    {
      "cell_type": "code",
      "source": [
        "range(5)"
      ],
      "metadata": {
        "id": "tJiVRcmugfRJ"
      },
      "execution_count": null,
      "outputs": []
    },
    {
      "cell_type": "code",
      "source": [
        "for i in range(5):\n",
        "    print(i)"
      ],
      "metadata": {
        "id": "2sNzgS0POb6c"
      },
      "execution_count": null,
      "outputs": []
    },
    {
      "cell_type": "markdown",
      "source": [
        "range(5) genera 5 valores. El ejemplo recorre la secuencia de valores que inicia en cero y finaliza en 4;\n",
        "\n",
        "La sentencia for ejecuta el código en base a la cantidad de elementos de la colección. De manera que se conoce de antemano la cantidad de repeticiones (ciclo definido).\n",
        "Si se desea construir ciclos que no requieran que se informe de antemano la cantidad de veces que se repetirá el código se podría considerar la sentencia while.\n",
        "\n"
      ],
      "metadata": {
        "id": "qi3tYQNQPRMg"
      }
    },
    {
      "cell_type": "markdown",
      "source": [
        "#### Sentencia while\n",
        "Ejecuta una sección de código  mientras una cierta condición es\n",
        "verdadera. Tiene la sintaxis:\n",
        "\n",
        "```\n",
        "while <expresión>:\n",
        "  <cuerpo>\n",
        "```\n",
        "\n",
        "donde `while` es una palabra reservada, y la <expresión> debe ser una expresión lógica, igual que en las sentencias if. El \\<cuerpo\\> es, como siempre, una o más sentencias de Python.\n",
        "El funcionamiento de esta sentencia es el siguiente:\n",
        "  1. Evaluar la condición.\n",
        "  2. Si la condición es `False`, salir del ciclo.\n",
        "  3. Si la condición es `True`, ejecutar el cuerpo.\n",
        "  4. Volver a 1.\n",
        "\n",
        "\n",
        "Veamos el ejemplo con la palabra 'Python':\n",
        "\n",
        "```\n",
        "while indice < len(palabra):\n",
        "  print(palabra[indice])\n",
        "  indice = indice + 1\n",
        "\n",
        "```\n",
        "La condición para este bucle es  indice < len(palabra), en donde indice inicia en 0 y palabra contiene el valor 'Python' así que el bucle continuará hasta que indice sea igual la cantidad de carácteres de la palabra '´Python', lo cual hace que la condición sea falsa. El primer carácter de la cadena tiene el índice 0 y el último n-1, donde n es la cantidad de carácteres de la cadena.\n",
        "\n",
        "En cada paso por el bucle, el programa muestra el valor de `palabra[indice]` y luego incremente el indice en 1.\n",
        "\n"
      ],
      "metadata": {
        "id": "GQQncJLnOGee"
      }
    },
    {
      "cell_type": "code",
      "source": [
        "palabra = \"Python\"\n",
        "indice = 0\n",
        "print(len(palabra))"
      ],
      "metadata": {
        "id": "m4HLYm_UiMEy"
      },
      "execution_count": null,
      "outputs": []
    },
    {
      "cell_type": "code",
      "source": [
        "while indice < len(palabra):\n",
        "  print(palabra[indice])\n",
        "  indice = indice + 1\n"
      ],
      "metadata": {
        "id": "6i4lUmoLy08a"
      },
      "execution_count": null,
      "outputs": []
    },
    {
      "cell_type": "markdown",
      "source": [
        "¡Es mucho más complejo que la versión con la sentencia for!\n",
        "El bucle for no solo es menos complejo, sino que el código en sí parece más natural. Veamos otro ejemplo, Mientras n sea mayor\n",
        "que 0, muestra el valor de n y luego decrementa n. Cuando llegues a 0, muestra la palabra \"¡Despegue!”"
      ],
      "metadata": {
        "id": "pEZDI2KjviQW"
      }
    },
    {
      "cell_type": "code",
      "source": [
        "n = 10 # Imaginemos que n es ingresado por el usuario ante un pedido, no se conoce de antemano . En este caso es 10\n"
      ],
      "metadata": {
        "id": "GDLAAM-FmZ0J"
      },
      "execution_count": null,
      "outputs": []
    },
    {
      "cell_type": "code",
      "source": [
        "while n > 0:\n",
        "  print(n)\n",
        "  n = n - 1\n",
        "  print('¡Despegue!')"
      ],
      "metadata": {
        "id": "kMmXsSdDvhVP"
      },
      "execution_count": null,
      "outputs": []
    },
    {
      "cell_type": "markdown",
      "source": [
        "Si n es cero o negativo, el bucle nunca se ejecuta. De lo contrario, n se hace más pequeño cada vez que se pasa por el bucle, por lo que eventualmente tenemos que llegar a 0."
      ],
      "metadata": {
        "id": "z1hQzCRbltg7"
      }
    },
    {
      "cell_type": "markdown",
      "source": [
        "Si se desea cortar un ciclo existe la palabra reservada break, que nos permite salir de adentro de un ciclo (for o while) en medio de su ejecución."
      ],
      "metadata": {
        "id": "Uz0lRxKVnqZL"
      }
    },
    {
      "cell_type": "markdown",
      "source": [
        "### 📝 Ejercicios\n",
        "\n",
        "* Escribir una función que se llame 'absoluto' que devuelva el valor positivo de cualquier valor que reciba. El valor que recibe la función es un número real válido. Por ejemplo si se llama a la función `absoluto(-10)` devuelve el valor 10.\n"
      ],
      "metadata": {
        "id": "_qykIz5JIzpQ"
      }
    },
    {
      "cell_type": "code",
      "source": [],
      "metadata": {
        "id": "cyp46leoIoeG"
      },
      "execution_count": null,
      "outputs": []
    },
    {
      "cell_type": "markdown",
      "source": [
        "**Haz doble click para ver la respuesta**\n",
        "\n",
        "<!--\n",
        "def absoluto(n):\n",
        "  if n>0:\n",
        "    return n\n",
        "  else:\n",
        "    return n*(-1)\n",
        " -->"
      ],
      "metadata": {
        "id": "nQnYMx55IucP"
      }
    },
    {
      "cell_type": "markdown",
      "source": [
        "* Las siguientes funciones tienen la intención de verificar si una cadena contiene al menos una letra mayúscula. Por lo que devuelve True en caso de presentar alguna mayúscula. Responder:\n",
        "\n",
        "  * ¿Las dos funciones creadas son correctas?. Describir cada una, justificar y de ser necesario modificar para que sea correcta."
      ],
      "metadata": {
        "id": "bMlckKCwPt62"
      }
    },
    {
      "cell_type": "code",
      "source": [
        "# Asumiendo que las funciones reciben una cadena\n",
        "cadena = 'data.Arg.NMa'"
      ],
      "metadata": {
        "id": "GP1dkVdkTv_n"
      },
      "execution_count": null,
      "outputs": []
    },
    {
      "cell_type": "code",
      "source": [
        "def contiene_mayuscula(s):\n",
        "  for c in s:\n",
        "    if 'c'.isupper():\n",
        "      return 'True'\n",
        "    else:\n",
        "      return 'False'"
      ],
      "metadata": {
        "id": "FOfEtQvoPT-9"
      },
      "execution_count": null,
      "outputs": []
    },
    {
      "cell_type": "code",
      "source": [
        "def contiene_mayuscula2(s):\n",
        "  for c in s:\n",
        "    bandera = c.isupper()\n",
        "  return bandera"
      ],
      "metadata": {
        "id": "cK_xCJxAUXA1"
      },
      "execution_count": null,
      "outputs": []
    },
    {
      "cell_type": "code",
      "source": [
        "contiene_mayuscula(s)"
      ],
      "metadata": {
        "id": "T_P1aKjEVSMF"
      },
      "execution_count": null,
      "outputs": []
    },
    {
      "cell_type": "code",
      "source": [
        "contiene_mayuscula2(s)"
      ],
      "metadata": {
        "id": "1Hp4JBrKKAaj"
      },
      "execution_count": null,
      "outputs": []
    },
    {
      "cell_type": "markdown",
      "source": [
        "**Haz doble click para ver la respuesta**\n",
        "\n",
        "<!--\n",
        "# contiene_mayuscula(s) es INCORRECTA porque 'c' es un carácter y no la variable c, por lo tanto no se evalúa cada letra de s y el resultado de la función siempre será False.\n",
        "\n",
        "# contiene_mayuscula2(s) es INCORRECTA porque bandera almacena el valor de verificación isupper() de la última letra de la cadena.\n",
        "# También la variable bandera no está iniciada fuera del ciclo y se la utiliza como salida fuera del ciclo.\n",
        "\n",
        "\n",
        "# Modicación\n",
        "\n",
        "# s es la cadena o string, con for se recorre cada letra de la cadena. La variable c tomá cada letra (carácter) de s.\n",
        "# Para cada carácter se verifica si es una letra mayúscula de ser si se devuelve True. Con que una letra sea máyuscúla se cumple con la función\n",
        "\n",
        "def contiene_mayuscula(s):\n",
        "  for c in s:\n",
        "    if c.isupper():\n",
        "      return True\n",
        "    else:\n",
        "      return False\n",
        "\n",
        "# s es la cadena o string, con for se recorre cada letra de la cadena. La variable c tomá cada letra (carácter) de s.\n",
        "\n",
        "# Se crea una variable bandera que es de tipo boleana. Está indicará si existe alguna letra en máyuscula (True).\n",
        "\n",
        "# Se inica bandera como False fuera del ciclo for.\n",
        "\n",
        "# La variable bandera se actualiza en medida que se recorre cada letra de la cadena, bandera guarda el resultado de la operación lógica or, en donde True = False or True o True = True or False\n",
        "  \n",
        "   Para cada carácter se verifica si es una letra mayúscula de ser si se devuelve True. Con que una letra sea máyuscúla se cumple con la función\n",
        "\n",
        "def contiene_mayuscula2(s):\n",
        "  bandera = False\n",
        "  for c in s:\n",
        "    bandera = bandera or c.isupper()\n",
        "  return bandera\n",
        "\n",
        " -->"
      ],
      "metadata": {
        "id": "thOmYxs-KHwv"
      }
    },
    {
      "cell_type": "markdown",
      "source": [
        "## 🥇 Estructura de datos\n",
        "<table><thead><tr><th class=\"has-text-align-left\" data-align=\"left\">Nombre de tipo</th><th>Tipo en Python</th><th class=\"has-text-align-left\" data-align=\"left\">Ejemplo</th></tr></thead><tbody><td class=\"has-text-align-left\" data-align=\"left\">Lista</td><td><a href=\"https://docs.python.org/3/library/stdtypes.html#list\" target=\"_blank\" rel=\"noreferrer noopener\">list</a></td><td class=\"has-text-align-left\" data-align=\"left\">[1, 42, 3j, 'Hello']</td></tr><tr><td class=\"has-text-align-left\" data-align=\"left\">Tupla</td><td><a href=\"https://docs.python.org/3/library/stdtypes.html#tuple\" target=\"_blank\" rel=\"noreferrer noopener\">tuple</a></td><td class=\"has-text-align-left\" data-align=\"left\">(3, 'Coche', 8.9)</td></tr><tr><td class=\"has-text-align-left\" data-align=\"left\">Mapa o diccionario</td><td><a href=\"https://docs.python.org/3/library/stdtypes.html#dict\" target=\"_blank\" rel=\"noreferrer noopener\">dict</a></td><td class=\"has-text-align-left\" data-align=\"left\">{'m':0,'a':2,'d':5}</td></tr><tr><td class=\"has-text-align-left\" data-align=\"left\">Conjunto</td><td><a href=\"https://docs.python.org/3/library/stdtypes.html#set\" target=\"_blank\" rel=\"noreferrer noopener\">set</a></td><td class=\"has-text-align-left\" data-align=\"left\">{3, 4, 5, 'Juan', 3.21}</td></tr>\n",
        "</tbody></table>\n",
        "\n",
        "\n"
      ],
      "metadata": {
        "id": "yHf9QhZdj1Ex"
      }
    },
    {
      "cell_type": "markdown",
      "source": [
        "#### Lista\n",
        "Una lista es una secuencia de valores. En una cadena, los valores\n",
        "son caracteres; en una lista, pueden ser de cualquier tipo. Los valores en una lista se llaman elementos o a veces ítems. Hay varias maneras de crear una lista nueva; la más simple es encerrar los elementos en\n",
        "corchetes ([ y ]):"
      ],
      "metadata": {
        "id": "_gM-oKizxbhz"
      }
    },
    {
      "cell_type": "code",
      "source": [
        "\n",
        "[1, 42, 3j, 'Hello'] # Lista de 4 elementos"
      ],
      "metadata": {
        "id": "zXYjXTCLyD_j"
      },
      "execution_count": null,
      "outputs": []
    },
    {
      "cell_type": "code",
      "source": [
        "\n",
        "lista = [1, 42, 3j, 'Hello']\n",
        "lista\n"
      ],
      "metadata": {
        "id": "cYhfQF8bxyvS"
      },
      "execution_count": null,
      "outputs": []
    },
    {
      "cell_type": "markdown",
      "source": [
        "**Las listas son mutables**, es decir, es posible cambiar su contenido.\n",
        "\n",
        "La sintaxis para acceder a los elementos de una lista es la misma que para acceder a los caracteres de una cadena: el operador de corchetes. La expresión dentro de los corchetes especifica el índice. Recuerda que los índices comienzan en 0:"
      ],
      "metadata": {
        "id": "44GAucC9yQ11"
      }
    },
    {
      "cell_type": "code",
      "source": [
        "lista[0]"
      ],
      "metadata": {
        "id": "OuVLGDoGyYx1"
      },
      "execution_count": null,
      "outputs": []
    },
    {
      "cell_type": "code",
      "source": [
        "type(lista[0])"
      ],
      "metadata": {
        "id": "G3dLjKczydAq"
      },
      "execution_count": null,
      "outputs": []
    },
    {
      "cell_type": "code",
      "source": [
        "lista[0] = \"Python\"\n",
        "lista"
      ],
      "metadata": {
        "id": "OG8u6-CfyqKg"
      },
      "execution_count": null,
      "outputs": []
    },
    {
      "cell_type": "markdown",
      "source": [
        "Del ejemplo anterior el elemento en posición 0, que solía ser 1, ahora es una cadena `lista[0] = \"Python\"`."
      ],
      "metadata": {
        "id": "WxZm3AcUy3Px"
      }
    },
    {
      "cell_type": "code",
      "source": [
        "lista[4]"
      ],
      "metadata": {
        "id": "hGk8CSRFzE-a"
      },
      "execution_count": null,
      "outputs": []
    },
    {
      "cell_type": "code",
      "source": [
        "lista[-3]"
      ],
      "metadata": {
        "id": "3RprvU_PzP_l"
      },
      "execution_count": null,
      "outputs": []
    },
    {
      "cell_type": "markdown",
      "source": [
        "Los índices de las listas funcionan de la misma manera que los índices de las cadenas:\n",
        "* Cualquier expresión entera se puede utilizar como índice.\n",
        "* Si intentas leer o escribir un elemento que no existe, obtienes un IndexError.\n",
        "* Si un índice tiene un valor negativo, se cuenta hacia atrás desde el final de la lista.\n",
        "\n",
        "El operador de rebanada (en inglés, *slice*) funciona en las listas:"
      ],
      "metadata": {
        "id": "adhXGvclzINC"
      }
    },
    {
      "cell_type": "code",
      "source": [
        "lista"
      ],
      "metadata": {
        "id": "cBmcCkOPznBy"
      },
      "execution_count": null,
      "outputs": []
    },
    {
      "cell_type": "code",
      "source": [
        "lista[1:3]"
      ],
      "metadata": {
        "id": "TmwHk6FSzoJu"
      },
      "execution_count": null,
      "outputs": []
    },
    {
      "cell_type": "code",
      "source": [
        "lista[:2]"
      ],
      "metadata": {
        "id": "F-Nt6kxYztYS"
      },
      "execution_count": null,
      "outputs": []
    },
    {
      "cell_type": "markdown",
      "source": [
        "La manera más común de recorrer los elementos de una lista es con un ciclo `for`. La sintaxis es la misma que para las cadenas:\n"
      ],
      "metadata": {
        "id": "DkvM9nAKz-VP"
      }
    },
    {
      "cell_type": "code",
      "source": [
        "for elem in lista:\n",
        "  print(elem)"
      ],
      "metadata": {
        "id": "g9gov1FGz9xu"
      },
      "execution_count": null,
      "outputs": []
    },
    {
      "cell_type": "markdown",
      "source": [
        "Python proporciona métodos que operan en listas. Por ejemplo, `append`, `extend` y `sort`.\n",
        "\n",
        "📌 Recuerda: Para lectura complementaria te sugerimos click en [Estructuras de datos en Python](https://docs.python.org/es/3.13/tutorial/datastructures.html#)\n"
      ],
      "metadata": {
        "id": "fJSvD5Zs0MBV"
      }
    },
    {
      "cell_type": "markdown",
      "source": [
        "#### Tupla\n",
        "Las tuplas son secuencias de valores ordenados. Los valores pueden ser de cualquier tipo de datos. Se puede acceder a sus elementos por indice (número entero). Todas las secuencias en Python comienzan a numerarse desde 0. Es por eso que se produce un error si se quiere acceder al n-ésimo elemento de un tupla."
      ],
      "metadata": {
        "id": "2LgOpN08r_0Y"
      }
    },
    {
      "cell_type": "code",
      "source": [
        "tupla = (3, 'Coche', 8.9)\n",
        "tupla"
      ],
      "metadata": {
        "id": "_YF7CTiDtEcM"
      },
      "execution_count": null,
      "outputs": []
    },
    {
      "cell_type": "code",
      "source": [
        "# Otras formas\n",
        "#tupla_otra = 3, 'Coche', 8.9\n",
        "#tupla_otra\n",
        "#t = tuple('Python')\n",
        "#t\n"
      ],
      "metadata": {
        "id": "YlVgrHTrulTa"
      },
      "execution_count": null,
      "outputs": []
    },
    {
      "cell_type": "code",
      "source": [
        "print(tupla[0], type(tupla[0]))"
      ],
      "metadata": {
        "id": "8_quqtwvBbOA"
      },
      "execution_count": null,
      "outputs": []
    },
    {
      "cell_type": "code",
      "source": [
        "print(tupla[3]) # Empieza en 0"
      ],
      "metadata": {
        "id": "W1Z3No6uj3dZ"
      },
      "execution_count": null,
      "outputs": []
    },
    {
      "cell_type": "markdown",
      "source": [
        "También se puede utilizar la notación de rangos para obtener una nueva tupla, con un subconjunto de componentes."
      ],
      "metadata": {
        "id": "qqFMV6_bj27R"
      }
    },
    {
      "cell_type": "code",
      "source": [
        "tupla[:2]"
      ],
      "metadata": {
        "id": "F2c3bAJQj2ZZ"
      },
      "execution_count": null,
      "outputs": []
    },
    {
      "cell_type": "markdown",
      "source": [
        "**Las tuplas son inmutables**\n",
        "\n",
        "Al igual que con las cadenas, las componentes de las tuplas no pueden ser modificadas:"
      ],
      "metadata": {
        "id": "RUdC-Q6swaAn"
      }
    },
    {
      "cell_type": "code",
      "source": [
        "tupla[0] = 2024"
      ],
      "metadata": {
        "id": "uEpVLPytwa1T"
      },
      "execution_count": null,
      "outputs": []
    },
    {
      "cell_type": "markdown",
      "source": [
        "#### Diccionario\n",
        "Un diccionario es como una lista, pero más general. En una lista, los índices tienen que ser enteros; en un diccionario pueden ser (casi) de cualquier tipo.\n",
        "\n",
        "Un diccionario contiene una colección de índices, que se llaman claves, y una colección de valores. Cada clave está asociada a un valor único. La asociación de una clave y un valor se llama par clave-valor, o a veces ítem.\n",
        "En lenguaje matemático, un diccionario representa un mapeo de las claves a los valores, por tanto puedes decir también que cada clave “mapea a” un valor.\n",
        "\n",
        "Existen distintas formas de crear un diccionario"
      ],
      "metadata": {
        "id": "gY3YVIwt4TC_"
      }
    },
    {
      "cell_type": "code",
      "source": [
        "{'m':0,'a':2,'d':5}"
      ],
      "metadata": {
        "id": "qnGq27pR4VZF"
      },
      "execution_count": null,
      "outputs": []
    },
    {
      "cell_type": "code",
      "source": [
        "dict ((('m',0),('a',2), ('d', 5)))"
      ],
      "metadata": {
        "id": "4HeJo8an6rtg"
      },
      "execution_count": null,
      "outputs": []
    },
    {
      "cell_type": "code",
      "source": [
        "\n",
        "diccionario = dict()\n",
        "diccionario['m']= 0\n",
        "diccionario['a']= 2\n",
        "diccionario['d']= 5\n",
        "diccionario"
      ],
      "metadata": {
        "id": "DzKUzTjT7ZWF"
      },
      "execution_count": null,
      "outputs": []
    },
    {
      "cell_type": "markdown",
      "source": [
        "Las claves son únicas dentro de un diccionario, es decir que no puede haber un diccionario que tenga dos veces la misma clave.\n",
        "No hay una forma directa de acceder a una clave a través de su valor, y nada impide que un mismo valor se encuentre asignado a distintas claves.\n",
        "Para acceder al valor asociado a una determinada clave, se lo hace de la misma forma que con las listas, pero utilizando la clave elegida en lugar del índice."
      ],
      "metadata": {
        "id": "4s47YYXJ7784"
      }
    },
    {
      "cell_type": "code",
      "source": [
        "diccionario['m']"
      ],
      "metadata": {
        "id": "X0w9pFKs7-Kl"
      },
      "execution_count": null,
      "outputs": []
    },
    {
      "cell_type": "markdown",
      "source": [
        "El acceso por clave falla si se provee una clave que no está en el diccionario:"
      ],
      "metadata": {
        "id": "awkzObYr8CLq"
      }
    },
    {
      "cell_type": "code",
      "source": [
        "diccionario['r']"
      ],
      "metadata": {
        "id": "dUgeOMZX8DLS"
      },
      "execution_count": null,
      "outputs": []
    },
    {
      "cell_type": "markdown",
      "source": [
        "El operador `in` nos permite preguntar si una clave se encuentra o no en el diccionario:"
      ],
      "metadata": {
        "id": "uRdq93Gi8MgG"
      }
    },
    {
      "cell_type": "code",
      "source": [
        "'r' in diccionario"
      ],
      "metadata": {
        "id": "K2wro0kw8PMU"
      },
      "execution_count": null,
      "outputs": []
    },
    {
      "cell_type": "markdown",
      "source": [
        "**El diccionario es mutable**\n",
        "\n",
        "Al igual que las listas, los diccionarios son mutables. Esto significa que podemos agregar, quitar y modificar los elementos de un diccionario posteriormente a su creación.\n",
        "\n",
        "Cualquier valor de tipo inmutable puede ser clave de un diccionario: cadenas, enteros, tuplas (con valores inmutables en sus miembros), etc. No hay restricciones para los valores que el diccionario puede contener, cualquier tipo puede ser el valor: listas, cadenas, tuplas, otros diccionarios, etc."
      ],
      "metadata": {
        "id": "XtuSWOpW93Vw"
      }
    },
    {
      "cell_type": "code",
      "source": [
        "diccionario_otro = {'Luis':10, 'Marta':2, 'Carlos':30}\n",
        "diccionario_otro['Luis'] = 50\n",
        "diccionario_otro"
      ],
      "metadata": {
        "id": "_7r4rjp-9-Ci"
      },
      "execution_count": null,
      "outputs": []
    },
    {
      "cell_type": "code",
      "source": [
        "diccionario_otro['Marta'] = [1,46,9]\n",
        "diccionario_otro"
      ],
      "metadata": {
        "id": "g8p6qjvV_CDg"
      },
      "execution_count": null,
      "outputs": []
    },
    {
      "cell_type": "markdown",
      "source": [
        "Existen diversas formas de iterar los elementos de un diccionario. Por ejemplo, es posible iterar por sus claves y usar esas claves para acceder a los valores:"
      ],
      "metadata": {
        "id": "eZ28mjfs8YWr"
      }
    },
    {
      "cell_type": "code",
      "source": [
        "for clave in diccionario_otro:\n",
        "  print(clave, diccionario_otro[clave])"
      ],
      "metadata": {
        "id": "q_BvllyF8Xac"
      },
      "execution_count": null,
      "outputs": []
    },
    {
      "cell_type": "markdown",
      "source": [
        "Es posible, también, obtener los valores como tuplas donde el primer elemento es la clave y el segundo el valor."
      ],
      "metadata": {
        "id": "kLgtzNYU8vCf"
      }
    },
    {
      "cell_type": "code",
      "source": [
        "for clave, valor in diccionario_otro.items():\n",
        "  print(clave, valor)"
      ],
      "metadata": {
        "id": "IoM-KsCs8ym6"
      },
      "execution_count": null,
      "outputs": []
    },
    {
      "cell_type": "markdown",
      "source": [
        "Hay muchas otras operaciones que se pueden realizar sobre los diccionarios, que permiten manipular la información según sean nuestras necesidades. Se puede utilizar un diccionario, por ejemplo, para contar cuántas apariciones de cada palabra hay en un texto, o cuántas apariciones de cada letra.\n",
        "Es posible utilizar un diccionario, también, para tener una agenda donde la clave es el nombre de la persona, y el valor es una lista con los datos correspondientes a esa persona.\n",
        "\n",
        "Tener en cuenta:\n",
        "* Las claves deben ser inmutables y únicas.\n",
        "* Los valores pueden ser de cualquier tipo, y pueden no ser únicos.\n",
        "* El orden de los elementos no es relevante."
      ],
      "metadata": {
        "id": "HyadJvgk8_wU"
      }
    },
    {
      "cell_type": "markdown",
      "source": [
        "#### Conjunto\n",
        "Python proporciona otro tipo incorporado, llamado set (conjunto), una colección no ordenada de distintos objetos hashable. Un objeto es hashable si tiene un valor hash que nunca cambia durante su vida útil  y se puede comparar con otros objetos. En python la función hash debería retornar un número entero. La única propiedad requerida es que los objetos que se comparan iguales tengan el mismo valor hash.\n",
        "\n",
        "Los casos de uso habituales de los conjntos incluyen comprobar la pertenencia al conjunto de un elemento, eliminar duplicados de una secuencia y realizar operaciones matemáticas como la intersección, la unión, la diferencia.\n",
        "\n",
        "\n",
        "Existen distintas formas de crear un conjunto:"
      ],
      "metadata": {
        "id": "2A9V6TOL8yIa"
      }
    },
    {
      "cell_type": "code",
      "source": [
        "{2,4,'hola','hola'}"
      ],
      "metadata": {
        "id": "AH1q8I7nAZvb"
      },
      "execution_count": null,
      "outputs": []
    },
    {
      "cell_type": "code",
      "source": [
        "set((2,4,'hola','hola'))"
      ],
      "metadata": {
        "id": "0q6JB7hpAkvQ"
      },
      "execution_count": null,
      "outputs": []
    },
    {
      "cell_type": "code",
      "source": [
        "conjunto = {2, 4, 'hola'}\n",
        "conjunto"
      ],
      "metadata": {
        "id": "o32Zf5dAAwmZ"
      },
      "execution_count": null,
      "outputs": []
    },
    {
      "cell_type": "markdown",
      "source": [
        "Un set es una estructura de datos mutable (como las listas y los diccionarios), que permite agregar y quitar elementos cumpliendo los requisitos de unicidad y búsqueda en tiempo constante. Además es posible hacer operaciones entre sets como unión, intersección y diferencia muy fácilmente:"
      ],
      "metadata": {
        "id": "TNB2-66EAvJ8"
      }
    },
    {
      "cell_type": "code",
      "source": [
        "conjunto1 = {1, 2, 3, 4}\n",
        "conjunto1\n"
      ],
      "metadata": {
        "id": "-Qqf9iNNBJfo"
      },
      "execution_count": null,
      "outputs": []
    },
    {
      "cell_type": "code",
      "source": [
        "conjunto1.add(1)\n",
        "conjunto1"
      ],
      "metadata": {
        "id": "AS5xlmMsBPMl"
      },
      "execution_count": null,
      "outputs": []
    },
    {
      "cell_type": "code",
      "source": [
        "conjunto1.add(10)\n",
        "conjunto1"
      ],
      "metadata": {
        "id": "Fc58D1YwBXQe"
      },
      "execution_count": null,
      "outputs": []
    },
    {
      "cell_type": "code",
      "source": [
        "conjunto2 = {3, 4, 5, 6}\n",
        "conjunto1.union(conjunto2)\n"
      ],
      "metadata": {
        "id": "6qTA6gbJBTLr"
      },
      "execution_count": null,
      "outputs": []
    },
    {
      "cell_type": "code",
      "source": [
        "conjunto1.intersection(conjunto2)\n"
      ],
      "metadata": {
        "id": "SHyG5BtZBhzo"
      },
      "execution_count": null,
      "outputs": []
    },
    {
      "cell_type": "code",
      "source": [
        "conjunto1.difference(conjunto2)\n"
      ],
      "metadata": {
        "id": "-iJUT0m1Bmqf"
      },
      "execution_count": null,
      "outputs": []
    },
    {
      "cell_type": "markdown",
      "source": [
        "### 📝 Ejercicio\n",
        "\n",
        "* Se desea comparar dos textos. Encontrar las palabras del texto1 que no están en el texto2. Tareas:\n",
        "  * Identificar cual es la estructura de datos más apropiada para almacenar los textos. Asume a cada texto como una colección de solo palabras ¿cómo debería ser tu variable? ¿tipo lista,tupla,diccionario o conjunto?.\n",
        "  * Crear una función que devuelva una lista de palabras del texto 1 que no están en texto 2. Llamar a la función `diferencia_palabras`.\n"
      ],
      "metadata": {
        "id": "6KsSd4ZeeHbk"
      }
    },
    {
      "cell_type": "code",
      "source": [
        "# Ejemplo\n",
        "texto1 = 'Buenos Aires es una provincia de la región Pampeana de Argentina'\n",
        "texto2 = 'Las provincias de Salta y Jujuy forman parte de la región Norte de Argentina'"
      ],
      "metadata": {
        "id": "O1ujK6CFdDbU"
      },
      "execution_count": null,
      "outputs": []
    },
    {
      "cell_type": "code",
      "source": [],
      "metadata": {
        "id": "1BDvdApNdDmQ"
      },
      "execution_count": null,
      "outputs": []
    },
    {
      "cell_type": "markdown",
      "source": [
        "**Haz doble click para ver la respuesta**\n",
        "\n",
        "<!--\n",
        "# La estructura más apropiada es el conjunto.\n",
        "# Almacena las palabras no repetidas y mediante la operación diferencia es posible identificar las palabras del texto 1 que no están en\n",
        "# texto 2\n",
        "def diferencia_palabras(texto1,texto2):\n",
        " return [set(texto1.split(' '))-set(texto2.split(' '))]\n",
        " -->"
      ],
      "metadata": {
        "id": "nrCGC0e8OPgV"
      }
    },
    {
      "cell_type": "markdown",
      "source": [
        "# Temas vistos\n",
        "* ¿Qué es python? ¿Por qué es importante en Ciencias de Datos e IA?\n",
        "* Camino del programa\n",
        "* Programación en python\n",
        "* Estructuras de datos"
      ],
      "metadata": {
        "id": "8f-n_HeTEU-P"
      }
    },
    {
      "cell_type": "markdown",
      "source": [
        "✍ **Nota**\n",
        "\n",
        "En Python, todo es un objeto. Cuando creas una variable y le asignas un valor entero, ese valor es un objeto. Lo mismo ocurre con las funciones, listas, tuplas, diccionarios, conjuntos y cadenas de caracteres.\n",
        "La programación orientada a objetos (POO) introduce un paradigma que permite encapsular datos (atributos) y las operaciones asociadas a ellos (métodos), facilitando la organización, reutilización y mantenimiento del código.\n",
        "\n",
        "Para más información, click en [clases en Python](https://docs.python.org/es/3/tutorial/classes.html). A continuación un ejemplo asociando conceptos de POO:\n",
        "\n",
        "\n",
        "\n"
      ],
      "metadata": {
        "id": "F17n8tSiRHeH"
      }
    },
    {
      "cell_type": "code",
      "source": [
        "# Clase list que permite crear objetos listas (estructura de datos ya vista)\n",
        "# Para crear un objeto de una clase determinada, se usa el nombre de la clase y a continuación se añaden paréntesis(como si se llamara a una función).\n",
        "\n",
        "\n",
        "# Objeto lista, que es una instancia de la clase list\n",
        "lista = list((1,2,4,8)) # list() es el constructor\n",
        "print(lista)\n",
        "\n",
        "# Mediante el operador '.' podemos llamar a los atributos o métodos del objeto\n",
        "# append es un método que agrega el número 10 a al objeto lista\n",
        "lista.append(10)\n",
        "print(lista)"
      ],
      "metadata": {
        "id": "4zuehvBsSaOY"
      },
      "execution_count": null,
      "outputs": []
    },
    {
      "cell_type": "markdown",
      "source": [
        "# Referencia\n",
        "* Python Basics: A Practical Introduction to Python 3\n",
        "Revised and Updated 4th Edition\n",
        "David Amos, Dan Bader, Joanna Jablonski, Fletcher Heisler\n",
        "Copyright © Real Python (realpython.com), 2012–2020\n",
        "* Fluent Python by Luciano Ramalho\n",
        "Copyright © 2022 Luciano Ramalho. All rights reserved.\n",
        "* Pensar en Python. Aprende a pensar como un informático. 2da Edición, Versión 2.4.0.Allen Downey\n"
      ],
      "metadata": {
        "id": "k86P0isEImbG"
      }
    }
  ]
}